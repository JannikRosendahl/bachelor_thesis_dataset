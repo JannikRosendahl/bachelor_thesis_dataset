{
 "cells": [
  {
   "metadata": {},
   "cell_type": "markdown",
   "source": [
    "# subjects and parents\n",
    "idea: create a tree (or multiple) of subjects and sub-subjects.  \n",
    "use parent and child relationships as sequential relationships."
   ],
   "id": "4b9936374506e57d"
  },
  {
   "metadata": {
    "ExecuteTime": {
     "end_time": "2024-05-29T11:10:31.582625Z",
     "start_time": "2024-05-29T11:10:31.319390Z"
    }
   },
   "cell_type": "code",
   "source": [
    "import psycopg2\n",
    "import numpy as np\n",
    "import matplotlib.pyplot as plt\n",
    "import os\n",
    "import pickle\n"
   ],
   "id": "eac5c04aae08b919",
   "outputs": [],
   "execution_count": 2
  },
  {
   "metadata": {
    "ExecuteTime": {
     "end_time": "2024-05-24T11:11:36.036647Z",
     "start_time": "2024-05-24T11:11:36.027801Z"
    }
   },
   "cell_type": "code",
   "source": [
    "# setup connection\n",
    "conn = psycopg2.connect(\n",
    "    host='localhost',\n",
    "    database='cadets_e3',\n",
    "    user='rosendahl',\n",
    ")\n",
    "conn.set_session(readonly=True)\n",
    "# get cursor\n",
    "cur = conn.cursor()"
   ],
   "id": "59ee22234dda5fec",
   "execution_count": 2,
   "outputs": []
  },
  {
   "metadata": {
    "ExecuteTime": {
     "end_time": "2024-05-21T12:27:36.524563Z",
     "start_time": "2024-05-21T12:27:36.522359Z"
    }
   },
   "cell_type": "code",
   "source": [
    "# load number of events, subjects, principals\n",
    "no_events = 41350895\n",
    "no_subjects = 224629\n",
    "no_principals = 22"
   ],
   "id": "6ab78a0f02eda5c",
   "execution_count": 4,
   "outputs": []
  },
  {
   "metadata": {},
   "cell_type": "markdown",
   "source": "",
   "id": "23f3b9c43d793ae5"
  },
  {
   "metadata": {
    "ExecuteTime": {
     "end_time": "2024-05-24T11:11:38.079324Z",
     "start_time": "2024-05-24T11:11:38.032316Z"
    }
   },
   "cell_type": "code",
   "source": [
    "# debug\n",
    "os.system(\"hostnamectl hostname\")\n",
    "print(f'current working directory: {os.getcwd()}')"
   ],
   "id": "89c3d898d935ffcf",
   "execution_count": 3,
   "outputs": []
  },
  {
   "metadata": {
    "ExecuteTime": {
     "end_time": "2024-05-24T11:11:45.648218Z",
     "start_time": "2024-05-24T11:11:45.644953Z"
    }
   },
   "cell_type": "code",
   "source": [
    "# load subject_blacklist\n",
    "subject_blacklist = set()\n",
    "with open('data/blacklisted_subjects_attack.txt', 'r') as file:\n",
    "    for line in file:\n",
    "        subject_blacklist.add(line.strip())"
   ],
   "id": "3e40d3e891fe9315",
   "execution_count": 4,
   "outputs": []
  },
  {
   "metadata": {
    "ExecuteTime": {
     "end_time": "2024-05-29T11:10:44.999185Z",
     "start_time": "2024-05-29T11:10:44.995526Z"
    }
   },
   "cell_type": "code",
   "source": [
    "from functools import lru_cache\n",
    "\n",
    "class Subject:\n",
    "    uuid: str|None\n",
    "    parent_uuid: str\n",
    "    children: list\n",
    "        \n",
    "    def __init__(self, uuid: str, parent_uuid: str|None):\n",
    "        self.uuid = uuid\n",
    "        self.parent_uuid = parent_uuid\n",
    "        self.children = list()\n",
    "    \n",
    "    def add_child(self, child):\n",
    "        self.children.append(child)\n",
    "    \n",
    "    @lru_cache(maxsize=8096)\n",
    "    def find_child(self, uuid):\n",
    "        if self.uuid == uuid:\n",
    "            return self\n",
    "        for child in self.children:\n",
    "            result = child.find_child(uuid)\n",
    "            if result is not None:\n",
    "                return result\n",
    "        return None\n",
    "        \n"
   ],
   "id": "c2fd52fa874f26a7",
   "outputs": [],
   "execution_count": 4
  },
  {
   "metadata": {
    "ExecuteTime": {
     "end_time": "2024-05-20T10:09:49.367771Z",
     "start_time": "2024-05-20T10:09:48.984947Z"
    }
   },
   "cell_type": "code",
   "source": [
    "# load subjects\n",
    "query = '''\n",
    "SELECT uuid, parentsubject_uuid\n",
    "FROM subject;\n",
    "'''\n",
    "\n",
    "cur.execute(query)\n",
    "\n",
    "orphan_count = 0\n",
    "\n",
    "subjects = []\n",
    "for row in cur:\n",
    "    uuid, parent_uuid = row\n",
    "    #if uuid in subject_blacklist:\n",
    "    #    continue\n",
    "    if parent_uuid is None:\n",
    "        orphan_count += 1\n",
    "\n",
    "    subjects.append(Subject(uuid, parent_uuid))\n",
    "\n",
    "print(f'number of subjects: {len(subjects)}')\n",
    "print(f'number of orphans: {orphan_count}')\n",
    "\n",
    "root = Subject(None, None)"
   ],
   "id": "dc5ea71890a0fcf6",
   "execution_count": 7,
   "outputs": []
  },
  {
   "metadata": {
    "ExecuteTime": {
     "end_time": "2024-05-24T11:12:11.799475Z",
     "start_time": "2024-05-24T11:12:11.779145Z"
    }
   },
   "cell_type": "code",
   "source": [
    "print(f'number of subjects left: {len(subjects)}')\n",
    "\n",
    "uuids_in_tree = set()\n",
    "uuids_in_tree.add(None)\n",
    "\n",
    "iteration = 0\n",
    "while len(subjects) > 0:\n",
    "    iteration += 1\n",
    "    print(f'iteration: {iteration}, subjects left: {len(subjects)}')\n",
    "    to_remove = []\n",
    "    for subject in subjects:\n",
    "        if subject.parent_uuid in uuids_in_tree:\n",
    "            parent = root.find_child(subject.parent_uuid)\n",
    "            parent.add_child(subject)\n",
    "            to_remove.append(subject)\n",
    "            uuids_in_tree.add(subject.uuid)\n",
    "    if len(to_remove) == 0 and len(subjects) > 0:\n",
    "        print('no more subjects can be added to the tree')\n",
    "        raise Exception('no more subjects can be added to the tree')\n",
    "    subjects = [subject for subject in subjects if subject not in to_remove]\n"
   ],
   "id": "b1376f39220867b4",
   "execution_count": 8,
   "outputs": []
  },
  {
   "metadata": {
    "ExecuteTime": {
     "end_time": "2024-05-20T10:25:12.304034Z",
     "start_time": "2024-05-20T10:25:12.087398Z"
    }
   },
   "cell_type": "code",
   "source": [
    "# save tree to file\n",
    "with open('data/subject_tree.pickle', 'wb') as file:\n",
    "    pickle.dump(root, file, protocol=pickle.HIGHEST_PROTOCOL)"
   ],
   "id": "af6a9bcd06600ac",
   "execution_count": 12,
   "outputs": []
  },
  {
   "metadata": {
    "ExecuteTime": {
     "end_time": "2024-05-29T11:10:53.151271Z",
     "start_time": "2024-05-29T11:10:52.619102Z"
    }
   },
   "cell_type": "code",
   "source": [
    "# load tree from file\n",
    "with open('data/subject_tree.pickle', 'rb') as file:\n",
    "    root = pickle.load(file)\n",
    "\n",
    "uuids_in_tree = set()\n",
    "uuids_in_tree.add(None)\n",
    "\n",
    "def get_uuids_in_tree(node: Subject):\n",
    "    uuids_in_tree.add(node.uuid)\n",
    "    if len(node.children) > 0:\n",
    "        for child in node.children:\n",
    "            get_uuids_in_tree(child)\n",
    "\n",
    "get_uuids_in_tree(root)\n",
    "\n",
    "print(f'loaded tree has {len(uuids_in_tree)} distinct nodes')\n",
    "    "
   ],
   "id": "2cd1b70b522b62e5",
   "outputs": [
    {
     "name": "stdout",
     "output_type": "stream",
     "text": [
      "loaded tree has 224630 distinct nodes\n"
     ]
    }
   ],
   "execution_count": 5
  },
  {
   "metadata": {
    "ExecuteTime": {
     "end_time": "2024-05-29T11:12:06.419372Z",
     "start_time": "2024-05-29T11:12:06.349820Z"
    }
   },
   "cell_type": "code",
   "source": [
    "# get tree statistics\n",
    "max_children = 0\n",
    "uuid_max_children = None\n",
    "\n",
    "max_depth = 0\n",
    "uuid_deepest = None\n",
    "avg_depth = 0\n",
    "median_depth = []\n",
    "avg_children = 0\n",
    "median_children = []\n",
    "\n",
    "def get_tree_statistics(node, depth):\n",
    "    global max_children\n",
    "    global max_depth\n",
    "    global uuid_deepest\n",
    "    global uuid_max_children\n",
    "    global avg_depth\n",
    "    global avg_children\n",
    "    global median_children\n",
    "    if depth > max_depth:\n",
    "        max_depth = depth\n",
    "        uuid_deepest = node.uuid\n",
    "    \n",
    "    avg_children += len(node.children)\n",
    "    median_children.append(len(node.children))\n",
    "    \n",
    "    if len(node.children) == 0:\n",
    "        avg_depth += depth\n",
    "        median_depth.append(depth)\n",
    "    if len(node.children) > max_children:\n",
    "        max_children = len(node.children)\n",
    "        uuid_max_children = node.uuid\n",
    "    for child in node.children:\n",
    "        get_tree_statistics(child, depth + 1)\n",
    "\n",
    "get_tree_statistics(root, 0)\n",
    "avg_depth /= len(uuids_in_tree)\n",
    "median_depth.sort()\n",
    "median_depth = median_depth[int(len(median_depth)/2)]\n",
    "avg_children /= len(uuids_in_tree)\n",
    "median_children.sort()\n",
    "median_children = median_children[int(len(median_children)/2)]\n",
    "\n",
    "print(f'number of root nodes: {len(root.children)}')\n",
    "print(f'max depth: {max_depth} uuid: {uuid_deepest}')\n",
    "print(f'max children: {max_children} uuid: {uuid_max_children} (direct desc.)')\n",
    "print(f'average depth: {avg_depth}')\n",
    "print(f'median depth: {median_depth}')\n",
    "print(f'average children : {avg_children} (direct desc.)')\n",
    "print(f'median children: {median_children} (direct desc.)')"
   ],
   "id": "e7395a3db39a3249",
   "outputs": [
    {
     "name": "stdout",
     "output_type": "stream",
     "text": [
      "number of root nodes: 849\n",
      "max depth: 15 uuid: 989C31BF-3A10-11E8-B8CE-15D78AC88FB6\n",
      "max children: 71974 uuid: 65C53022-39C4-11E8-B8CE-15D78AC88FB6 (direct desc.)\n",
      "average depth: 2.9920625027823533\n",
      "median depth: 2\n",
      "average children : 0.9999955482348751 (direct desc.)\n",
      "median children: 0 (direct desc.)\n"
     ]
    }
   ],
   "execution_count": 7
  }
 ],
 "metadata": {
  "kernelspec": {
   "display_name": "Python 3",
   "language": "python",
   "name": "python3"
  },
  "language_info": {
   "codemirror_mode": {
    "name": "ipython",
    "version": 2
   },
   "file_extension": ".py",
   "mimetype": "text/x-python",
   "name": "python",
   "nbconvert_exporter": "python",
   "pygments_lexer": "ipython2",
   "version": "2.7.6"
  }
 },
 "nbformat": 4,
 "nbformat_minor": 5
}
