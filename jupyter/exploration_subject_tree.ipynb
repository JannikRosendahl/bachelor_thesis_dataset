{
 "cells": [
  {
   "metadata": {},
   "cell_type": "markdown",
   "source": [
    "# subjects and parents\n",
    "idea: create a tree (or multiple) of subjects and sub-subjects.  \n",
    "use parent and child relationships as sequential relationships."
   ],
   "id": "4b9936374506e57d"
  },
  {
   "metadata": {
    "ExecuteTime": {
     "end_time": "2024-05-15T13:43:05.656173Z",
     "start_time": "2024-05-15T13:43:05.410770Z"
    }
   },
   "cell_type": "code",
   "source": [
    "import psycopg2\n",
    "import numpy as np\n",
    "import matplotlib.pyplot as plt\n",
    "import os"
   ],
   "id": "eac5c04aae08b919",
   "outputs": [],
   "execution_count": 1
  },
  {
   "metadata": {
    "ExecuteTime": {
     "end_time": "2024-05-15T13:43:05.666097Z",
     "start_time": "2024-05-15T13:43:05.657948Z"
    }
   },
   "cell_type": "code",
   "source": [
    "# setup connection\n",
    "conn = psycopg2.connect(\n",
    "    host='localhost',\n",
    "    database='cadets_e3',\n",
    "    user='rosendahl',\n",
    ")\n",
    "conn.set_session(readonly=True)\n",
    "# get cursor\n",
    "cur = conn.cursor()"
   ],
   "id": "59ee22234dda5fec",
   "outputs": [],
   "execution_count": 2
  },
  {
   "metadata": {
    "ExecuteTime": {
     "end_time": "2024-05-15T13:43:05.668983Z",
     "start_time": "2024-05-15T13:43:05.666986Z"
    }
   },
   "cell_type": "code",
   "source": [
    "# load number of events, subjects, principals\n",
    "no_events = 41350895\n",
    "no_subjects = 224629\n",
    "no_principals = 22"
   ],
   "id": "6ab78a0f02eda5c",
   "outputs": [],
   "execution_count": 3
  },
  {
   "metadata": {},
   "cell_type": "markdown",
   "source": "",
   "id": "23f3b9c43d793ae5"
  },
  {
   "metadata": {
    "ExecuteTime": {
     "end_time": "2024-05-15T13:43:05.720031Z",
     "start_time": "2024-05-15T13:43:05.670202Z"
    }
   },
   "cell_type": "code",
   "source": [
    "# debug\n",
    "os.system(\"hostnamectl hostname\")\n",
    "print(f'current working directory: {os.getcwd()}')"
   ],
   "id": "89c3d898d935ffcf",
   "outputs": [
    {
     "name": "stdout",
     "output_type": "stream",
     "text": [
      "vmrosendahl\n",
      "current working directory: /home/rosendahl/remote_interpreter/dataset/jupyter\n"
     ]
    }
   ],
   "execution_count": 4
  },
  {
   "metadata": {
    "ExecuteTime": {
     "end_time": "2024-05-15T13:43:05.723728Z",
     "start_time": "2024-05-15T13:43:05.720926Z"
    }
   },
   "cell_type": "code",
   "source": [
    "# load subject_blacklist\n",
    "subject_blacklist = set()\n",
    "with open('data/blacklisted_subjects_attack.txt', 'r') as file:\n",
    "    for line in file:\n",
    "        subject_blacklist.add(line.strip())"
   ],
   "id": "3e40d3e891fe9315",
   "outputs": [],
   "execution_count": 5
  },
  {
   "metadata": {
    "ExecuteTime": {
     "end_time": "2024-05-15T14:56:30.367906Z",
     "start_time": "2024-05-15T14:56:30.364970Z"
    }
   },
   "cell_type": "code",
   "source": [
    "from functools import lru_cache\n",
    "\n",
    "class Subject:\n",
    "    uuid: str|None\n",
    "    parent_uuid: str\n",
    "    children: list\n",
    "        \n",
    "    def __init__(self, uuid: str, parent_uuid: str|None):\n",
    "        self.uuid = uuid\n",
    "        self.parent_uuid = parent_uuid\n",
    "        self.children = list()\n",
    "    \n",
    "    def add_child(self, child):\n",
    "        self.children.append(child)\n",
    "    \n",
    "    @lru_cache(maxsize=8096)\n",
    "    def find_child(self, uuid):\n",
    "        if self.uuid == uuid:\n",
    "            return self\n",
    "        for child in self.children:\n",
    "            result = child.find_child(uuid)\n",
    "            if result is not None:\n",
    "                return result\n",
    "        return None\n",
    "        \n"
   ],
   "id": "c2fd52fa874f26a7",
   "outputs": [],
   "execution_count": 120
  },
  {
   "metadata": {
    "ExecuteTime": {
     "end_time": "2024-05-15T14:56:32.040350Z",
     "start_time": "2024-05-15T14:56:31.533249Z"
    }
   },
   "cell_type": "code",
   "source": [
    "# load subjects\n",
    "query = '''\n",
    "SELECT uuid, parentsubject_uuid\n",
    "FROM subject;\n",
    "'''\n",
    "\n",
    "cur.execute(query)\n",
    "\n",
    "orphan_count = 0\n",
    "\n",
    "subjects = []\n",
    "for row in cur:\n",
    "    uuid, parent_uuid = row\n",
    "    #if uuid in subject_blacklist:\n",
    "    #    continue\n",
    "    if parent_uuid is None:\n",
    "        orphan_count += 1\n",
    "\n",
    "    subjects.append(Subject(uuid, parent_uuid))\n",
    "\n",
    "print(f'number of subjects: {len(subjects)}')\n",
    "print(f'number of orphans: {orphan_count}')\n",
    "\n",
    "root = Subject(None, None)"
   ],
   "id": "dc5ea71890a0fcf6",
   "outputs": [
    {
     "name": "stdout",
     "output_type": "stream",
     "text": [
      "number of subjects: 224629\n",
      "number of orphans: 849\n"
     ]
    }
   ],
   "execution_count": 121
  },
  {
   "metadata": {
    "ExecuteTime": {
     "end_time": "2024-05-15T15:11:57.807035Z",
     "start_time": "2024-05-15T14:56:34.615747Z"
    }
   },
   "cell_type": "code",
   "source": [
    "print(f'number of subjects left: {len(subjects)}')\n",
    "\n",
    "uuids_in_tree = set()\n",
    "uuids_in_tree.add(None)\n",
    "\n",
    "iteration = 0\n",
    "while len(subjects) > 0:\n",
    "    iteration += 1\n",
    "    print(f'iteration: {iteration}, subjects left: {len(subjects)}')\n",
    "    to_remove = []\n",
    "    for subject in subjects:\n",
    "        if subject.parent_uuid in uuids_in_tree:\n",
    "            parent = root.find_child(subject.parent_uuid)\n",
    "            parent.add_child(subject)\n",
    "            to_remove.append(subject)\n",
    "            uuids_in_tree.add(subject.uuid)\n",
    "    if len(to_remove) == 0 and len(subjects) > 0:\n",
    "        print('no more subjects can be added to the tree')\n",
    "        raise Exception('no more subjects can be added to the tree')\n",
    "    subjects = [subject for subject in subjects if subject not in to_remove]\n"
   ],
   "id": "b1376f39220867b4",
   "outputs": [
    {
     "name": "stdout",
     "output_type": "stream",
     "text": [
      "number of subjects left: 224629\n",
      "iteration: 1, subjects left: 224629\n",
      "iteration: 2, subjects left: 147910\n",
      "iteration: 3, subjects left: 22\n"
     ]
    }
   ],
   "execution_count": 122
  },
  {
   "metadata": {
    "ExecuteTime": {
     "end_time": "2024-05-15T15:54:54.852109Z",
     "start_time": "2024-05-15T15:54:54.810356Z"
    }
   },
   "cell_type": "code",
   "source": [
    "# get tree statistics\n",
    "\n",
    "max_depth = 0\n",
    "uuid_deepest = None\n",
    "max_children = 0\n",
    "uuid_max_children = None\n",
    "avg_depth = 0\n",
    "\n",
    "def get_tree_statistics(node, depth):\n",
    "    global max_depth\n",
    "    global max_children\n",
    "    global uuid_deepest\n",
    "    global uuid_max_children\n",
    "    global avg_depth\n",
    "    if depth > max_depth:\n",
    "        max_depth = depth\n",
    "        uuid_deepest = node.uuid\n",
    "    \n",
    "    if len(node.children) == 0:\n",
    "        avg_depth += depth   \n",
    "    if len(node.children) > max_children:\n",
    "        max_children = len(node.children)\n",
    "        uuid_max_children = node.uuid\n",
    "    for child in node.children:\n",
    "        get_tree_statistics(child, depth + 1)\n",
    "\n",
    "get_tree_statistics(root, 0)\n",
    "avg_depth /= len(uuids_in_tree)\n",
    "\n",
    "print(f'max depth: {max_depth} uuid: {uuid_deepest}')\n",
    "print(f'max children: {max_children} uuid: {uuid_max_children}')\n",
    "print(f'average depth: {avg_depth}')"
   ],
   "id": "e7395a3db39a3249",
   "outputs": [
    {
     "name": "stdout",
     "output_type": "stream",
     "text": [
      "max depth: 15 uuid: 989C31BF-3A10-11E8-B8CE-15D78AC88FB6\n",
      "max children: 71974 uuid: 65C53022-39C4-11E8-B8CE-15D78AC88FB6\n",
      "average depth: 2.9920625027823533\n"
     ]
    }
   ],
   "execution_count": 128
  }
 ],
 "metadata": {
  "kernelspec": {
   "display_name": "Python 3",
   "language": "python",
   "name": "python3"
  },
  "language_info": {
   "codemirror_mode": {
    "name": "ipython",
    "version": 2
   },
   "file_extension": ".py",
   "mimetype": "text/x-python",
   "name": "python",
   "nbconvert_exporter": "python",
   "pygments_lexer": "ipython2",
   "version": "2.7.6"
  }
 },
 "nbformat": 4,
 "nbformat_minor": 5
}
