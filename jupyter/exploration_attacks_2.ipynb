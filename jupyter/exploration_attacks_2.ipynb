{
 "cells": [
  {
   "metadata": {},
   "cell_type": "markdown",
   "source": [
    "# attack marking strategy 2\n",
    "Try to find a way to exclude all attack events from the data.  \n",
    "This time, try to exclude timeframes where attacks happened.  \n",
    "This data comes from the ground truth. See operational_event_log.md for more details."
   ],
   "id": "b4af5252df193319"
  },
  {
   "cell_type": "code",
   "id": "f3aea4240f5a906d",
   "metadata": {
    "collapsed": true,
    "ExecuteTime": {
     "end_time": "2024-05-15T11:24:06.205745Z",
     "start_time": "2024-05-15T11:24:05.772511Z"
    }
   },
   "source": [
    "import psycopg2\n",
    "import numpy as np\n",
    "import matplotlib.pyplot as plt\n",
    "import os"
   ],
   "outputs": [],
   "execution_count": 1
  },
  {
   "metadata": {
    "ExecuteTime": {
     "end_time": "2024-05-15T11:24:06.216968Z",
     "start_time": "2024-05-15T11:24:06.207123Z"
    }
   },
   "cell_type": "code",
   "source": [
    "# setup connection\n",
    "conn = psycopg2.connect(\n",
    "    host='localhost',\n",
    "    database='cadets_e3',\n",
    "    user='rosendahl',\n",
    ")\n",
    "conn.set_session(readonly=True)\n",
    "# get cursor\n",
    "cur = conn.cursor()"
   ],
   "id": "56f80da23b77f9b6",
   "outputs": [],
   "execution_count": 2
  },
  {
   "metadata": {
    "ExecuteTime": {
     "end_time": "2024-05-15T12:01:58.256311Z",
     "start_time": "2024-05-15T12:01:58.253773Z"
    }
   },
   "cell_type": "code",
   "source": [
    "# load number of events, subjects, principals\n",
    "no_events = 41350895\n",
    "no_subjects = 224629\n",
    "no_principals = 22"
   ],
   "id": "e3566bf02796d9ea",
   "outputs": [],
   "execution_count": 10
  },
  {
   "metadata": {
    "ExecuteTime": {
     "end_time": "2024-05-15T11:24:06.273534Z",
     "start_time": "2024-05-15T11:24:06.217772Z"
    }
   },
   "cell_type": "code",
   "source": [
    "# debug\n",
    "os.system(\"hostnamectl hostname\")\n",
    "print(f'current working directory: {os.getcwd()}')"
   ],
   "id": "38de5030ac34e8e7",
   "outputs": [
    {
     "name": "stdout",
     "output_type": "stream",
     "text": [
      "vmrosendahl\n",
      "current working directory: /home/rosendahl/remote_interpreter/dataset/jupyter\n"
     ]
    }
   ],
   "execution_count": 3
  },
  {
   "metadata": {
    "ExecuteTime": {
     "end_time": "2024-05-15T11:24:06.277243Z",
     "start_time": "2024-05-15T11:24:06.274521Z"
    }
   },
   "cell_type": "code",
   "source": [
    "# load subject_blacklist\n",
    "subject_blacklist = set()\n",
    "with open('data/blacklisted_subjects.txt', 'r') as file:\n",
    "    for line in file:\n",
    "        subject_blacklist.add(line.strip())"
   ],
   "id": "initial_id",
   "outputs": [],
   "execution_count": 4
  },
  {
   "metadata": {},
   "cell_type": "markdown",
   "source": [
    "## attack time frames\n",
    "The time frames can be found in TC_Ground_Truth_Report_E3_Update.pdf.  \n",
    "\n",
    "2018-04-06 11:20 - 12:10  \n",
    "2018-04-11 15:05 - 15:20  \n",
    "2018-04-12 14:00 - 14:40  \n",
    "2018-04-13 09:00 - 09:20  "
   ],
   "id": "946688c9f69ee5cb"
  },
  {
   "metadata": {
    "ExecuteTime": {
     "end_time": "2024-05-15T12:11:56.110504Z",
     "start_time": "2024-05-15T12:11:55.837172Z"
    }
   },
   "cell_type": "code",
   "source": [
    "query = '''\n",
    "select distinct s.uuid\n",
    "from event e\n",
    "join subject s\n",
    "on e.subject_uuid = s.uuid\n",
    "where (\n",
    "    (e.ts >= '2018-04-06 11:20' and e.ts <= '2018-04-06 12:10')\n",
    "    or (e.ts >= '2018-04-11 15:05' and e.ts <= '2018-04-11 15:20')\n",
    "    or (e.ts >= '2018-04-12 14:00' and e.ts <= '2018-04-12 14:40')\n",
    "    or (e.ts >= '2018-04-13 09:00' and e.ts <= '2018-04-13 09:20')\n",
    ");\n",
    "'''\n",
    "\n",
    "cur.execute(query)\n",
    "attack_subj_uuids_result = cur.fetchall()"
   ],
   "id": "bde1fe451cba6060",
   "outputs": [],
   "execution_count": 15
  },
  {
   "metadata": {
    "ExecuteTime": {
     "end_time": "2024-05-15T12:12:02.611397Z",
     "start_time": "2024-05-15T12:12:02.608621Z"
    }
   },
   "cell_type": "code",
   "source": [
    "attack_subj_uuids = []\n",
    "\n",
    "for row in attack_subj_uuids_result:\n",
    "    attack_subj_uuids.append(row[0])\n",
    "\n",
    "print(f'number of attack subjects: {len(attack_subj_uuids)}')"
   ],
   "id": "4fd5af48972cf23b",
   "outputs": [
    {
     "name": "stdout",
     "output_type": "stream",
     "text": [
      "number of attack subjects: 1757\n"
     ]
    }
   ],
   "execution_count": 16
  },
  {
   "metadata": {
    "ExecuteTime": {
     "end_time": "2024-05-15T13:08:55.159105Z",
     "start_time": "2024-05-15T13:08:55.155629Z"
    }
   },
   "cell_type": "code",
   "source": [
    "subject_blacklist_attack = subject_blacklist.union(set(attack_subj_uuids))\n",
    "\n",
    "# write to file\n",
    "with open('data/blacklisted_subjects_attack.txt', 'w') as file:\n",
    "    for subj in subject_blacklist_attack:\n",
    "        file.write(subj + '\\n')\n",
    "\n",
    "print(f'number of blacklisted subjects including attacks: {len(subject_blacklist_attack)}')\n",
    "print(f'share of blacklisted subjects including attacks: {len(subject_blacklist_attack)*100 / no_subjects:.5f}%')"
   ],
   "id": "80937f5707a4ae75",
   "outputs": [
    {
     "name": "stdout",
     "output_type": "stream",
     "text": [
      "number of blacklisted subjects including attacks: 2299\n",
      "share of blacklisted subjects including attacks: 1.02347%\n"
     ]
    }
   ],
   "execution_count": 22
  },
  {
   "metadata": {
    "ExecuteTime": {
     "end_time": "2024-05-15T13:09:00.252279Z",
     "start_time": "2024-05-15T13:08:57.751211Z"
    }
   },
   "cell_type": "code",
   "source": [
    "# check the share of events that are attacks\n",
    "query = '''\n",
    "select count(*)\n",
    "from event e\n",
    "join subject s\n",
    "on e.subject_uuid = s.uuid\n",
    "where s.uuid in %s;\n",
    "'''\n",
    "\n",
    "cur.execute(query, (tuple(subject_blacklist_attack),))\n",
    "attack_events_count = cur.fetchone()[0]\n",
    "\n",
    "print(f'number of attack events: {attack_events_count}')\n",
    "print(f'share of attack events: {attack_events_count*100 / no_events:.5f}%')"
   ],
   "id": "671f475e91b9c40",
   "outputs": [
    {
     "name": "stdout",
     "output_type": "stream",
     "text": [
      "number of attack events: 8094991\n",
      "share of attack events: 19.57634%\n"
     ]
    }
   ],
   "execution_count": 23
  }
 ],
 "metadata": {
  "kernelspec": {
   "display_name": "Python 3",
   "language": "python",
   "name": "python3"
  },
  "language_info": {
   "codemirror_mode": {
    "name": "ipython",
    "version": 2
   },
   "file_extension": ".py",
   "mimetype": "text/x-python",
   "name": "python",
   "nbconvert_exporter": "python",
   "pygments_lexer": "ipython2",
   "version": "2.7.6"
  }
 },
 "nbformat": 4,
 "nbformat_minor": 5
}
