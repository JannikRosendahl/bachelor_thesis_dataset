{
 "cells": [
  {
   "cell_type": "code",
   "metadata": {
    "ExecuteTime": {
     "end_time": "2024-06-26T11:14:37.790795Z",
     "start_time": "2024-06-26T11:14:37.788524Z"
    }
   },
   "source": [
    "#import psycopg2\n",
    "import os\n",
    "import psycopg2"
   ],
   "outputs": [],
   "execution_count": 35
  },
  {
   "metadata": {
    "ExecuteTime": {
     "end_time": "2024-06-26T11:14:37.802447Z",
     "start_time": "2024-06-26T11:14:37.791778Z"
    }
   },
   "cell_type": "code",
   "source": [
    "# setup connection\n",
    "conn = psycopg2.connect(\n",
    "    host='localhost',\n",
    "    database='cadets_e3',\n",
    "    user='rosendahl',\n",
    ")\n",
    "conn.set_session(readonly=True)\n",
    "# get cursor\n",
    "cur = conn.cursor()"
   ],
   "outputs": [],
   "execution_count": 36
  },
  {
   "metadata": {
    "ExecuteTime": {
     "end_time": "2024-06-26T11:14:37.859824Z",
     "start_time": "2024-06-26T11:14:37.803427Z"
    }
   },
   "cell_type": "code",
   "source": [
    "# debug\n",
    "os.system(\"hostnamectl hostname\")\n",
    "print(f'current working directory: {os.getcwd()}')"
   ],
   "outputs": [
    {
     "name": "stdout",
     "output_type": "stream",
     "text": [
      "vmrosendahl\n",
      "current working directory: /home/rosendahl/sync/dataset/jupyter\n"
     ]
    }
   ],
   "execution_count": 37
  },
  {
   "metadata": {
    "ExecuteTime": {
     "end_time": "2024-06-26T11:14:42.071795Z",
     "start_time": "2024-06-26T11:14:37.860568Z"
    }
   },
   "cell_type": "code",
   "source": [
    "# get all executables\n",
    "query = '''\n",
    "select distinct properties_map_exec\n",
    "from event\n",
    "'''\n",
    "\n",
    "cur.execute(query)\n",
    "executables = cur.fetchall()\n",
    "\n",
    "executables = [ x[0] for x in executables ]\n",
    "\n",
    "print(f'fetched {len(executables)} executables')"
   ],
   "outputs": [
    {
     "name": "stdout",
     "output_type": "stream",
     "text": [
      "fetched 136 executables\n"
     ]
    }
   ],
   "execution_count": 38
  },
  {
   "metadata": {
    "ExecuteTime": {
     "end_time": "2024-06-26T11:14:42.076135Z",
     "start_time": "2024-06-26T11:14:42.073167Z"
    }
   },
   "cell_type": "code",
   "source": [
    "# load freebsd executables from file\n",
    "filename = 'data/freebsd_executables.txt'\n",
    "\n",
    "freebsd_executables = set()\n",
    "\n",
    "with open(filename, 'r') as file:\n",
    "    for line in file:\n",
    "        freebsd_executables.add(line.strip())\n",
    "\n",
    "print(f'loaded {len(freebsd_executables)} freebsd executables')"
   ],
   "outputs": [
    {
     "name": "stdout",
     "output_type": "stream",
     "text": [
      "loaded 868 freebsd executables\n"
     ]
    }
   ],
   "execution_count": 39
  },
  {
   "metadata": {
    "ExecuteTime": {
     "end_time": "2024-06-26T11:14:42.081829Z",
     "start_time": "2024-06-26T11:14:42.076919Z"
    }
   },
   "cell_type": "code",
   "source": [
    "# compare sets\n",
    "# find all executables in the database that are not in the freebsd list\n",
    "executables = set(executables)\n",
    "\n",
    "not_in_freebsd = set(executables) - freebsd_executables\n",
    "\n",
    "print(f'found {len(not_in_freebsd)} executables not in freebsd list')\n",
    "# sort not_in_freebsd alphabetically\n",
    "not_in_freebsd.remove(None)\n",
    "not_in_freebsd = sorted(not_in_freebsd)\n",
    "for exe in not_in_freebsd:\n",
    "    print(exe)"
   ],
   "outputs": [
    {
     "name": "stdout",
     "output_type": "stream",
     "text": [
      "found 40 executables not in freebsd list\n",
      "XIM\n",
      "alpine\n",
      "anvil\n",
      "atrun\n",
      "bash\n",
      "bounce\n",
      "cleanup\n",
      "getty\n",
      "imapd\n",
      "ipop3d\n",
      "links\n",
      "local\n",
      "locate.code\n",
      "lsof\n",
      "mail\n",
      "mail.local\n",
      "mailwrapper\n",
      "main\n",
      "master\n",
      "minions\n",
      "mlock\n",
      "msgs\n",
      "nginx\n",
      "pEja72mA\n",
      "php-fpm\n",
      "pickup\n",
      "postmap\n",
      "proxymap\n",
      "python2.7\n",
      "qmgr\n",
      "screen\n",
      "sendmail\n",
      "smtp\n",
      "smtpd\n",
      "sudo\n",
      "tmux-1002\n",
      "trivial-rewrite\n",
      "vUgefal\n",
      "wget\n"
     ]
    }
   ],
   "execution_count": 40
  },
  {
   "metadata": {
    "ExecuteTime": {
     "end_time": "2024-06-26T11:15:37.651966Z",
     "start_time": "2024-06-26T11:15:37.647472Z"
    }
   },
   "cell_type": "code",
   "source": [
    "# find executables that are neither in the freebsd list nor in the arch or debian list\n",
    "filenames = [ 'data/arch_executables.txt', 'data/debian_executables.txt' ]\n",
    "\n",
    "other_executables = set()\n",
    "\n",
    "for filename in filenames:\n",
    "    with open(filename, 'r') as file:\n",
    "        for line in file:\n",
    "            other_executables.add(line.strip())\n",
    "\n",
    "print(f'loaded {len(other_executables)} other executables')\n",
    "\n",
    "in_neither = set(executables) - freebsd_executables - other_executables\n",
    "\n",
    "print(f'found {len(in_neither)} executables not in freebsd or other_executables list')\n",
    "# sort in_neither alphabetically\n",
    "in_neither.remove(None)\n",
    "in_neither = sorted(in_neither)\n",
    "for exe in in_neither:\n",
    "    print(exe)"
   ],
   "outputs": [
    {
     "name": "stdout",
     "output_type": "stream",
     "text": [
      "loaded 2077 other executables\n",
      "found 36 executables not in freebsd or other_executables list\n",
      "XIM\n",
      "alpine\n",
      "anvil\n",
      "atrun\n",
      "bounce\n",
      "cleanup\n",
      "getty\n",
      "imapd\n",
      "ipop3d\n",
      "links\n",
      "local\n",
      "locate.code\n",
      "mail\n",
      "mail.local\n",
      "mailwrapper\n",
      "main\n",
      "master\n",
      "minions\n",
      "mlock\n",
      "msgs\n",
      "nginx\n",
      "pEja72mA\n",
      "php-fpm\n",
      "pickup\n",
      "postmap\n",
      "proxymap\n",
      "python2.7\n",
      "qmgr\n",
      "screen\n",
      "sendmail\n",
      "smtp\n",
      "smtpd\n",
      "tmux-1002\n",
      "trivial-rewrite\n",
      "vUgefal\n"
     ]
    }
   ],
   "execution_count": 43
  },
  {
   "metadata": {},
   "cell_type": "code",
   "source": [
    "# destroy cursor and connection\n",
    "cur.close()\n",
    "conn.close()"
   ],
   "outputs": [],
   "execution_count": null
  }
 ],
 "metadata": {
  "language_info": {
   "name": "python"
  },
  "kernelspec": {
   "name": "python3",
   "language": "python",
   "display_name": "Python 3 (ipykernel)"
  }
 },
 "nbformat": 4,
 "nbformat_minor": 2
}
