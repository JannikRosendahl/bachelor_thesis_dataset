{
 "cells": [
  {
   "cell_type": "code",
   "id": "initial_id",
   "metadata": {
    "collapsed": true,
    "ExecuteTime": {
     "end_time": "2024-08-12T13:15:17.250742Z",
     "start_time": "2024-08-12T13:15:16.972166Z"
    }
   },
   "source": [
    "import psycopg2\n",
    "import numpy as np\n",
    "import matplotlib.pyplot as plt\n",
    "import os"
   ],
   "outputs": [],
   "execution_count": 1
  },
  {
   "metadata": {
    "ExecuteTime": {
     "end_time": "2024-08-12T13:21:32.089769Z",
     "start_time": "2024-08-12T13:21:32.081817Z"
    }
   },
   "cell_type": "code",
   "source": [
    "# setup connection\n",
    "conn = psycopg2.connect(\n",
    "    host='localhost',\n",
    "    database='cadets_e3',\n",
    "    user='rosendahl',\n",
    ")\n",
    "conn.set_session(readonly=True)\n",
    "# get cursor\n",
    "cur = conn.cursor()\n",
    "cur2 = conn.cursor()"
   ],
   "id": "83b55ad5107c07e8",
   "outputs": [],
   "execution_count": 11
  },
  {
   "metadata": {
    "ExecuteTime": {
     "end_time": "2024-08-12T13:15:18.210748Z",
     "start_time": "2024-08-12T13:15:18.150690Z"
    }
   },
   "cell_type": "code",
   "source": [
    "# debug\n",
    "os.system(\"hostnamectl hostname\")\n",
    "print(f'current working directory: {os.getcwd()}')"
   ],
   "id": "31f65ae3e72204c1",
   "outputs": [
    {
     "name": "stdout",
     "output_type": "stream",
     "text": [
      "vmrosendahl\n",
      "current working directory: /home/rosendahl/remote_interpreter/dataset/jupyter\n"
     ]
    }
   ],
   "execution_count": 3
  },
  {
   "metadata": {
    "ExecuteTime": {
     "end_time": "2024-08-12T13:15:19.772078Z",
     "start_time": "2024-08-12T13:15:19.769218Z"
    }
   },
   "cell_type": "code",
   "source": [
    "outdir = f'{os.getcwd()}/data/sequences_export_benign_filetypes_more'\n",
    "os.makedirs(outdir, exist_ok=True)"
   ],
   "id": "68226a561d65c000",
   "outputs": [],
   "execution_count": 4
  },
  {
   "metadata": {
    "ExecuteTime": {
     "end_time": "2024-08-12T13:20:38.186281Z",
     "start_time": "2024-08-12T13:20:38.183244Z"
    }
   },
   "cell_type": "code",
   "source": "print(outdir)",
   "id": "8bbcd8031ec87348",
   "outputs": [
    {
     "name": "stdout",
     "output_type": "stream",
     "text": [
      "/home/rosendahl/remote_interpreter/dataset/jupyter/data/sequences_export_benign_filetypes_more\n"
     ]
    }
   ],
   "execution_count": 10
  },
  {
   "metadata": {
    "jupyter": {
     "is_executing": true
    },
    "ExecuteTime": {
     "start_time": "2024-08-12T13:21:34.925844Z"
    }
   },
   "cell_type": "code",
   "source": [
    "# export to files\n",
    "query = '''\n",
    "select e.subject_uuid, e.properties_map_exec, e.ts, e.type, p.username_string, e.predicateobject_uuid, e.predicateobject2_uuid, fo1.type, fo1.sub_type, fo2.type, fo2.sub_type, e.predicateobjectpath_string, e.predicateobject2path_string\n",
    "from event e\n",
    "join subject s \n",
    "    on e.subject_uuid = s.uuid\n",
    "join principal p\n",
    "    on s.localprincipal = p.uuid\n",
    "left join node_uuids fo1\n",
    "    on e.predicateobject_uuid = fo1.uuid\n",
    "left join node_uuids fo2\n",
    "    on e.predicateobject2_uuid = fo2.uuid\n",
    "where e.subject_uuid in (\n",
    "    select s.subject_uuid\n",
    "    from sequence s\n",
    "    where s.ts_end < '2018-04-06 11:20:00'\n",
    "    )\n",
    "order by e.subject_uuid, e.sequence_long;\n",
    "'''\n",
    "\n",
    "cur.execute(query)\n",
    "current_subject_uuid = None\n",
    "current_executable = None\n",
    "current_ts_begin = None\n",
    "current_ts_end = None\n",
    "current_no = 0\n",
    "current_length = 0\n",
    "\n",
    "current_file = None\n",
    "\n",
    "count = 0\n",
    "file_count = 0\n",
    "\n",
    "for row in cur:\n",
    "    subject_uuid, executable, ts, event_type, user, predicateobject_uuid, predicateobject2_uuid, file_1_type, file_1_subtype, file_2_type, file_2_subtype, file_1_path, file_2_path = row\n",
    "    \n",
    "    # skip None executables\n",
    "    if executable is None:\n",
    "        continue    \n",
    "    \n",
    "    # if new sequence is encountered, save previous\n",
    "    if subject_uuid != current_subject_uuid:        \n",
    "        if current_file is not None:\n",
    "            current_file.close()\n",
    "        \n",
    "        # reset current info\n",
    "        current_subject_uuid = subject_uuid\n",
    "        current_executable = executable\n",
    "        current_ts_begin = ts\n",
    "        current_no = 0\n",
    "        current_length = 0\n",
    "        \n",
    "        # create new file\n",
    "        file_count += 1\n",
    "        current_file = open(f'{outdir}/{current_executable}_{current_subject_uuid}_{current_no}.txt', 'w')\n",
    "    \n",
    "    # new sequence start by executable change\n",
    "    elif executable != current_executable:\n",
    "        if current_file is not None:\n",
    "            current_file.close()\n",
    "\n",
    "        current_no += 1\n",
    "        current_subject_uuid = subject_uuid\n",
    "        current_executable = executable\n",
    "        \n",
    "        # create new file\n",
    "        file_count += 1\n",
    "        current_file = open(f'{outdir}/{current_executable}_{current_subject_uuid}_{current_no}.txt', 'w')\n",
    "\n",
    "    count += 1\n",
    "    file_1_type_agg = file_1_type if file_1_subtype is None else file_1_subtype\n",
    "    file_2_type_agg = file_2_type if file_2_subtype is None else file_2_subtype\n",
    "    \n",
    "    net_1_localport, net_1_localaddr, net_1_remoteport, net_1_remoteaddr = None, None, None, None\n",
    "    if file_1_type_agg == 'NETFLOW':\n",
    "        query = '''\n",
    "        select localaddress, localport, remoteaddress, remoteport\n",
    "        from netflowobject\n",
    "        where uuid = %s;\n",
    "        '''\n",
    "        cur2.execute(query, (predicateobject_uuid,))\n",
    "        net_1_localport, net_1_localaddr, net_1_remoteport, net_1_remoteaddr = cur2.fetchone()\n",
    "    net_2_localport, net_2_localaddr, net_2_remoteport, net_2_remoteaddr = None, None, None, None\n",
    "    if file_2_type_agg == 'NETFLOW':\n",
    "        query = '''\n",
    "        select localaddress, localport, remoteaddress, remoteport\n",
    "        from netflowobject\n",
    "        where uuid = %s;\n",
    "        '''\n",
    "        cur2.execute(query, (predicateobject2_uuid,))\n",
    "        net_2_localport, net_2_localaddr, net_2_remoteport, net_2_remoteaddr = cur2.fetchone()\n",
    "    \n",
    "    current_file.write(f'{event_type},{user},{file_1_type_agg},{file_2_type_agg},{file_1_path},{file_2_path},{net_1_localport},{net_1_localaddr},{net_1_remoteport},{net_1_remoteaddr},{net_2_localport},{net_2_localaddr},{net_2_remoteport},{net_2_remoteaddr}\\n')\n",
    "\n",
    "current_file.close()\n",
    "\n",
    "print(f'wrote {count} lines to {file_count} files')\n",
    "# wrote 41861755 lines to 105748 files"
   ],
   "id": "a666fe9edf6d0d49",
   "outputs": [],
   "execution_count": null
  },
  {
   "metadata": {
    "ExecuteTime": {
     "end_time": "2024-07-16T13:35:06.131471Z",
     "start_time": "2024-07-16T13:34:07.301151Z"
    }
   },
   "cell_type": "code",
   "source": [
    "# check if all files correspond to an entry in db table 'sequence'\n",
    "\n",
    "list_files = os.listdir(outdir)\n",
    "\n",
    "query = '''\n",
    "select count(*)\n",
    "from sequence\n",
    "where executable = %s and subject_uuid = %s and id = %s;\n",
    "'''\n",
    "\n",
    "for file in list_files:\n",
    "    file = file[0:-len('.txt')]\n",
    "    if file.count('_') == 2:\n",
    "        executable, subject_uuid, no = file.split('_')\n",
    "    elif file.count('_') == 3:\n",
    "        # pwd_mkdb\n",
    "        executable, tmp, subject_uuid, no = file.split('_')\n",
    "        executable += '_' + tmp\n",
    "    else:\n",
    "        print(f'error: {file}')\n",
    "\n",
    "    cur.execute(query, (executable, subject_uuid, no))\n",
    "    count = cur.fetchone()[0]\n",
    "    \n",
    "    if count == 0:\n",
    "        print(f'{file} not in db')\n",
    "\n",
    "    "
   ],
   "id": "3ef63babe351bae2",
   "outputs": [],
   "execution_count": 33
  },
  {
   "metadata": {
    "ExecuteTime": {
     "end_time": "2024-07-16T13:47:48.064173Z",
     "start_time": "2024-07-16T13:47:47.764136Z"
    }
   },
   "cell_type": "code",
   "source": [
    "# debug\n",
    "\n",
    "list_files = os.listdir(outdir)\n",
    "\n",
    "data = []\n",
    "\n",
    "for file in list_files:\n",
    "    # file name has pattern *_{num}.txt, extract num\n",
    "    num = int(file.split('_')[-1][0:-len('.txt')]) + 1\n",
    "    data.append(num)\n",
    "\n",
    "data = np.array(data)\n",
    "\n",
    "# get mean, std, min, max, median\n",
    "mean = np.mean(data)\n",
    "std = np.std(data)\n",
    "min = np.min(data)\n",
    "max = np.max(data)\n",
    "median = np.median(data)\n",
    "\n",
    "print(f'mean: {mean}, std: {std}, min: {min}, max: {max}, median: {median}')"
   ],
   "id": "406a46f56bae2083",
   "outputs": [
    {
     "name": "stdout",
     "output_type": "stream",
     "text": [
      "mean: 1.489336528554394, std: 0.5163005621384521, min: 1, max: 4, median: 1.0\n"
     ]
    }
   ],
   "execution_count": 6
  },
  {
   "metadata": {
    "ExecuteTime": {
     "end_time": "2024-07-16T08:52:40.245045Z",
     "start_time": "2024-07-16T08:52:40.243034Z"
    }
   },
   "cell_type": "code",
   "source": [
    "#   41 350 895\n",
    "# -     60 026 (null executables)\n",
    "# = 41 290 869"
   ],
   "id": "5db1d1a84d884832",
   "outputs": [],
   "execution_count": 52
  },
  {
   "metadata": {
    "ExecuteTime": {
     "end_time": "2024-08-12T13:20:09.473646Z",
     "start_time": "2024-08-12T13:20:09.427510Z"
    }
   },
   "cell_type": "code",
   "source": [
    "# destroy cursor and connection\n",
    "cur.close()\n",
    "conn.close()"
   ],
   "id": "5bcb22fc5d0a744e",
   "outputs": [],
   "execution_count": 9
  }
 ],
 "metadata": {
  "kernelspec": {
   "display_name": "Python 3",
   "language": "python",
   "name": "python3"
  },
  "language_info": {
   "codemirror_mode": {
    "name": "ipython",
    "version": 2
   },
   "file_extension": ".py",
   "mimetype": "text/x-python",
   "name": "python",
   "nbconvert_exporter": "python",
   "pygments_lexer": "ipython2",
   "version": "2.7.6"
  }
 },
 "nbformat": 4,
 "nbformat_minor": 5
}
