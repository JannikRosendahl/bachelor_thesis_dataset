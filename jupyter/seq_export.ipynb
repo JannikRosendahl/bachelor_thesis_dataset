{
 "cells": [
  {
   "cell_type": "code",
   "id": "initial_id",
   "metadata": {
    "collapsed": true,
    "ExecuteTime": {
     "end_time": "2024-07-16T13:45:26.524937Z",
     "start_time": "2024-07-16T13:45:26.233377Z"
    }
   },
   "source": [
    "import psycopg2\n",
    "import numpy as np\n",
    "import matplotlib.pyplot as plt\n",
    "import os"
   ],
   "outputs": [],
   "execution_count": 1
  },
  {
   "metadata": {
    "ExecuteTime": {
     "end_time": "2024-07-16T13:33:50.520173Z",
     "start_time": "2024-07-16T13:33:50.512060Z"
    }
   },
   "cell_type": "code",
   "source": [
    "# setup connection\n",
    "conn = psycopg2.connect(\n",
    "    host='localhost',\n",
    "    database='cadets_e3',\n",
    "    user='rosendahl',\n",
    ")\n",
    "conn.set_session(readonly=True)\n",
    "# get cursor\n",
    "cur = conn.cursor()\n",
    "cur2 = conn.cursor()"
   ],
   "id": "83b55ad5107c07e8",
   "outputs": [],
   "execution_count": 30
  },
  {
   "metadata": {
    "ExecuteTime": {
     "end_time": "2024-07-16T13:45:27.977367Z",
     "start_time": "2024-07-16T13:45:27.899591Z"
    }
   },
   "cell_type": "code",
   "source": [
    "# debug\n",
    "os.system(\"hostnamectl hostname\")\n",
    "print(f'current working directory: {os.getcwd()}')"
   ],
   "id": "31f65ae3e72204c1",
   "outputs": [
    {
     "name": "stdout",
     "output_type": "stream",
     "text": [
      "vmrosendahl\n",
      "current working directory: /home/rosendahl/remote_interpreter/dataset/jupyter\n"
     ]
    }
   ],
   "execution_count": 2
  },
  {
   "metadata": {
    "ExecuteTime": {
     "end_time": "2024-07-16T13:45:29.629491Z",
     "start_time": "2024-07-16T13:45:29.626760Z"
    }
   },
   "cell_type": "code",
   "source": [
    "outdir = f'{os.getcwd()}/data/sequences_export'\n",
    "os.makedirs(outdir, exist_ok=True)"
   ],
   "id": "68226a561d65c000",
   "outputs": [],
   "execution_count": 3
  },
  {
   "metadata": {
    "ExecuteTime": {
     "end_time": "2024-07-16T11:44:38.705883Z",
     "start_time": "2024-07-16T11:44:00.771383Z"
    }
   },
   "cell_type": "code",
   "source": [
    "# export to files\n",
    "query = '''\n",
    "select e.subject_uuid, e.properties_map_exec, e.ts, e.type\n",
    "from event e\n",
    "join subject s \n",
    "    on e.subject_uuid = s.uuid\n",
    "order by e.subject_uuid, e.sequence_long;\n",
    "'''\n",
    "\n",
    "cur.execute(query)\n",
    "current_subject_uuid = None\n",
    "current_executable = None\n",
    "current_ts_begin = None\n",
    "current_ts_end = None\n",
    "current_no = 0\n",
    "current_length = 0\n",
    "\n",
    "current_file = None\n",
    "\n",
    "count = 0\n",
    "\n",
    "for row in cur:\n",
    "    subject_uuid, executable, ts, event_type = row\n",
    "    \n",
    "    # skip None executables\n",
    "    if executable is None:\n",
    "        continue    \n",
    "    \n",
    "    # if new sequence is encountered, save previous\n",
    "    if subject_uuid != current_subject_uuid:        \n",
    "        if current_file is not None:\n",
    "            current_file.close()\n",
    "        \n",
    "        # reset current info\n",
    "        current_subject_uuid = subject_uuid\n",
    "        current_executable = executable\n",
    "        current_ts_begin = ts\n",
    "        current_no = 0\n",
    "        current_length = 0\n",
    "        \n",
    "        # create new file\n",
    "        current_file = open(f'{outdir}/{current_executable}_{current_subject_uuid}_{current_no}.txt', 'w')\n",
    "    \n",
    "    # new sequence start by executable change\n",
    "    elif executable != current_executable:\n",
    "        if current_file is not None:\n",
    "            current_file.close()\n",
    "\n",
    "        current_no += 1\n",
    "        current_subject_uuid = subject_uuid\n",
    "        current_executable = executable\n",
    "        \n",
    "        # create new file\n",
    "        current_file = open(f'{outdir}/{current_executable}_{current_subject_uuid}_{current_no}.txt', 'w')\n",
    "\n",
    "    count += 1\n",
    "    current_file.write(f'{event_type}\\n')\n",
    "\n",
    "current_file.close()\n",
    "\n",
    "print(f'wrote {count} lines')"
   ],
   "id": "a666fe9edf6d0d49",
   "outputs": [
    {
     "ename": "KeyboardInterrupt",
     "evalue": "",
     "output_type": "error",
     "traceback": [
      "\u001B[0;31m---------------------------------------------------------------------------\u001B[0m",
      "\u001B[0;31mKeyboardInterrupt\u001B[0m                         Traceback (most recent call last)",
      "Cell \u001B[0;32mIn[23], line 9\u001B[0m\n\u001B[1;32m      1\u001B[0m query \u001B[38;5;241m=\u001B[39m \u001B[38;5;124m'''\u001B[39m\n\u001B[1;32m      2\u001B[0m \u001B[38;5;124mselect e.subject_uuid, e.properties_map_exec, e.ts, e.type\u001B[39m\n\u001B[1;32m      3\u001B[0m \u001B[38;5;124mfrom event e\u001B[39m\n\u001B[0;32m   (...)\u001B[0m\n\u001B[1;32m      6\u001B[0m \u001B[38;5;124morder by e.subject_uuid, e.sequence_long;\u001B[39m\n\u001B[1;32m      7\u001B[0m \u001B[38;5;124m'''\u001B[39m\n\u001B[0;32m----> 9\u001B[0m \u001B[43mcur\u001B[49m\u001B[38;5;241;43m.\u001B[39;49m\u001B[43mexecute\u001B[49m\u001B[43m(\u001B[49m\u001B[43mquery\u001B[49m\u001B[43m)\u001B[49m\n\u001B[1;32m     10\u001B[0m current_subject_uuid \u001B[38;5;241m=\u001B[39m \u001B[38;5;28;01mNone\u001B[39;00m\n\u001B[1;32m     11\u001B[0m current_executable \u001B[38;5;241m=\u001B[39m \u001B[38;5;28;01mNone\u001B[39;00m\n",
      "File \u001B[0;32m/usr/lib/python3.11/encodings/utf_8.py:15\u001B[0m, in \u001B[0;36mdecode\u001B[0;34m(input, errors)\u001B[0m\n\u001B[1;32m     11\u001B[0m \u001B[38;5;66;03m### Codec APIs\u001B[39;00m\n\u001B[1;32m     13\u001B[0m encode \u001B[38;5;241m=\u001B[39m codecs\u001B[38;5;241m.\u001B[39mutf_8_encode\n\u001B[0;32m---> 15\u001B[0m \u001B[38;5;28;01mdef\u001B[39;00m \u001B[38;5;21mdecode\u001B[39m(\u001B[38;5;28minput\u001B[39m, errors\u001B[38;5;241m=\u001B[39m\u001B[38;5;124m'\u001B[39m\u001B[38;5;124mstrict\u001B[39m\u001B[38;5;124m'\u001B[39m):\n\u001B[1;32m     16\u001B[0m     \u001B[38;5;28;01mreturn\u001B[39;00m codecs\u001B[38;5;241m.\u001B[39mutf_8_decode(\u001B[38;5;28minput\u001B[39m, errors, \u001B[38;5;28;01mTrue\u001B[39;00m)\n\u001B[1;32m     18\u001B[0m \u001B[38;5;28;01mclass\u001B[39;00m \u001B[38;5;21;01mIncrementalEncoder\u001B[39;00m(codecs\u001B[38;5;241m.\u001B[39mIncrementalEncoder):\n",
      "\u001B[0;31mKeyboardInterrupt\u001B[0m: "
     ]
    }
   ],
   "execution_count": 23
  },
  {
   "metadata": {
    "ExecuteTime": {
     "end_time": "2024-07-16T13:35:06.131471Z",
     "start_time": "2024-07-16T13:34:07.301151Z"
    }
   },
   "cell_type": "code",
   "source": [
    "# check if all files correspond to an entry in db table 'sequence'\n",
    "\n",
    "list_files = os.listdir(outdir)\n",
    "\n",
    "query = '''\n",
    "select count(*)\n",
    "from sequence\n",
    "where executable = %s and subject_uuid = %s and id = %s;\n",
    "'''\n",
    "\n",
    "for file in list_files:\n",
    "    file = file[0:-len('.txt')]\n",
    "    if file.count('_') == 2:\n",
    "        executable, subject_uuid, no = file.split('_')\n",
    "    elif file.count('_') == 3:\n",
    "        # pwd_mkdb\n",
    "        executable, tmp, subject_uuid, no = file.split('_')\n",
    "        executable += '_' + tmp\n",
    "    else:\n",
    "        print(f'error: {file}')\n",
    "\n",
    "    cur.execute(query, (executable, subject_uuid, no))\n",
    "    count = cur.fetchone()[0]\n",
    "    \n",
    "    if count == 0:\n",
    "        print(f'{file} not in db')\n",
    "\n",
    "    "
   ],
   "id": "3ef63babe351bae2",
   "outputs": [],
   "execution_count": 33
  },
  {
   "metadata": {
    "ExecuteTime": {
     "end_time": "2024-07-16T13:47:48.064173Z",
     "start_time": "2024-07-16T13:47:47.764136Z"
    }
   },
   "cell_type": "code",
   "source": [
    "# debug\n",
    "\n",
    "list_files = os.listdir(outdir)\n",
    "\n",
    "data = []\n",
    "\n",
    "for file in list_files:\n",
    "    # file name has pattern *_{num}.txt, extract num\n",
    "    num = int(file.split('_')[-1][0:-len('.txt')]) + 1\n",
    "    data.append(num)\n",
    "\n",
    "data = np.array(data)\n",
    "\n",
    "# get mean, std, min, max, median\n",
    "mean = np.mean(data)\n",
    "std = np.std(data)\n",
    "min = np.min(data)\n",
    "max = np.max(data)\n",
    "median = np.median(data)\n",
    "\n",
    "print(f'mean: {mean}, std: {std}, min: {min}, max: {max}, median: {median}')"
   ],
   "id": "406a46f56bae2083",
   "outputs": [
    {
     "name": "stdout",
     "output_type": "stream",
     "text": [
      "mean: 1.489336528554394, std: 0.5163005621384521, min: 1, max: 4, median: 1.0\n"
     ]
    }
   ],
   "execution_count": 6
  },
  {
   "metadata": {
    "ExecuteTime": {
     "end_time": "2024-07-16T08:52:40.245045Z",
     "start_time": "2024-07-16T08:52:40.243034Z"
    }
   },
   "cell_type": "code",
   "source": [
    "#   41 350 895\n",
    "# -     60 026 (null executables)\n",
    "# = 41 290 869"
   ],
   "id": "5db1d1a84d884832",
   "outputs": [],
   "execution_count": 52
  },
  {
   "metadata": {
    "ExecuteTime": {
     "end_time": "2024-07-16T13:36:47.890157Z",
     "start_time": "2024-07-16T13:36:47.887530Z"
    }
   },
   "cell_type": "code",
   "source": [
    "# destroy cursor and connection\n",
    "cur.close()\n",
    "conn.close()"
   ],
   "id": "5bcb22fc5d0a744e",
   "outputs": [],
   "execution_count": 34
  }
 ],
 "metadata": {
  "kernelspec": {
   "display_name": "Python 3",
   "language": "python",
   "name": "python3"
  },
  "language_info": {
   "codemirror_mode": {
    "name": "ipython",
    "version": 2
   },
   "file_extension": ".py",
   "mimetype": "text/x-python",
   "name": "python",
   "nbconvert_exporter": "python",
   "pygments_lexer": "ipython2",
   "version": "2.7.6"
  }
 },
 "nbformat": 4,
 "nbformat_minor": 5
}
