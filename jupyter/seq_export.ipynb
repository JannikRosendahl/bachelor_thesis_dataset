{
 "cells": [
  {
   "cell_type": "code",
   "id": "initial_id",
   "metadata": {
    "collapsed": true,
    "ExecuteTime": {
     "end_time": "2024-07-24T07:19:48.300889Z",
     "start_time": "2024-07-24T07:19:48.022529Z"
    }
   },
   "source": [
    "import psycopg2\n",
    "import numpy as np\n",
    "import matplotlib.pyplot as plt\n",
    "import os"
   ],
   "outputs": [],
   "execution_count": 1
  },
  {
   "metadata": {
    "ExecuteTime": {
     "end_time": "2024-07-24T07:19:48.773863Z",
     "start_time": "2024-07-24T07:19:48.765904Z"
    }
   },
   "cell_type": "code",
   "source": [
    "# setup connection\n",
    "conn = psycopg2.connect(\n",
    "    host='localhost',\n",
    "    database='cadets_e3',\n",
    "    user='rosendahl',\n",
    ")\n",
    "conn.set_session(readonly=True)\n",
    "# get cursor\n",
    "cur = conn.cursor()\n",
    "cur2 = conn.cursor()"
   ],
   "id": "83b55ad5107c07e8",
   "outputs": [],
   "execution_count": 2
  },
  {
   "metadata": {
    "ExecuteTime": {
     "end_time": "2024-07-24T07:19:50.508004Z",
     "start_time": "2024-07-24T07:19:50.439246Z"
    }
   },
   "cell_type": "code",
   "source": [
    "# debug\n",
    "os.system(\"hostnamectl hostname\")\n",
    "print(f'current working directory: {os.getcwd()}')"
   ],
   "id": "31f65ae3e72204c1",
   "outputs": [
    {
     "name": "stdout",
     "output_type": "stream",
     "text": [
      "vmrosendahl\n",
      "current working directory: /home/rosendahl/remote_interpreter/dataset/jupyter\n"
     ]
    }
   ],
   "execution_count": 3
  },
  {
   "metadata": {
    "ExecuteTime": {
     "end_time": "2024-07-24T07:19:53.914086Z",
     "start_time": "2024-07-24T07:19:53.911136Z"
    }
   },
   "cell_type": "code",
   "source": [
    "outdir = f'{os.getcwd()}/data/sequences_export_benign'\n",
    "os.makedirs(outdir, exist_ok=True)"
   ],
   "id": "68226a561d65c000",
   "outputs": [],
   "execution_count": 4
  },
  {
   "metadata": {
    "ExecuteTime": {
     "end_time": "2024-07-24T07:20:44.828183Z",
     "start_time": "2024-07-24T07:19:59.009142Z"
    }
   },
   "cell_type": "code",
   "source": [
    "# export to files\n",
    "query = '''\n",
    "select e.subject_uuid, e.properties_map_exec, e.ts, e.type, p.username_string, e.predicateobjectpath_string\n",
    "from event e\n",
    "join subject s \n",
    "    on e.subject_uuid = s.uuid\n",
    "join principal p\n",
    "    on s.localprincipal = p.uuid\n",
    "where e.subject_uuid in (\n",
    "    select s.subject_uuid\n",
    "    from sequence s\n",
    "    where s.ts_end < '2018-04-06 11:20:00'\n",
    "    )\n",
    "order by e.subject_uuid, e.sequence_long;\n",
    "'''\n",
    "\n",
    "cur.execute(query)\n",
    "current_subject_uuid = None\n",
    "current_executable = None\n",
    "current_ts_begin = None\n",
    "current_ts_end = None\n",
    "current_no = 0\n",
    "current_length = 0\n",
    "\n",
    "current_file = None\n",
    "\n",
    "count = 0\n",
    "file_count = 0\n",
    "\n",
    "for row in cur:\n",
    "    subject_uuid, executable, ts, event_type, user, obj_1_path = row\n",
    "    if obj_1_path is not None:\n",
    "        obj_1_path = obj_1_path.replace(',', '_')\n",
    "    \n",
    "    # skip None executables\n",
    "    if executable is None:\n",
    "        continue    \n",
    "    \n",
    "    # if new sequence is encountered, save previous\n",
    "    if subject_uuid != current_subject_uuid:        \n",
    "        if current_file is not None:\n",
    "            current_file.close()\n",
    "        \n",
    "        # reset current info\n",
    "        current_subject_uuid = subject_uuid\n",
    "        current_executable = executable\n",
    "        current_ts_begin = ts\n",
    "        current_no = 0\n",
    "        current_length = 0\n",
    "        \n",
    "        # create new file\n",
    "        current_file = open(f'{outdir}/{current_executable}_{current_subject_uuid}_{current_no}.txt', 'w')\n",
    "    \n",
    "    # new sequence start by executable change\n",
    "    elif executable != current_executable:\n",
    "        if current_file is not None:\n",
    "            current_file.close()\n",
    "\n",
    "        current_no += 1\n",
    "        current_subject_uuid = subject_uuid\n",
    "        current_executable = executable\n",
    "        \n",
    "        # create new file\n",
    "        file_count += 1\n",
    "        current_file = open(f'{outdir}/{current_executable}_{current_subject_uuid}_{current_no}.txt', 'w')\n",
    "\n",
    "    count += 1\n",
    "    current_file.write(f'{event_type},{user},{obj_1_path}\\n')\n",
    "\n",
    "current_file.close()\n",
    "\n",
    "print(f'wrote {count} lines to {file_count} files')"
   ],
   "id": "a666fe9edf6d0d49",
   "outputs": [
    {
     "name": "stdout",
     "output_type": "stream",
     "text": [
      "wrote 17703948 lines to 105748 files\n"
     ]
    }
   ],
   "execution_count": 5
  },
  {
   "metadata": {
    "ExecuteTime": {
     "end_time": "2024-07-16T13:35:06.131471Z",
     "start_time": "2024-07-16T13:34:07.301151Z"
    }
   },
   "cell_type": "code",
   "source": [
    "# check if all files correspond to an entry in db table 'sequence'\n",
    "\n",
    "list_files = os.listdir(outdir)\n",
    "\n",
    "query = '''\n",
    "select count(*)\n",
    "from sequence\n",
    "where executable = %s and subject_uuid = %s and id = %s;\n",
    "'''\n",
    "\n",
    "for file in list_files:\n",
    "    file = file[0:-len('.txt')]\n",
    "    if file.count('_') == 2:\n",
    "        executable, subject_uuid, no = file.split('_')\n",
    "    elif file.count('_') == 3:\n",
    "        # pwd_mkdb\n",
    "        executable, tmp, subject_uuid, no = file.split('_')\n",
    "        executable += '_' + tmp\n",
    "    else:\n",
    "        print(f'error: {file}')\n",
    "\n",
    "    cur.execute(query, (executable, subject_uuid, no))\n",
    "    count = cur.fetchone()[0]\n",
    "    \n",
    "    if count == 0:\n",
    "        print(f'{file} not in db')\n",
    "\n",
    "    "
   ],
   "id": "3ef63babe351bae2",
   "outputs": [],
   "execution_count": 33
  },
  {
   "metadata": {
    "ExecuteTime": {
     "end_time": "2024-07-16T13:47:48.064173Z",
     "start_time": "2024-07-16T13:47:47.764136Z"
    }
   },
   "cell_type": "code",
   "source": [
    "# debug\n",
    "\n",
    "list_files = os.listdir(outdir)\n",
    "\n",
    "data = []\n",
    "\n",
    "for file in list_files:\n",
    "    # file name has pattern *_{num}.txt, extract num\n",
    "    num = int(file.split('_')[-1][0:-len('.txt')]) + 1\n",
    "    data.append(num)\n",
    "\n",
    "data = np.array(data)\n",
    "\n",
    "# get mean, std, min, max, median\n",
    "mean = np.mean(data)\n",
    "std = np.std(data)\n",
    "min = np.min(data)\n",
    "max = np.max(data)\n",
    "median = np.median(data)\n",
    "\n",
    "print(f'mean: {mean}, std: {std}, min: {min}, max: {max}, median: {median}')"
   ],
   "id": "406a46f56bae2083",
   "outputs": [
    {
     "name": "stdout",
     "output_type": "stream",
     "text": [
      "mean: 1.489336528554394, std: 0.5163005621384521, min: 1, max: 4, median: 1.0\n"
     ]
    }
   ],
   "execution_count": 6
  },
  {
   "metadata": {
    "ExecuteTime": {
     "end_time": "2024-07-16T08:52:40.245045Z",
     "start_time": "2024-07-16T08:52:40.243034Z"
    }
   },
   "cell_type": "code",
   "source": [
    "#   41 350 895\n",
    "# -     60 026 (null executables)\n",
    "# = 41 290 869"
   ],
   "id": "5db1d1a84d884832",
   "outputs": [],
   "execution_count": 52
  },
  {
   "metadata": {
    "ExecuteTime": {
     "end_time": "2024-07-16T13:36:47.890157Z",
     "start_time": "2024-07-16T13:36:47.887530Z"
    }
   },
   "cell_type": "code",
   "source": [
    "# destroy cursor and connection\n",
    "cur.close()\n",
    "conn.close()"
   ],
   "id": "5bcb22fc5d0a744e",
   "outputs": [],
   "execution_count": 34
  }
 ],
 "metadata": {
  "kernelspec": {
   "display_name": "Python 3",
   "language": "python",
   "name": "python3"
  },
  "language_info": {
   "codemirror_mode": {
    "name": "ipython",
    "version": 2
   },
   "file_extension": ".py",
   "mimetype": "text/x-python",
   "name": "python",
   "nbconvert_exporter": "python",
   "pygments_lexer": "ipython2",
   "version": "2.7.6"
  }
 },
 "nbformat": 4,
 "nbformat_minor": 5
}
