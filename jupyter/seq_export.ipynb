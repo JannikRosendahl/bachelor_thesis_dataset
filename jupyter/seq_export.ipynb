{
 "cells": [
  {
   "cell_type": "code",
   "id": "initial_id",
   "metadata": {
    "collapsed": true,
    "ExecuteTime": {
     "end_time": "2024-08-20T07:48:52.284589Z",
     "start_time": "2024-08-20T07:48:52.026432Z"
    }
   },
   "source": [
    "import psycopg2\n",
    "import numpy as np\n",
    "import matplotlib.pyplot as plt\n",
    "import os"
   ],
   "outputs": [],
   "execution_count": 1
  },
  {
   "metadata": {
    "ExecuteTime": {
     "end_time": "2024-08-20T08:11:17.790498Z",
     "start_time": "2024-08-20T08:11:17.725899Z"
    }
   },
   "cell_type": "code",
   "source": [
    "# setup connection\n",
    "conn = psycopg2.connect(\n",
    "    host='localhost',\n",
    "    database='cadets_e3',\n",
    "    user='rosendahl',\n",
    ")\n",
    "conn.set_session(readonly=True)\n",
    "# get cursor\n",
    "cur = conn.cursor()\n",
    "cur2 = conn.cursor()"
   ],
   "id": "83b55ad5107c07e8",
   "outputs": [],
   "execution_count": 17
  },
  {
   "metadata": {
    "ExecuteTime": {
     "end_time": "2024-08-20T07:48:53.401664Z",
     "start_time": "2024-08-20T07:48:53.345998Z"
    }
   },
   "cell_type": "code",
   "source": [
    "# debug\n",
    "os.system(\"hostnamectl hostname\")\n",
    "print(f'current working directory: {os.getcwd()}')"
   ],
   "id": "31f65ae3e72204c1",
   "outputs": [
    {
     "name": "stdout",
     "output_type": "stream",
     "text": [
      "vmrosendahl\n",
      "current working directory: /home/rosendahl/remote_interpreter/dataset/jupyter\n"
     ]
    }
   ],
   "execution_count": 3
  },
  {
   "metadata": {
    "ExecuteTime": {
     "end_time": "2024-08-20T07:48:55.132209Z",
     "start_time": "2024-08-20T07:48:55.129707Z"
    }
   },
   "cell_type": "code",
   "source": [
    "outdir = f'{os.getcwd()}/data/sequences_export_benign_filetypes_path_ts'\n",
    "os.makedirs(outdir, exist_ok=True)"
   ],
   "id": "68226a561d65c000",
   "outputs": [],
   "execution_count": 4
  },
  {
   "metadata": {
    "ExecuteTime": {
     "end_time": "2024-08-20T07:48:56.785643Z",
     "start_time": "2024-08-20T07:48:56.782898Z"
    }
   },
   "cell_type": "code",
   "source": "print(outdir)",
   "id": "8bbcd8031ec87348",
   "outputs": [
    {
     "name": "stdout",
     "output_type": "stream",
     "text": [
      "/home/rosendahl/remote_interpreter/dataset/jupyter/data/sequences_export_benign_filetypes_path_ts\n"
     ]
    }
   ],
   "execution_count": 5
  },
  {
   "metadata": {
    "ExecuteTime": {
     "end_time": "2024-08-20T09:41:59.380059Z",
     "start_time": "2024-08-20T08:11:21.658609Z"
    }
   },
   "cell_type": "code",
   "source": [
    "# export to files\n",
    "query = '''\n",
    "select e.subject_uuid, e.properties_map_exec, e.ts, e.timestampnanos, e.type, p.username_string, e.predicateobject_uuid, e.predicateobject2_uuid, fo1.type, fo1.sub_type, fo2.type, fo2.sub_type, e.predicateobjectpath_string, e.predicateobject2path_string\n",
    "from event e\n",
    "join subject s \n",
    "    on e.subject_uuid = s.uuid\n",
    "join principal p\n",
    "    on s.localprincipal = p.uuid\n",
    "left join node_uuids fo1\n",
    "    on e.predicateobject_uuid = fo1.uuid\n",
    "left join node_uuids fo2\n",
    "    on e.predicateobject2_uuid = fo2.uuid\n",
    "where e.subject_uuid in (\n",
    "    select s.subject_uuid\n",
    "    from sequence s\n",
    "    where s.ts_end < '2018-04-06 11:20:00'\n",
    "    )\n",
    "order by e.subject_uuid, e.sequence_long;\n",
    "'''\n",
    "\n",
    "cur.execute(query)\n",
    "current_subject_uuid = None\n",
    "current_executable = None\n",
    "current_ts_begin = None\n",
    "current_ts_end = None\n",
    "current_ts_nanos = None\n",
    "current_no = 0\n",
    "current_length = 0\n",
    "\n",
    "current_file = None\n",
    "\n",
    "count = 0\n",
    "file_count = 0\n",
    "\n",
    "for row in cur:\n",
    "    subject_uuid, executable, ts, ts_nanos, event_type, user, predicateobject_uuid, predicateobject2_uuid, file_1_type, file_1_subtype, file_2_type, file_2_subtype, file_1_path, file_2_path = row\n",
    "    \n",
    "    # skip None executables\n",
    "    if executable is None:\n",
    "        continue    \n",
    "    \n",
    "    # remove everything after a comma in file paths\n",
    "    if file_1_path is not None and ',' in file_1_path:\n",
    "        file_1_path = file_1_path.split(',')[0]\n",
    "    if file_2_path is not None and ',' in file_2_path:\n",
    "        file_2_path = file_2_path.split(',')[0]\n",
    "        \n",
    "    # if new sequence is encountered, save previous\n",
    "    if subject_uuid != current_subject_uuid:        \n",
    "        if current_file is not None:\n",
    "            current_file.close()\n",
    "        \n",
    "        # reset current info\n",
    "        current_subject_uuid = subject_uuid\n",
    "        current_executable = executable\n",
    "        current_ts_begin = ts\n",
    "        current_ts_nanos = ts_nanos\n",
    "        current_no = 0\n",
    "        current_length = 0\n",
    "        \n",
    "        # create new file\n",
    "        file_count += 1\n",
    "        current_file = open(f'{outdir}/{current_executable}_{current_subject_uuid}_{current_no}.txt', 'w')\n",
    "    \n",
    "    # new sequence start by executable change\n",
    "    elif executable != current_executable:\n",
    "        if current_file is not None:\n",
    "            current_file.close()\n",
    "\n",
    "        current_no += 1\n",
    "        current_subject_uuid = subject_uuid\n",
    "        current_executable = executable\n",
    "        current_ts_nanos = ts_nanos\n",
    "        \n",
    "        # create new file\n",
    "        file_count += 1\n",
    "        current_file = open(f'{outdir}/{current_executable}_{current_subject_uuid}_{current_no}.txt', 'w')\n",
    "\n",
    "    count += 1\n",
    "\n",
    "    # calc delta ts\n",
    "    if current_ts_nanos is None:\n",
    "        current_ts_nanos = ts_nanos\n",
    "        delta_ts = 0\n",
    "    else:\n",
    "        delta_ts = ts_nanos - current_ts_nanos\n",
    "        if delta_ts < 0:\n",
    "            print(f'error: delta_ts < 0: {delta_ts}')\n",
    "            print(f'subject_uuid: {subject_uuid}, executable: {executable}, ts: {ts}, ts_nanos: {ts_nanos}, current_ts_nanos: {current_ts_nanos}')\n",
    "            assert delta_ts >= 0\n",
    "        current_ts_nanos = ts_nanos\n",
    "\n",
    "    file_1_type_agg = file_1_type if file_1_subtype is None else file_1_subtype\n",
    "    file_2_type_agg = file_2_type if file_2_subtype is None else file_2_subtype\n",
    "    \n",
    "    net_1_localport, net_1_localaddr, net_1_remoteport, net_1_remoteaddr = None, None, None, None\n",
    "    if file_1_type_agg == 'NETFLOW':\n",
    "        query = '''\n",
    "        select localaddress, localport, remoteaddress, remoteport\n",
    "        from netflowobject\n",
    "        where uuid = %s;\n",
    "        '''\n",
    "        cur2.execute(query, (predicateobject_uuid,))\n",
    "        net_1_localport, net_1_localaddr, net_1_remoteport, net_1_remoteaddr = cur2.fetchone()\n",
    "    net_2_localport, net_2_localaddr, net_2_remoteport, net_2_remoteaddr = None, None, None, None\n",
    "    if file_2_type_agg == 'NETFLOW':\n",
    "        query = '''\n",
    "        select localaddress, localport, remoteaddress, remoteport\n",
    "        from netflowobject\n",
    "        where uuid = %s;\n",
    "        '''\n",
    "        cur2.execute(query, (predicateobject2_uuid,))\n",
    "        net_2_localport, net_2_localaddr, net_2_remoteport, net_2_remoteaddr = cur2.fetchone()\n",
    "    \n",
    "    line = f'{event_type},{user},{file_1_type_agg},{file_2_type_agg},{file_1_path},{file_2_path},{net_1_localport},{net_1_localaddr},{net_1_remoteport},{net_1_remoteaddr},{net_2_localport},{net_2_localaddr},{net_2_remoteport},{net_2_remoteaddr},{delta_ts}\\n'\n",
    "    assert line.count(',') == 14\n",
    "    current_file.write(line)\n",
    "\n",
    "current_file.close()\n",
    "\n",
    "print(f'wrote {count} lines to {file_count} files')\n",
    "# wrote 41861755 lines to 105748 files"
   ],
   "id": "a666fe9edf6d0d49",
   "outputs": [
    {
     "name": "stdout",
     "output_type": "stream",
     "text": [
      "wrote 17717482 lines to 215150 files\n"
     ]
    }
   ],
   "execution_count": 18
  },
  {
   "metadata": {
    "ExecuteTime": {
     "end_time": "2024-08-12T13:20:09.473646Z",
     "start_time": "2024-08-12T13:20:09.427510Z"
    }
   },
   "cell_type": "code",
   "source": [
    "# destroy cursor and connection\n",
    "cur.close()\n",
    "conn.close()"
   ],
   "id": "5bcb22fc5d0a744e",
   "outputs": [],
   "execution_count": 9
  }
 ],
 "metadata": {
  "kernelspec": {
   "display_name": "Python 3",
   "language": "python",
   "name": "python3"
  },
  "language_info": {
   "codemirror_mode": {
    "name": "ipython",
    "version": 2
   },
   "file_extension": ".py",
   "mimetype": "text/x-python",
   "name": "python",
   "nbconvert_exporter": "python",
   "pygments_lexer": "ipython2",
   "version": "2.7.6"
  }
 },
 "nbformat": 4,
 "nbformat_minor": 5
}
