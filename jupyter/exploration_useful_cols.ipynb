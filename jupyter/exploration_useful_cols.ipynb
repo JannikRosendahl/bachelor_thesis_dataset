{
 "cells": [
  {
   "metadata": {},
   "cell_type": "markdown",
   "source": [
    "# exploration_useful_cols.ipynb\n",
    "\n",
    "This notebook is used to explore the tables and columns of the database and to filter out tables / columns / rows that carry no relevant information.  \n",
    "The goal is to reduce the amount of data that needs to be processed and to reduce the complexity of the data.  \n",
    "The resulting alterations are collected in the sql script dataset/sql/initial_cleanup.sql"
   ],
   "id": "5c13cf7602a31c89"
  },
  {
   "cell_type": "code",
   "id": "initial_id",
   "metadata": {
    "collapsed": true,
    "ExecuteTime": {
     "end_time": "2024-05-12T13:28:47.924934Z",
     "start_time": "2024-05-12T13:28:47.923215Z"
    }
   },
   "source": "import psycopg2",
   "outputs": [],
   "execution_count": 9
  },
  {
   "metadata": {
    "ExecuteTime": {
     "end_time": "2024-05-12T20:17:18.164570Z",
     "start_time": "2024-05-12T20:17:17.994580Z"
    }
   },
   "cell_type": "code",
   "source": [
    "# get connection\n",
    "conn = psycopg2.connect(\n",
    "    host='localhost',\n",
    "    database='cadets_e3',\n",
    "    user='rosendahl',\n",
    ")\n",
    "# get cursor\n",
    "cur = conn.cursor()\n"
   ],
   "id": "92ddae498fc4524e",
   "outputs": [],
   "execution_count": 35
  },
  {
   "metadata": {
    "ExecuteTime": {
     "end_time": "2024-05-12T20:20:44.943627Z",
     "start_time": "2024-05-12T20:20:44.940243Z"
    }
   },
   "cell_type": "code",
   "source": [
    "def find_useless_columns(table_name):\n",
    "    \"\"\"\n",
    "    Finds all columns in a table that have only one distinct values or are always NULL.\n",
    "    :return: a list of column names\n",
    "    \"\"\"\n",
    "    # select column names from table\n",
    "    cur.execute('select column_name from information_schema.columns where table_name = %s', (table_name,))\n",
    "    column_names_r = cur.fetchall()\n",
    "\n",
    "    # convert to list of strings\n",
    "    col_names = [row[0] for row in column_names_r]\n",
    "    no_variance = []\n",
    "\n",
    "    for col in col_names:\n",
    "        cur.execute(f'select count(distinct {col}) from {table_name}')\n",
    "        distinct_count = cur.fetchone()[0]\n",
    "        if distinct_count <= 1:\n",
    "            no_variance.append(col)\n",
    "    \n",
    "    return no_variance"
   ],
   "id": "d50dccfadb5775da",
   "outputs": [],
   "execution_count": 38
  },
  {
   "metadata": {},
   "cell_type": "markdown",
   "source": [
    "## get all tables\n",
    "Note: this reuses code from database_stats.ipynb"
   ],
   "id": "518e692e89edd06e"
  },
  {
   "metadata": {
    "ExecuteTime": {
     "end_time": "2024-05-12T20:21:23.346620Z",
     "start_time": "2024-05-12T20:21:23.327060Z"
    }
   },
   "cell_type": "code",
   "source": [
    "query = '''\n",
    "select table_name\n",
    "from information_schema.tables\n",
    "where table_schema = 'public'\n",
    "'''\n",
    "\n",
    "cur.execute(query)\n",
    "tables_result = cur.fetchall()"
   ],
   "id": "e1b09b2252c3cccc",
   "outputs": [],
   "execution_count": 40
  },
  {
   "metadata": {
    "ExecuteTime": {
     "end_time": "2024-05-12T20:21:25.014581Z",
     "start_time": "2024-05-12T20:21:25.010885Z"
    }
   },
   "cell_type": "code",
   "source": [
    "# transform into list\n",
    "tables = [table[0] for table in tables_result]\n",
    "# discard event partition tables\n",
    "tables = [table for table in tables if not table.startswith('event_p')]\n",
    "\n",
    "display(tables)"
   ],
   "id": "960f4e389233eb44",
   "outputs": [
    {
     "data": {
      "text/plain": [
       "['event',\n",
       " 'fileobject',\n",
       " 'netflowobject',\n",
       " 'node_uuids',\n",
       " 'principal',\n",
       " 'srcsinkobject',\n",
       " 'subject',\n",
       " 'unnamedpipeobject']"
      ]
     },
     "metadata": {},
     "output_type": "display_data"
    }
   ],
   "execution_count": 41
  },
  {
   "metadata": {},
   "cell_type": "markdown",
   "source": [
    "## primary keys\n",
    "Since the tables do not contain keys, we need to find a way to uniquely identify rows.  \n",
    "Specifically the tables __event__ and __subject__ are of interest."
   ],
   "id": "886cf16cb5427964"
  },
  {
   "metadata": {
    "ExecuteTime": {
     "end_time": "2024-05-12T13:37:42.321230Z",
     "start_time": "2024-05-12T13:28:54.002795Z"
    }
   },
   "cell_type": "code",
   "source": [
    "query = '''\n",
    "select count(*), count(distinct e.uuid), count(distinct (e.uuid, e.sequence_long)), count(distinct (e.uuid, e.timestampnanos))\n",
    "from event e;\n",
    "'''\n",
    "\n",
    "cur.execute(query)\n",
    "result = cur.fetchone()"
   ],
   "id": "28de3ccb5974d48a",
   "outputs": [],
   "execution_count": 12
  },
  {
   "metadata": {
    "ExecuteTime": {
     "end_time": "2024-05-12T13:39:33.923587Z",
     "start_time": "2024-05-12T13:39:33.921267Z"
    }
   },
   "cell_type": "code",
   "source": [
    "no_events, no_dist_uuids, no_dist_uuid_seq, no_dist_uuid_ts = result\n",
    "\n",
    "print(f'number of events: {no_events}')\n",
    "print(f'number of distinct uuids: {no_dist_uuids}')\n",
    "print(f'number of distinct uuids and sequence_long: {no_dist_uuid_seq}')\n",
    "print(f'number of distinct uuids and timestampnanos: {no_dist_uuid_ts}')"
   ],
   "id": "4a9c324bac2f3087",
   "outputs": [
    {
     "name": "stdout",
     "output_type": "stream",
     "text": [
      "number of events: 41350895\n",
      "number of distinct uuids: 20606917\n",
      "number of distinct uuids and sequence_long: 20606917\n",
      "number of distinct uuids and timestampnanos: 41350895\n"
     ]
    }
   ],
   "execution_count": 13
  },
  {
   "metadata": {},
   "cell_type": "markdown",
   "source": [
    "The uuids are not unique, this is probably due to the fact that cadets crashed during attacks.  \n",
    "However, the combination of uuid and sequence_long is unique.\n",
    "\n",
    "With this info, lets check if the same holds for the __subject__ table."
   ],
   "id": "37c618b6c90f0731"
  },
  {
   "metadata": {
    "ExecuteTime": {
     "end_time": "2024-05-12T13:42:29.930493Z",
     "start_time": "2024-05-12T13:42:29.434585Z"
    }
   },
   "cell_type": "code",
   "source": [
    "query = '''\n",
    "select count(*), count(distinct uuid)\n",
    "from subject;\n",
    "'''\n",
    "\n",
    "cur.execute(query)\n",
    "result = cur.fetchone()"
   ],
   "id": "458511da9161020c",
   "outputs": [],
   "execution_count": 14
  },
  {
   "metadata": {
    "ExecuteTime": {
     "end_time": "2024-05-12T13:42:45.719560Z",
     "start_time": "2024-05-12T13:42:45.717494Z"
    }
   },
   "cell_type": "code",
   "source": [
    "no_subjects, no_dist_subj_uuids = result\n",
    "\n",
    "print(f'number of subjects: {no_subjects}')\n",
    "print(f'number of distinct uuids: {no_dist_subj_uuids}')"
   ],
   "id": "6bbb9781900fb2c5",
   "outputs": [
    {
     "name": "stdout",
     "output_type": "stream",
     "text": [
      "number of subjects: 224629\n",
      "number of distinct uuids: 224629\n"
     ]
    }
   ],
   "execution_count": 15
  },
  {
   "metadata": {},
   "cell_type": "markdown",
   "source": "The uuids in the __subject__ table are unique.  ",
   "id": "785a323df1155cb6"
  },
  {
   "metadata": {},
   "cell_type": "markdown",
   "source": [
    "## table _event_import_\n",
    "The table __event_import__ looks very similar to the table __event__.\n",
    "Lets check if the table __event_import__ is a subset of the table __event__."
   ],
   "id": "52ec031741cdcbaa"
  },
  {
   "metadata": {
    "ExecuteTime": {
     "end_time": "2024-05-12T18:12:09.176050Z",
     "start_time": "2024-05-12T18:10:21.660300Z"
    }
   },
   "cell_type": "code",
   "source": [
    "query = '''\n",
    "SELECT COUNT(*)\n",
    "FROM event_import ei\n",
    "LEFT JOIN event e ON ei.uuid = e.uuid AND ei.timestampnanos = e.timestampnanos\n",
    "WHERE e.uuid IS NULL;\n",
    "'''\n",
    "\n",
    "cur.execute(query)\n",
    "\n",
    "print(f'number of events in event_import that are not in event: {cur.fetchone()[0]}')"
   ],
   "id": "1f87c13c8120e92b",
   "outputs": [
    {
     "name": "stdout",
     "output_type": "stream",
     "text": [
      "number of events in event_import that are not in event: 0\n"
     ]
    }
   ],
   "execution_count": 17
  },
  {
   "metadata": {},
   "cell_type": "markdown",
   "source": [
    "The table __event_import__ is a subset of the table __event__.  \n",
    "=> drop entire table"
   ],
   "id": "7c71a40d2e84f14a"
  },
  {
   "metadata": {},
   "cell_type": "markdown",
   "source": [
    "## table _host_\n",
    "The ground truth says that there is only one host in the dataset, yet the table __host__ contains multiple rows.  \n",
    "Verify that all the rows are the same."
   ],
   "id": "ff81d0d7390ada21"
  },
  {
   "metadata": {
    "ExecuteTime": {
     "end_time": "2024-05-12T18:27:41.018437Z",
     "start_time": "2024-05-12T18:27:40.982387Z"
    }
   },
   "cell_type": "code",
   "source": [
    "# Omit the columns 'line_no' and 'line' as they do not contain relevant information\n",
    "query = '''\n",
    "select count(distinct (uuid, hostname, hostidentifiers, osdetails, hosttype, interfaces))\n",
    "from host;\n",
    "'''\n",
    "\n",
    "cur.execute(query)\n",
    "\n",
    "print(f'number of distinct hosts: {cur.fetchone()[0]}')"
   ],
   "id": "234d66fcf24130ca",
   "outputs": [
    {
     "name": "stdout",
     "output_type": "stream",
     "text": [
      "number of distinct hosts: 1\n"
     ]
    }
   ],
   "execution_count": 28
  },
  {
   "metadata": {},
   "cell_type": "markdown",
   "source": [
    "As there is only one distinct host, the variance in the data is 0.  \n",
    "The data may be useful for interpretation, but it is irrelevant for training.  \n",
    "=> drop entire table "
   ],
   "id": "1433c4eac80ba4b0"
  },
  {
   "metadata": {},
   "cell_type": "markdown",
   "source": [
    "## table _principal_\n",
    "At first glance, the table seems to contain duplicate entries, only differing in the columns 'line_no' and 'line'.  \n",
    "Find duplicate entries."
   ],
   "id": "b5b9111782ad04a8"
  },
  {
   "metadata": {
    "ExecuteTime": {
     "end_time": "2024-05-12T18:34:42.761886Z",
     "start_time": "2024-05-12T18:34:42.743368Z"
    }
   },
   "cell_type": "code",
   "source": [
    "query = '''\n",
    "select count(*), count(distinct username_string)\n",
    "from principal;\n",
    "'''\n",
    "\n",
    "cur.execute(query)\n",
    "principal_count_result = cur.fetchone()\n",
    "\n",
    "print(f'number of principals: {principal_count_result[0]}')\n",
    "print(f'number of distinct principals: {principal_count_result[1]}')"
   ],
   "id": "d7588b7bb66af44b",
   "outputs": [
    {
     "name": "stdout",
     "output_type": "stream",
     "text": [
      "number of principals: 63\n",
      "number of distinct principals: 22\n"
     ]
    }
   ],
   "execution_count": 31
  },
  {
   "metadata": {},
   "cell_type": "markdown",
   "source": "=> drop duplicate entries in the table __principal__.",
   "id": "dab97050efeeb13b"
  },
  {
   "metadata": {},
   "cell_type": "markdown",
   "source": [
    "## columns _line_no_ and _line_\n",
    "The columns _line_no_ and _line_ are present in (almost) all tables.  \n",
    "They are a result of the import and are not relevant for training.  \n",
    "=> drop columns _line_no_ and _line_ from all tables\n"
   ],
   "id": "829629bd7c01dbd3"
  },
  {
   "metadata": {},
   "cell_type": "markdown",
   "source": [
    "## columns with no or only one distinct value\n",
    "columns with variance 0 (== one distinct value) are not relevant for training."
   ],
   "id": "a1f619f8681e0825"
  },
  {
   "metadata": {
    "ExecuteTime": {
     "end_time": "2024-05-12T20:35:54.364221Z",
     "start_time": "2024-05-12T20:21:38.205525Z"
    }
   },
   "cell_type": "code",
   "source": [
    "useless_cols = {}\n",
    "\n",
    "for table in tables:\n",
    "    useless_cols[table] = find_useless_columns(table)"
   ],
   "id": "f7b88e1e85f2570d",
   "outputs": [],
   "execution_count": 42
  },
  {
   "metadata": {
    "ExecuteTime": {
     "end_time": "2024-05-12T20:41:35.276680Z",
     "start_time": "2024-05-12T20:41:35.273930Z"
    }
   },
   "cell_type": "code",
   "source": "display(useless_cols)",
   "id": "b906442524da6a65",
   "outputs": [
    {
     "data": {
      "text/plain": [
       "{'event': ['predicateobject2path',\n",
       "  'predicateobjectpath',\n",
       "  'size',\n",
       "  'predicateobject2',\n",
       "  'predicateobject',\n",
       "  'subject',\n",
       "  'name',\n",
       "  'parameters',\n",
       "  'hostid',\n",
       "  'location',\n",
       "  'programpoint',\n",
       "  'properties_map_host'],\n",
       " 'fileobject': ['filedescriptor',\n",
       "  'localprincipal',\n",
       "  'size',\n",
       "  'peinfo',\n",
       "  'hashes',\n",
       "  'baseobject_hostid',\n",
       "  'baseobject_permission',\n",
       "  'baseobject_epoch'],\n",
       " 'netflowobject': ['ipprotocol',\n",
       "  'filedescriptor',\n",
       "  'baseobject_hostid',\n",
       "  'baseobject_permission',\n",
       "  'baseobject_epoch'],\n",
       " 'node_uuids': [],\n",
       " 'principal': ['type', 'hostid', 'groupids'],\n",
       " 'srcsinkobject': ['type',\n",
       "  'filedescriptor',\n",
       "  'baseobject_hostid',\n",
       "  'baseobject_permission',\n",
       "  'baseobject_epoch'],\n",
       " 'subject': ['hostid',\n",
       "  'unitid',\n",
       "  'iteration',\n",
       "  'count',\n",
       "  'cmdline',\n",
       "  'privilegelevel',\n",
       "  'importedlibraries',\n",
       "  'exportedlibraries',\n",
       "  'properties_map_host',\n",
       "  'parentsubject',\n",
       "  'type'],\n",
       " 'unnamedpipeobject': ['sourcefiledescriptor',\n",
       "  'sinkfiledescriptor',\n",
       "  'baseobject_hostid',\n",
       "  'baseobject_permission',\n",
       "  'baseobject_epoch']}"
      ]
     },
     "metadata": {},
     "output_type": "display_data"
    }
   ],
   "execution_count": 43
  },
  {
   "metadata": {
    "ExecuteTime": {
     "end_time": "2024-05-12T20:47:16.690797Z",
     "start_time": "2024-05-12T20:47:16.688574Z"
    }
   },
   "cell_type": "code",
   "source": [
    "# generate sql\n",
    "# template: alter table drop column x, drop column y, ...;\n",
    "for table, cols in useless_cols.items():\n",
    "    if cols:\n",
    "        print(f'alter table {table} drop column {\", drop column \".join(cols)};')"
   ],
   "id": "2d6349cb519d1d6c",
   "outputs": [
    {
     "name": "stdout",
     "output_type": "stream",
     "text": [
      "alter table event drop column predicateobject2path, drop column predicateobjectpath, drop column size, drop column predicateobject2, drop column predicateobject, drop column subject, drop column name, drop column parameters, drop column hostid, drop column location, drop column programpoint, drop column properties_map_host;\n",
      "alter table fileobject drop column filedescriptor, drop column localprincipal, drop column size, drop column peinfo, drop column hashes, drop column baseobject_hostid, drop column baseobject_permission, drop column baseobject_epoch;\n",
      "alter table netflowobject drop column ipprotocol, drop column filedescriptor, drop column baseobject_hostid, drop column baseobject_permission, drop column baseobject_epoch;\n",
      "alter table principal drop column type, drop column hostid, drop column groupids;\n",
      "alter table srcsinkobject drop column type, drop column filedescriptor, drop column baseobject_hostid, drop column baseobject_permission, drop column baseobject_epoch;\n",
      "alter table subject drop column hostid, drop column unitid, drop column iteration, drop column count, drop column cmdline, drop column privilegelevel, drop column importedlibraries, drop column exportedlibraries, drop column properties_map_host, drop column parentsubject, drop column type;\n",
      "alter table unnamedpipeobject drop column sourcefiledescriptor, drop column sinkfiledescriptor, drop column baseobject_hostid, drop column baseobject_permission, drop column baseobject_epoch;\n"
     ]
    }
   ],
   "execution_count": 51
  },
  {
   "metadata": {},
   "cell_type": "markdown",
   "source": "## cleanup",
   "id": "dacfdd23b95399ce"
  },
  {
   "metadata": {
    "ExecuteTime": {
     "end_time": "2024-05-12T20:47:37.179401Z",
     "start_time": "2024-05-12T20:47:37.177189Z"
    }
   },
   "cell_type": "code",
   "source": [
    "# cleanup\n",
    "cur.close()\n",
    "conn.close()"
   ],
   "id": "ea5510b40f69a6c3",
   "outputs": [],
   "execution_count": 52
  }
 ],
 "metadata": {
  "kernelspec": {
   "display_name": "Python 3",
   "language": "python",
   "name": "python3"
  },
  "language_info": {
   "codemirror_mode": {
    "name": "ipython",
    "version": 2
   },
   "file_extension": ".py",
   "mimetype": "text/x-python",
   "name": "python",
   "nbconvert_exporter": "python",
   "pygments_lexer": "ipython2",
   "version": "2.7.6"
  }
 },
 "nbformat": 4,
 "nbformat_minor": 5
}
