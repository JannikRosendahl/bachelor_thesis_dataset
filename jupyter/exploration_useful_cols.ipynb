{
 "cells": [
  {
   "cell_type": "code",
   "id": "initial_id",
   "metadata": {
    "collapsed": true,
    "ExecuteTime": {
     "end_time": "2024-05-11T12:00:38.296456Z",
     "start_time": "2024-05-11T12:00:38.294663Z"
    }
   },
   "source": "import psycopg2",
   "outputs": [],
   "execution_count": 3
  },
  {
   "metadata": {
    "ExecuteTime": {
     "end_time": "2024-05-11T12:01:04.788032Z",
     "start_time": "2024-05-11T12:01:04.616092Z"
    }
   },
   "cell_type": "code",
   "source": [
    "# get connection\n",
    "conn = psycopg2.connect(\n",
    "    host='localhost',\n",
    "    database='cadets_e3',\n",
    "    user='rosendahl',\n",
    ")"
   ],
   "id": "92ddae498fc4524e",
   "outputs": [],
   "execution_count": 6
  },
  {
   "metadata": {
    "ExecuteTime": {
     "end_time": "2024-05-11T12:01:07.219956Z",
     "start_time": "2024-05-11T12:01:07.218110Z"
    }
   },
   "cell_type": "code",
   "source": [
    "# get cursor\n",
    "cur = conn.cursor()"
   ],
   "id": "a864c37270a5b2f7",
   "outputs": [],
   "execution_count": 7
  },
  {
   "metadata": {},
   "cell_type": "markdown",
   "source": [
    "# Table 'event'\n",
    "try to filter out all columns that carry no relevant information\n",
    "these are columns that have no distinct values and are\n",
    "  - always NULL\n",
    "  - always the same value (only hostid)\n",
    "  - have no semantic meaning"
   ],
   "id": "df125754dacb8ecb"
  },
  {
   "metadata": {
    "ExecuteTime": {
     "end_time": "2024-04-28T18:50:20.919485Z",
     "start_time": "2024-04-28T18:45:22.113814Z"
    }
   },
   "cell_type": "code",
   "source": [
    "# select column names from table event\n",
    "cur.execute('SELECT column_name FROM information_schema.columns WHERE table_name = %s', ('event',))\n",
    "event_column_names_r = cur.fetchall()\n",
    "\n",
    "# convert to list of strings\n",
    "event_col_names = [row[0] for row in event_column_names_r]\n",
    "\n",
    "print(f'number of columns in table \\'event\\': {len(event_col_names)}')\n",
    "\n",
    "event_col_names_wout_properties = [col for col in event_col_names if not col.startswith('properties')]\n",
    "print(f'number of columns starting with prefix \\'properties\\': {len(event_col_names) - len(event_col_names_wout_properties)}')\n",
    "print(f'number of columns without prefix \\'properties\\': {len(event_col_names_wout_properties)}')\n",
    "\n",
    "event_col_names_only_properties = [col for col in event_col_names if col.startswith('properties')]\n",
    "print(f'number of columns starting with prefix \\'properties\\': {len(event_col_names_only_properties)}')\n",
    "print(f'columns starting with prefix \\'properties\\': {event_col_names_only_properties}')\n",
    "\n",
    "# print columns and their count of distinct values and their NULL percentage\n",
    "print(f'name, distinct values, not NULL, NULL, NULL percentage')\n",
    "for col in event_col_names:\n",
    "    cur.execute(f'SELECT COUNT(DISTINCT {col}), COUNT(*) FROM event WHERE {col} IS NOT NULL')\n",
    "    distinct_count, not_null_count = cur.fetchone()\n",
    "    cur.execute(f'SELECT COUNT(*) FROM event WHERE {col} IS NULL')\n",
    "    null_count = cur.fetchone()[0]\n",
    "    print(f'{col}, {distinct_count}, {not_null_count}, {null_count}, {null_count / (null_count + not_null_count) * 100:.2f}%')\n"
   ],
   "id": "62532a5c451fb83e",
   "outputs": [
    {
     "name": "stdout",
     "output_type": "stream",
     "text": [
      "number of columns in table 'event': 127\n",
      "number of columns starting with prefix 'properties': 98\n",
      "number of columns without prefix 'properties': 29\n",
      "number of columns starting with prefix 'properties': 98\n",
      "columns starting with prefix 'properties': ['properties_map_ppid', 'properties_map_ret_fd2', 'properties_map_ret_fd1', 'properties_map_partial_path', 'properties_map_arg_pid', 'properties_map_cmdline', 'properties_map_arg_mem_flags', 'properties_map_arg_euid', 'properties_map_arg_suid', 'properties_map_arg_ruid', 'properties_map_arg_rgid', 'properties_map_arg_egid', 'properties_map_arg_sgid', 'properties_map_address', 'properties_map_ret_msgid', 'properties_map_arg_uid', 'properties_map_arg_gid', 'properties_map_arg_miouuid', 'properties_map_port', 'properties_map_login', 'properties_map_ret_miouuid', 'properties', 'properties_map_rc', 'properties_map_prot', 'properties_map_flags', 'properties_map_mode', 'properties_map_shmflg', 'properties_map_shmid', 'properties_map_uptime', 'properties_map_name', 'properties_map_uid', 'properties_map_gid', 'properties_map_ioflags', 'properties_map_filekey', 'properties_map_handle', 'properties_map_fileattributes', 'properties_map_extrainfo', 'properties_map_createoptions', 'properties_map_shareaccess', 'properties_map_regionsize', 'properties_map_permissions', 'properties_map_processid', 'properties_map_fileobject', 'properties_map_infoclass', 'properties_map_baseaddress', 'properties_map_fileindex', 'properties_map_targetobject', 'properties_map_length', 'properties_map_options', 'properties_map_filename', 'properties_map_win32startaddr', 'properties_map_basepriority', 'properties_map_attributes', 'properties_map_threadflags', 'properties_map_object', 'properties_map_principal', 'properties_map_ipaddress', 'properties_map_logontype', 'properties_map_ipport', 'properties_map_pagepriority', 'properties_map_service', 'properties_map_iopriority', 'properties_map_userstackbase', 'properties_map_tebbase', 'properties_map_userstacklimit', 'properties_map_stacklimit', 'properties_map_subprocesstag', 'properties_map_affinity', 'properties_map_tthreadid', 'properties_map_stackbase', 'properties_map_parentid', 'properties_map_packagefullname', 'properties_map_uniqueprocesskey', 'properties_map_exitstatus', 'properties_map_usersid', 'properties_map_commandline', 'properties_map_username', 'properties_map_imagefilename', 'properties_map_applicationid', 'properties_map_sessionid', 'properties_map_directorytablebase', 'properties_map_operationid', 'properties_map_groupoperationid', 'properties_map_correlationid', 'properties_map_operation', 'properties_map_providername', 'properties_map_hostprocessname', 'properties_map_code', 'properties_map_providerpath', 'properties_map_providerguid', 'properties_map_clientmachine', 'properties_map_component', 'properties_map_protection', 'properties_map_opm', 'properties_map_host', 'properties_map_return_value', 'properties_map_fd', 'properties_map_exec']\n",
      "name, distinct values, not NULL, NULL, NULL percentage\n",
      "name, 0, 0, 20743978, 100.00%\n",
      "parameters, 0, 0, 20743978, 100.00%\n",
      "timestampnanos, 1346397, 20743978, 0, 0.00%\n",
      "ts, 1346397, 20743978, 0, 0.00%\n",
      "size_long, 34689, 11530756, 9213222, 44.41%\n",
      "size, 0, 0, 20743978, 100.00%\n",
      "line_no, 20743978, 20743978, 0, 0.00%\n",
      "sequence_long, 12915596, 20743978, 0, 0.00%\n",
      "threadid_int, 348, 20743978, 0, 0.00%\n",
      "predicateobjectpath, 0, 0, 20743978, 100.00%\n",
      "predicateobject2, 0, 0, 20743978, 100.00%\n",
      "predicateobject2path, 0, 0, 20743978, 100.00%\n",
      "subject, 0, 0, 20743978, 100.00%\n",
      "line, 474881, 20743978, 0, 0.00%\n",
      "properties_map_ppid, 7502, 20724885, 19093, 0.09%\n",
      "predicateobject2_uuid, 641829, 1186932, 19557046, 94.28%\n",
      "properties_map_ret_fd2, 19, 529152, 20214826, 97.45%\n",
      "properties_map_ret_fd1, 51, 2546922, 18197056, 87.72%\n",
      "predicateobject, 0, 0, 20743978, 100.00%\n",
      "predicateobjectpath_string, 265143, 9192081, 11551897, 55.69%\n",
      "properties_map_partial_path, 68320, 9390670, 11353308, 54.73%\n",
      "predicateobject2path_string, 1277, 141942, 20602036, 99.32%\n",
      "properties_map_arg_pid, 75803, 118765, 20625213, 99.43%\n",
      "properties_map_cmdline, 509, 110502, 20633476, 99.47%\n"
     ]
    },
    {
     "ename": "KeyboardInterrupt",
     "evalue": "",
     "output_type": "error",
     "traceback": [
      "\u001B[0;31m---------------------------------------------------------------------------\u001B[0m",
      "\u001B[0;31mKeyboardInterrupt\u001B[0m                         Traceback (most recent call last)",
      "Cell \u001B[0;32mIn[7], line 21\u001B[0m\n\u001B[1;32m     19\u001B[0m \u001B[38;5;28mprint\u001B[39m(\u001B[38;5;124mf\u001B[39m\u001B[38;5;124m'\u001B[39m\u001B[38;5;124mname, distinct values, not NULL, NULL, NULL percentage\u001B[39m\u001B[38;5;124m'\u001B[39m)\n\u001B[1;32m     20\u001B[0m \u001B[38;5;28;01mfor\u001B[39;00m col \u001B[38;5;129;01min\u001B[39;00m event_col_names:\n\u001B[0;32m---> 21\u001B[0m     \u001B[43mcur\u001B[49m\u001B[38;5;241;43m.\u001B[39;49m\u001B[43mexecute\u001B[49m\u001B[43m(\u001B[49m\u001B[38;5;124;43mf\u001B[39;49m\u001B[38;5;124;43m'\u001B[39;49m\u001B[38;5;124;43mSELECT COUNT(DISTINCT \u001B[39;49m\u001B[38;5;132;43;01m{\u001B[39;49;00m\u001B[43mcol\u001B[49m\u001B[38;5;132;43;01m}\u001B[39;49;00m\u001B[38;5;124;43m), COUNT(*) FROM event WHERE \u001B[39;49m\u001B[38;5;132;43;01m{\u001B[39;49;00m\u001B[43mcol\u001B[49m\u001B[38;5;132;43;01m}\u001B[39;49;00m\u001B[38;5;124;43m IS NOT NULL\u001B[39;49m\u001B[38;5;124;43m'\u001B[39;49m\u001B[43m)\u001B[49m\n\u001B[1;32m     22\u001B[0m     distinct_count, not_null_count \u001B[38;5;241m=\u001B[39m cur\u001B[38;5;241m.\u001B[39mfetchone()\n\u001B[1;32m     23\u001B[0m     cur\u001B[38;5;241m.\u001B[39mexecute(\u001B[38;5;124mf\u001B[39m\u001B[38;5;124m'\u001B[39m\u001B[38;5;124mSELECT COUNT(*) FROM event WHERE \u001B[39m\u001B[38;5;132;01m{\u001B[39;00mcol\u001B[38;5;132;01m}\u001B[39;00m\u001B[38;5;124m IS NULL\u001B[39m\u001B[38;5;124m'\u001B[39m)\n",
      "File \u001B[0;32m/usr/lib/python3.12/encodings/utf_8.py:15\u001B[0m, in \u001B[0;36mdecode\u001B[0;34m(input, errors)\u001B[0m\n\u001B[1;32m     11\u001B[0m \u001B[38;5;66;03m### Codec APIs\u001B[39;00m\n\u001B[1;32m     13\u001B[0m encode \u001B[38;5;241m=\u001B[39m codecs\u001B[38;5;241m.\u001B[39mutf_8_encode\n\u001B[0;32m---> 15\u001B[0m \u001B[38;5;28;01mdef\u001B[39;00m \u001B[38;5;21mdecode\u001B[39m(\u001B[38;5;28minput\u001B[39m, errors\u001B[38;5;241m=\u001B[39m\u001B[38;5;124m'\u001B[39m\u001B[38;5;124mstrict\u001B[39m\u001B[38;5;124m'\u001B[39m):\n\u001B[1;32m     16\u001B[0m     \u001B[38;5;28;01mreturn\u001B[39;00m codecs\u001B[38;5;241m.\u001B[39mutf_8_decode(\u001B[38;5;28minput\u001B[39m, errors, \u001B[38;5;28;01mTrue\u001B[39;00m)\n\u001B[1;32m     18\u001B[0m \u001B[38;5;28;01mclass\u001B[39;00m \u001B[38;5;21;01mIncrementalEncoder\u001B[39;00m(codecs\u001B[38;5;241m.\u001B[39mIncrementalEncoder):\n",
      "\u001B[0;31mKeyboardInterrupt\u001B[0m: "
     ]
    }
   ],
   "execution_count": 7
  },
  {
   "metadata": {
    "ExecuteTime": {
     "end_time": "2024-04-21T10:54:43.439832Z",
     "start_time": "2024-04-21T10:54:43.436040Z"
    }
   },
   "cell_type": "code",
   "source": [
    "# filter out columns that have no distinct values and are always NULL\n",
    "event_null_cols = [\n",
    "    'location', 'location_long', 'name', 'parameters', 'predicateobject', 'predicateobject2', 'predicateobject2path', 'predicateobjectpath', 'programpoint', 'programpoint_string', 'properties', 'properties_map_affinity', 'properties_map_applicationid', 'properties_map_attributes', 'properties_map_baseaddress', 'properties_map_basepriority', 'properties_map_clientmachine', 'properties_map_code', 'properties_map_commandline', 'properties_map_component', 'properties_map_correlationid', 'properties_map_createoptions', 'properties_map_directorytablebase', 'properties_map_exitstatus', 'properties_map_extrainfo', 'properties_map_fileattributes', 'properties_map_fileindex', 'properties_map_filekey', 'properties_map_filename', 'properties_map_fileobject', 'properties_map_flags', 'properties_map_gid', 'properties_map_groupoperationid', 'properties_map_handle', 'properties_map_hostprocessname', 'properties_map_imagefilename', 'properties_map_infoclass', 'properties_map_ioflags', 'properties_map_iopriority', 'properties_map_ipaddress', 'properties_map_ipport', 'properties_map_length', 'properties_map_logontype', 'properties_map_mode', 'properties_map_name', 'properties_map_object', 'properties_map_operation', 'properties_map_operationid', 'properties_map_opm', 'properties_map_options', 'properties_map_packagefullname', 'properties_map_pagepriority', 'properties_map_parentid', 'properties_map_permissions', 'properties_map_principal', 'properties_map_processid', 'properties_map_prot', 'properties_map_protection', 'properties_map_providerguid', 'properties_map_providername', 'properties_map_providerpath', 'properties_map_rc', 'properties_map_regionsize', 'properties_map_service', 'properties_map_sessionid', 'properties_map_shareaccess', 'properties_map_shmflg', 'properties_map_shmid', 'properties_map_stackbase', 'properties_map_stacklimit', 'properties_map_subprocesstag', 'properties_map_targetobject', 'properties_map_tebbase', 'properties_map_threadflags', 'properties_map_tthreadid', 'properties_map_uid', 'properties_map_uniqueprocesskey', 'properties_map_uptime', 'properties_map_username', 'properties_map_usersid', 'properties_map_userstackbase', 'properties_map_userstacklimit', 'properties_map_win32startaddr', 'size', 'subject', ]\n",
    "\n",
    "event_relevant_cols = [col for col in event_col_names if col not in event_null_cols]\n",
    "\n",
    "# remove cols with only one distinct value\n",
    "event_relevant_cols.remove('hostid')\n",
    "event_relevant_cols.remove('properties_map_host')\n",
    "\n",
    "# remove cols that have no semantic meaning\n",
    "event_relevant_cols.remove('ts')\n",
    "event_relevant_cols.remove('line')\n",
    "event_relevant_cols.remove('line_no')\n",
    "\n",
    "print(f'number of relevant columns: {len(event_relevant_cols)}')\n",
    "print(event_relevant_cols)"
   ],
   "id": "db46b1b8062b2f9d",
   "outputs": [
    {
     "name": "stdout",
     "output_type": "stream",
     "text": [
      "number of relevant columns: 37\n",
      "['timestampnanos', 'size_long', 'sequence_long', 'threadid_int', 'properties_map_ppid', 'predicateobject2_uuid', 'properties_map_ret_fd2', 'properties_map_ret_fd1', 'predicateobjectpath_string', 'properties_map_partial_path', 'predicateobject2path_string', 'properties_map_arg_pid', 'properties_map_cmdline', 'properties_map_arg_mem_flags', 'properties_map_arg_euid', 'properties_map_arg_suid', 'properties_map_arg_ruid', 'properties_map_arg_rgid', 'properties_map_arg_egid', 'properties_map_arg_sgid', 'properties_map_address', 'properties_map_ret_msgid', 'properties_map_arg_uid', 'properties_map_arg_gid', 'properties_map_arg_miouuid', 'properties_map_port', 'properties_map_login', 'properties_map_ret_miouuid', 'uuid', 'type', 'subject_uuid', 'predicateobject_uuid', 'name_string', 'parameters_array', 'properties_map_return_value', 'properties_map_fd', 'properties_map_exec']\n"
     ]
    }
   ],
   "execution_count": 7
  },
  {
   "metadata": {},
   "cell_type": "markdown",
   "source": "# Table 'subject'",
   "id": "c669ede0f2117d31"
  },
  {
   "metadata": {
    "ExecuteTime": {
     "end_time": "2024-04-21T11:11:29.243192Z",
     "start_time": "2024-04-21T11:11:26.904740Z"
    }
   },
   "cell_type": "code",
   "source": [
    "# select column names from table subject\n",
    "cur.execute('SELECT column_name FROM information_schema.columns WHERE table_name = %s', ('subject',))\n",
    "subject_column_names_r = cur.fetchall()\n",
    "\n",
    "# convert to list of strings\n",
    "subject_col_names = [row[0] for row in subject_column_names_r]\n",
    "\n",
    "print(f'number of columns in table \\'subject\\': {len(subject_col_names)}')\n",
    "\n",
    "subject_col_names_wout_properties = [col for col in subject_col_names if not col.startswith('properties')]\n",
    "print(f'number of columns starting with prefix \\'properties\\': {len(subject_col_names) - len(subject_col_names_wout_properties)}')\n",
    "\n",
    "# print columns and their count of distinct values and their NULL percentage\n",
    "print(f'name, distinct values, not NULL, NULL, NULL percentage')\n",
    "for col in subject_col_names:\n",
    "    cur.execute(f'SELECT COUNT(DISTINCT {col}), COUNT(*) FROM subject WHERE {col} IS NOT NULL')\n",
    "    distinct_count, not_null_count = cur.fetchone()\n",
    "    cur.execute(f'SELECT COUNT(*) FROM subject WHERE {col} IS NULL')\n",
    "    null_count = cur.fetchone()[0]\n",
    "    print(f'{col}, {distinct_count}, {not_null_count}, {null_count}, {null_count / (null_count + not_null_count) * 100:.2f}%')\n",
    "\n",
    "\"\"\"\n",
    "name, distinct values, not NULL, NULL, NULL percentage\n",
    "starttimestampnanos, 101590, 117267, 0, 0.00%\n",
    "cid, 75898, 117267, 0, 0.00%\n",
    "line, 3272, 117267, 0, 0.00%\n",
    "ts, 101590, 117267, 0, 0.00%\n",
    "line_no, 117267, 117267, 0, 0.00%\n",
    "unitid, 0, 0, 117267, 100.00%\n",
    "iteration, 0, 0, 117267, 100.00%\n",
    "count, 0, 0, 117267, 100.00%\n",
    "cmdline, 0, 0, 117267, 100.00%\n",
    "privilegelevel, 0, 0, 117267, 100.00%\n",
    "importedlibraries, 0, 0, 117267, 100.00%\n",
    "exportedlibraries, 0, 0, 117267, 100.00%\n",
    "parentsubject_uuid, 10677, 116780, 487, 0.42%\n",
    "parentsubject, 0, 0, 117267, 100.00%\n",
    "cmdline_string, 0, 0, 117267, 100.00%\n",
    "parentuuid, 0, 0, 117267, 100.00%\n",
    "uuid, 117267, 117267, 0, 0.00%\n",
    "type, 1, 117267, 0, 0.00%\n",
    "hostid, 1, 117267, 0, 0.00%\n",
    "localprincipal, 16, 117267, 0, 0.00%\n",
    "\"\"\"\n",
    "\n"
   ],
   "id": "aefdd3b029dea26f",
   "outputs": [
    {
     "name": "stdout",
     "output_type": "stream",
     "text": [
      "number of columns in table 'subject': 25\n",
      "number of columns starting with prefix 'properties': 5\n",
      "name, distinct values, not NULL, NULL, NULL percentage\n",
      "starttimestampnanos, 101590, 117267, 0, 0.00%\n",
      "cid, 75898, 117267, 0, 0.00%\n",
      "line, 3272, 117267, 0, 0.00%\n",
      "ts, 101590, 117267, 0, 0.00%\n",
      "line_no, 117267, 117267, 0, 0.00%\n",
      "unitid, 0, 0, 117267, 100.00%\n",
      "iteration, 0, 0, 117267, 100.00%\n",
      "count, 0, 0, 117267, 100.00%\n",
      "cmdline, 0, 0, 117267, 100.00%\n",
      "privilegelevel, 0, 0, 117267, 100.00%\n",
      "importedlibraries, 0, 0, 117267, 100.00%\n",
      "exportedlibraries, 0, 0, 117267, 100.00%\n",
      "parentsubject_uuid, 10677, 116780, 487, 0.42%\n",
      "properties_map_host, 1, 117267, 0, 0.00%\n",
      "parentsubject, 0, 0, 117267, 100.00%\n",
      "cmdline_string, 0, 0, 117267, 100.00%\n",
      "properties_map_tgid, 0, 0, 117267, 100.00%\n",
      "properties_map_path, 0, 0, 117267, 100.00%\n",
      "properties_map_ppid, 0, 0, 117267, 100.00%\n",
      "properties, 0, 0, 117267, 100.00%\n",
      "parentuuid, 0, 0, 117267, 100.00%\n",
      "uuid, 117267, 117267, 0, 0.00%\n",
      "type, 1, 117267, 0, 0.00%\n",
      "hostid, 1, 117267, 0, 0.00%\n",
      "localprincipal, 16, 117267, 0, 0.00%\n"
     ]
    },
    {
     "data": {
      "text/plain": [
       "'\\nname, distinct values, not NULL, NULL, NULL percentage\\nstarttimestampnanos, 101590, 117267, 0, 0.00%\\ncid, 75898, 117267, 0, 0.00%\\nline, 3272, 117267, 0, 0.00%\\nts, 101590, 117267, 0, 0.00%\\nline_no, 117267, 117267, 0, 0.00%\\nunitid, 0, 0, 117267, 100.00%\\niteration, 0, 0, 117267, 100.00%\\ncount, 0, 0, 117267, 100.00%\\ncmdline, 0, 0, 117267, 100.00%\\nprivilegelevel, 0, 0, 117267, 100.00%\\nimportedlibraries, 0, 0, 117267, 100.00%\\nexportedlibraries, 0, 0, 117267, 100.00%\\nparentsubject_uuid, 10677, 116780, 487, 0.42%\\nparentsubject, 0, 0, 117267, 100.00%\\ncmdline_string, 0, 0, 117267, 100.00%\\nparentuuid, 0, 0, 117267, 100.00%\\nuuid, 117267, 117267, 0, 0.00%\\ntype, 1, 117267, 0, 0.00%\\nhostid, 1, 117267, 0, 0.00%\\nlocalprincipal, 16, 117267, 0, 0.00%\\n'"
      ]
     },
     "execution_count": 11,
     "metadata": {},
     "output_type": "execute_result"
    }
   ],
   "execution_count": 11
  },
  {
   "metadata": {
    "ExecuteTime": {
     "end_time": "2024-04-21T11:14:31.543032Z",
     "start_time": "2024-04-21T11:14:31.540126Z"
    }
   },
   "cell_type": "code",
   "source": [
    "# filter out columns that have no distinct values and are always NULL\n",
    "subject_null_cols = [ 'cmdline','cmdline_string','count','exportedlibraries','importedlibraries','iteration','parentsubject','parentuuid','privilegelevel','properties','properties_map_path','properties_map_ppid','properties_map_tgid','unitid']\n",
    "\n",
    "subject_relevant_cols = [col for col in subject_col_names if col not in subject_null_cols]\n",
    "\n",
    "# remove cols with only one distinct value\n",
    "subject_relevant_cols.remove('type') # only one value\n",
    "subject_relevant_cols.remove('hostid') # only one value\n",
    "subject_relevant_cols.remove('properties_map_host') # only one value\n",
    "\n",
    "# remove cols that have no semantic meaning\n",
    "subject_relevant_cols.remove('line')\n",
    "subject_relevant_cols.remove('line_no')\n",
    "subject_relevant_cols.remove('ts')\n",
    "\n",
    "print(f'number of relevant columns: {len(subject_relevant_cols)}')\n",
    "print(subject_relevant_cols)\n"
   ],
   "id": "ad13dab3da60c217",
   "outputs": [
    {
     "name": "stdout",
     "output_type": "stream",
     "text": [
      "number of relevant columns: 5\n",
      "['starttimestampnanos', 'cid', 'parentsubject_uuid', 'uuid', 'localprincipal']\n"
     ]
    }
   ],
   "execution_count": 14
  },
  {
   "metadata": {},
   "cell_type": "markdown",
   "source": "# Table 'principal'",
   "id": "11dbfc4992a82239"
  },
  {
   "metadata": {
    "ExecuteTime": {
     "end_time": "2024-04-21T16:42:03.900785Z",
     "start_time": "2024-04-21T16:42:03.381934Z"
    }
   },
   "cell_type": "code",
   "source": [
    "# select column names from table principal\n",
    "cur.execute('SELECT column_name FROM information_schema.columns WHERE table_name = %s', ('principal',))\n",
    "principal_column_names_r = cur.fetchall()\n",
    "\n",
    "# convert to list of strings\n",
    "principal_col_names = [row[0] for row in principal_column_names_r]\n",
    "\n",
    "print(f'number of columns in table \\'principal\\': {len(principal_col_names)}')\n",
    "print(principal_col_names)\n",
    "\n",
    "# print columns and their count of distinct values and their NULL percentage\n",
    "print(f'name, distinct values, not NULL, NULL, NULL percentage')\n",
    "for col in principal_col_names:\n",
    "    cur.execute(f'SELECT COUNT(DISTINCT {col}), COUNT(*) FROM principal WHERE {col} IS NOT NULL')\n",
    "    distinct_count, not_null_count = cur.fetchone()\n",
    "    cur.execute(f'SELECT COUNT(*) FROM principal WHERE {col} IS NULL')\n",
    "    null_count = cur.fetchone()[0]\n",
    "    print(f'{col}, {distinct_count}, {not_null_count}, {null_count}, {null_count / (null_count + not_null_count) * 100:.2f}%')\n",
    "\n",
    "\n"
   ],
   "id": "65aae00f7adcb69e",
   "outputs": [
    {
     "name": "stdout",
     "output_type": "stream",
     "text": [
      "number of columns in table 'principal': 12\n",
      "['line_no', 'line', 'uuid', 'type', 'hostid', 'userid', 'groupids', 'username_string', 'properties', 'properties_map_cred', 'username', 'properties_map_euid']\n",
      "name, distinct values, not NULL, NULL, NULL percentage\n",
      "line_no, 42, 42, 0, 0.00%\n",
      "line, 20, 42, 0, 0.00%\n",
      "uuid, 21, 42, 0, 0.00%\n",
      "type, 1, 42, 0, 0.00%\n",
      "hostid, 1, 42, 0, 0.00%\n",
      "userid, 21, 42, 0, 0.00%\n",
      "groupids, 1, 42, 0, 0.00%\n",
      "username_string, 21, 42, 0, 0.00%\n",
      "properties, 0, 0, 42, 100.00%\n",
      "properties_map_cred, 0, 0, 42, 100.00%\n",
      "username, 0, 0, 42, 100.00%\n",
      "properties_map_euid, 0, 0, 42, 100.00%\n"
     ]
    }
   ],
   "execution_count": 6
  },
  {
   "metadata": {
    "ExecuteTime": {
     "end_time": "2024-04-21T16:45:52.490661Z",
     "start_time": "2024-04-21T16:45:52.487961Z"
    }
   },
   "cell_type": "code",
   "source": [
    "# filter out columns that have no distinct values and are always NULL\n",
    "principal_null_cols = ['properties', 'properties_map_cred', 'username', 'properties_map_euid']\n",
    "\n",
    "principal_relevant_cols = [col for col in principal_col_names if col not in principal_null_cols]\n",
    "\n",
    "# remove cols with only one distinct value\n",
    "principal_relevant_cols.remove('type')\n",
    "principal_relevant_cols.remove('hostid')\n",
    "principal_relevant_cols.remove('groupids')\n",
    "\n",
    "# remove cols that have no semantic meaning\n",
    "principal_relevant_cols.remove('line')\n",
    "principal_relevant_cols.remove('line_no')\n",
    "\n",
    "print(f'number of relevant columns: {len(principal_relevant_cols)}')\n",
    "print(principal_relevant_cols)"
   ],
   "id": "62ef5c146fb4caf",
   "outputs": [
    {
     "name": "stdout",
     "output_type": "stream",
     "text": [
      "number of relevant columns: 3\n",
      "['uuid', 'userid', 'username_string']\n"
     ]
    }
   ],
   "execution_count": 7
  },
  {
   "metadata": {
    "ExecuteTime": {
     "end_time": "2024-04-28T20:09:57.411991Z",
     "start_time": "2024-04-28T20:09:57.303120Z"
    }
   },
   "cell_type": "code",
   "source": [
    "# general function\n",
    "def get_relevant_cols(table_name):\n",
    "    # select column names from table\n",
    "    cur.execute('SELECT column_name FROM information_schema.columns WHERE table_name = %s', (table_name,))\n",
    "    column_names_r = cur.fetchall()\n",
    "\n",
    "    # convert to list of strings\n",
    "    col_names = [row[0] for row in column_names_r]\n",
    "    null_cols = []\n",
    "    only_one_distinct_cols = []\n",
    "\n",
    "    # print columns and their count of distinct values and their NULL percentage\n",
    "    print(f'name, distinct values, not NULL, NULL, NULL percentage')\n",
    "    for col in col_names:\n",
    "        cur.execute(f'SELECT COUNT(DISTINCT {col}), COUNT(*) FROM {table_name} WHERE {col} IS NOT NULL')\n",
    "        distinct_count, not_null_count = cur.fetchone()\n",
    "        cur.execute(f'SELECT COUNT(*) FROM {table_name} WHERE {col} IS NULL')\n",
    "        null_count = cur.fetchone()[0]\n",
    "        print(f'{col}, {distinct_count}, {not_null_count}, {null_count}, {null_count / (null_count + not_null_count) * 100:.2f}%')\n",
    "        if distinct_count == 1:\n",
    "            only_one_distinct_cols.append(col)\n",
    "        elif null_count == null_count + not_null_count:\n",
    "            null_cols.append(col)\n",
    "        \n",
    "    print(f'number of columns in table \\'{table_name}\\': {len(col_names)}')\n",
    "    print(f'number of columns with only one distinct value: {len(only_one_distinct_cols)}')\n",
    "    print(f'\\t{only_one_distinct_cols}')\n",
    "    print(f'number of columns with always NULL: {len(null_cols)}')\n",
    "    print(f'\\t{null_cols}')\n",
    "    \n",
    "\n",
    "    # filter out columns that have no distinct values and are always NULL\n",
    "    relevant_cols = [col for col in col_names if col not in null_cols and col not in only_one_distinct_cols]\n",
    "\n",
    "    print(f'number of relevant columns: {len(relevant_cols)}')\n",
    "    print(f'\\t{relevant_cols}')\n",
    "\n",
    "    return relevant_cols\n",
    "\n",
    "get_relevant_cols('unnamedpipeobject')"
   ],
   "id": "da2196e7fc228b1c",
   "outputs": [
    {
     "name": "stdout",
     "output_type": "stream",
     "text": [
      "name, distinct values, not NULL, NULL, NULL percentage\n",
      "line_no, 27041, 27041, 0, 0.00%\n",
      "line, 870, 27041, 0, 0.00%\n",
      "uuid, 27041, 27041, 0, 0.00%\n",
      "sourcefiledescriptor, 0, 0, 27041, 100.00%\n",
      "sinkfiledescriptor, 0, 0, 27041, 100.00%\n",
      "baseobject_hostid, 1, 27041, 0, 0.00%\n",
      "baseobject_permission, 0, 0, 27041, 100.00%\n",
      "baseobject_epoch, 0, 0, 27041, 100.00%\n",
      "sourceuuid_uuid, 27041, 27041, 0, 0.00%\n",
      "sinkuuid_uuid, 27041, 27041, 0, 0.00%\n",
      "sourceuuid, 0, 0, 27041, 100.00%\n",
      "sinkuuid, 0, 0, 27041, 100.00%\n",
      "baseobject_properties, 0, 0, 27041, 100.00%\n",
      "baseobject_epoch_int, 0, 0, 27041, 100.00%\n",
      "baseobject_properties_map_pid, 0, 0, 27041, 100.00%\n",
      "sourcefiledescriptor_int, 0, 0, 27041, 100.00%\n",
      "sinkfiledescriptor_int, 0, 0, 27041, 100.00%\n",
      "number of columns in table 'unnamedpipeobject': 17\n",
      "number of columns with only one distinct value: 1\n",
      "\t['baseobject_hostid']\n",
      "number of columns with always NULL: 11\n",
      "\t['sourcefiledescriptor', 'sinkfiledescriptor', 'baseobject_permission', 'baseobject_epoch', 'sourceuuid', 'sinkuuid', 'baseobject_properties', 'baseobject_epoch_int', 'baseobject_properties_map_pid', 'sourcefiledescriptor_int', 'sinkfiledescriptor_int']\n",
      "number of relevant columns: 5\n",
      "\t['line_no', 'line', 'uuid', 'sourceuuid_uuid', 'sinkuuid_uuid']\n"
     ]
    },
    {
     "data": {
      "text/plain": [
       "['line_no', 'line', 'uuid', 'sourceuuid_uuid', 'sinkuuid_uuid']"
      ]
     },
     "execution_count": 38,
     "metadata": {},
     "output_type": "execute_result"
    }
   ],
   "execution_count": 38
  },
  {
   "metadata": {
    "ExecuteTime": {
     "end_time": "2024-04-28T20:10:56.420861Z",
     "start_time": "2024-04-28T20:10:56.418601Z"
    }
   },
   "cell_type": "code",
   "source": [
    "# cleanup\n",
    "cur.close()\n",
    "conn.close()"
   ],
   "id": "ea5510b40f69a6c3",
   "outputs": [],
   "execution_count": 39
  },
  {
   "metadata": {
    "ExecuteTime": {
     "end_time": "2024-05-10T15:42:20.773832Z",
     "start_time": "2024-05-10T15:42:20.771733Z"
    }
   },
   "cell_type": "code",
   "source": "",
   "id": "bcfa17353cc45d55",
   "outputs": [
    {
     "name": "stdout",
     "output_type": "stream",
     "text": [
      "Object `conn` not found.\n"
     ]
    }
   ],
   "execution_count": 8
  }
 ],
 "metadata": {
  "kernelspec": {
   "display_name": "Python 3",
   "language": "python",
   "name": "python3"
  },
  "language_info": {
   "codemirror_mode": {
    "name": "ipython",
    "version": 2
   },
   "file_extension": ".py",
   "mimetype": "text/x-python",
   "name": "python",
   "nbconvert_exporter": "python",
   "pygments_lexer": "ipython2",
   "version": "2.7.6"
  }
 },
 "nbformat": 4,
 "nbformat_minor": 5
}
