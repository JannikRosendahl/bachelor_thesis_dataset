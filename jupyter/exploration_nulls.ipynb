{
 "cells": [
  {
   "cell_type": "code",
   "id": "dbc36f12bc8bc060",
   "metadata": {
    "collapsed": true,
    "ExecuteTime": {
     "end_time": "2024-06-24T11:18:34.847670Z",
     "start_time": "2024-06-24T11:18:34.568529Z"
    }
   },
   "source": [
    "import psycopg2\n",
    "import numpy as np\n",
    "import matplotlib.pyplot as plt\n",
    "import os"
   ],
   "outputs": [],
   "execution_count": 1
  },
  {
   "metadata": {
    "ExecuteTime": {
     "end_time": "2024-06-24T11:18:34.851610Z",
     "start_time": "2024-06-24T11:18:34.848938Z"
    }
   },
   "cell_type": "code",
   "source": [
    "# set matplotlib size\n",
    "def mpl_figsize(scale_factor: int | float) -> tuple[float, float]:\n",
    "    return 6.4 * scale_factor, 4.8 * scale_factor\n",
    "\n",
    "\n",
    "def mpl_figsize_xy(scale_factor_x: int | float, scale_factor_y: int | float) -> tuple[float, float]:\n",
    "    return 6.4 * scale_factor_x, 4.8 * scale_factor_y"
   ],
   "id": "f4e3c35ec496ed60",
   "outputs": [],
   "execution_count": 2
  },
  {
   "metadata": {
    "ExecuteTime": {
     "end_time": "2024-06-24T11:18:59.238182Z",
     "start_time": "2024-06-24T11:18:59.230709Z"
    }
   },
   "cell_type": "code",
   "source": [
    "# setup connection\n",
    "conn = psycopg2.connect(\n",
    "    host='localhost',\n",
    "    database='cadets_e3',\n",
    "    user='rosendahl',\n",
    ")\n",
    "conn.set_session(readonly=True)\n",
    "# get cursor\n",
    "cur = conn.cursor()"
   ],
   "id": "1f7223e02035e972",
   "outputs": [],
   "execution_count": 6
  },
  {
   "metadata": {
    "ExecuteTime": {
     "end_time": "2024-06-24T11:19:00.705641Z",
     "start_time": "2024-06-24T11:19:00.639255Z"
    }
   },
   "cell_type": "code",
   "source": [
    "# debug\n",
    "os.system(\"hostnamectl hostname\")\n",
    "print(f'current working directory: {os.getcwd()}')"
   ],
   "id": "initial_id",
   "outputs": [
    {
     "name": "stdout",
     "output_type": "stream",
     "text": [
      "vmrosendahl\n",
      "current working directory: /home/rosendahl/remote_interpreter/dataset/jupyter\n"
     ]
    }
   ],
   "execution_count": 7
  },
  {
   "metadata": {
    "ExecuteTime": {
     "end_time": "2024-06-24T11:18:54.769739Z",
     "start_time": "2024-06-24T11:18:54.766924Z"
    }
   },
   "cell_type": "code",
   "source": [
    "# destroy cursor and connection\n",
    "cur.close()\n",
    "conn.close()"
   ],
   "id": "6cc27daebfc0cb83",
   "outputs": [],
   "execution_count": 5
  },
  {
   "metadata": {
    "ExecuteTime": {
     "end_time": "2024-06-24T11:20:36.195581Z",
     "start_time": "2024-06-24T11:20:32.540607Z"
    }
   },
   "cell_type": "code",
   "source": [
    "# get all subject ids where properties_map_exec is NULL\n",
    "\n",
    "query = '''\n",
    "select distinct event.subject_uuid\n",
    "from event\n",
    "where type = 'EVENT_FLOWS_TO'\n",
    "'''\n",
    "\n",
    "cur.execute(query)\n",
    "\n",
    "subject_ids = cur.fetchall()\n",
    "subject_ids = [subject_id[0] for subject_id in subject_ids]\n",
    "\n",
    "print(f'Number of subject ids: {len(subject_ids)}')"
   ],
   "id": "28b1192eaedca5d1",
   "outputs": [
    {
     "name": "stdout",
     "output_type": "stream",
     "text": [
      "Number of subject ids: 532\n"
     ]
    }
   ],
   "execution_count": 10
  },
  {
   "metadata": {
    "ExecuteTime": {
     "end_time": "2024-06-24T11:22:57.155374Z",
     "start_time": "2024-06-24T11:22:56.672126Z"
    }
   },
   "cell_type": "code",
   "source": [
    "# find all properties_map_exec for each subject id\n",
    "query = '''\n",
    "select distinct properties_map_exec\n",
    "from event\n",
    "where subject_uuid = %s\n",
    "'''\n",
    "\n",
    "executables = {}\n",
    "\n",
    "for subject_id in subject_ids:\n",
    "    cur.execute(query, (subject_id,))\n",
    "    result = cur.fetchall()\n",
    "    for r in result:\n",
    "        if r[0] is not None:\n",
    "            if r[0] not in executables:\n",
    "                executables[r[0]] = 1\n",
    "            else:\n",
    "                executables[r[0]] += 1\n",
    "    \n",
    "print(f'Number of properties_map_exec: {len(executables)}')\n",
    "display(executables)"
   ],
   "id": "59750a0519e99485",
   "outputs": [
    {
     "name": "stdout",
     "output_type": "stream",
     "text": [
      "Number of properties_map_exec: 8\n"
     ]
    },
    {
     "data": {
      "text/plain": [
       "{'sh': 461,\n",
       " 'cp': 376,\n",
       " 'sendmail': 57,\n",
       " 'tee': 96,\n",
       " 'mail.local': 2,\n",
       " 'pw': 1,\n",
       " 'bash': 2,\n",
       " 'ping': 2}"
      ]
     },
     "metadata": {},
     "output_type": "display_data"
    }
   ],
   "execution_count": 12
  }
 ],
 "metadata": {
  "kernelspec": {
   "display_name": "Python 3",
   "language": "python",
   "name": "python3"
  },
  "language_info": {
   "codemirror_mode": {
    "name": "ipython",
    "version": 2
   },
   "file_extension": ".py",
   "mimetype": "text/x-python",
   "name": "python",
   "nbconvert_exporter": "python",
   "pygments_lexer": "ipython2",
   "version": "2.7.6"
  }
 },
 "nbformat": 4,
 "nbformat_minor": 5
}
