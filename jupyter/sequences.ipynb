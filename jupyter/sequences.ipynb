{
 "cells": [
  {
   "cell_type": "code",
   "id": "initial_id",
   "metadata": {
    "collapsed": true,
    "ExecuteTime": {
     "end_time": "2024-06-07T10:12:26.675093Z",
     "start_time": "2024-06-07T10:12:26.424423Z"
    }
   },
   "source": [
    "import psycopg2\n",
    "import numpy as np\n",
    "import matplotlib.pyplot as plt\n",
    "import os"
   ],
   "outputs": [],
   "execution_count": 1
  },
  {
   "metadata": {
    "ExecuteTime": {
     "end_time": "2024-06-07T10:12:27.700381Z",
     "start_time": "2024-06-07T10:12:27.697598Z"
    }
   },
   "cell_type": "code",
   "source": [
    "# set matplotlib size\n",
    "def mpl_figsize(scale_factor: int | float) -> tuple[float, float]:\n",
    "    return 6.4 * scale_factor, 4.8 * scale_factor\n",
    "\n",
    "def mpl_figsize_xy(scale_factor_x: int | float, scale_factor_y: int | float) -> tuple[float, float]:\n",
    "    return 6.4 * scale_factor_x, 4.8 * scale_factor_y\n"
   ],
   "id": "f9e22e3f607b6243",
   "outputs": [],
   "execution_count": 2
  },
  {
   "metadata": {
    "ExecuteTime": {
     "end_time": "2024-06-07T10:23:22.541325Z",
     "start_time": "2024-06-07T10:23:22.533635Z"
    }
   },
   "cell_type": "code",
   "source": [
    "# setup connection\n",
    "conn = psycopg2.connect(\n",
    "    host='localhost',\n",
    "    database='cadets_e3',\n",
    "    user='rosendahl',\n",
    ")\n",
    "conn.set_session(readonly=True)\n",
    "# get cursor\n",
    "cur = conn.cursor()"
   ],
   "id": "7f6d2c7f28acce58",
   "outputs": [],
   "execution_count": 17
  },
  {
   "metadata": {
    "ExecuteTime": {
     "end_time": "2024-06-07T10:12:33.984580Z",
     "start_time": "2024-06-07T10:12:33.919949Z"
    }
   },
   "cell_type": "code",
   "source": [
    "# debug\n",
    "os.system(\"hostnamectl hostname\")\n",
    "print(f'current working directory: {os.getcwd()}')"
   ],
   "id": "bd7d85bf6de69d24",
   "outputs": [
    {
     "name": "stdout",
     "output_type": "stream",
     "text": [
      "vmrosendahl\n",
      "current working directory: /home/rosendahl/remote_interpreter/dataset/jupyter\n"
     ]
    }
   ],
   "execution_count": 4
  },
  {
   "metadata": {
    "ExecuteTime": {
     "end_time": "2024-06-07T10:13:07.039410Z",
     "start_time": "2024-06-07T10:13:07.032523Z"
    }
   },
   "cell_type": "code",
   "source": [
    "# load blacklisted subjects\n",
    "blacklisted_subject_uuids = set()\n",
    "nulls = set()\n",
    "with open('data/blacklisted_subjects_nulls.txt') as f:\n",
    "    for line in f:\n",
    "        nulls.add(line.strip())\n",
    "print(f'loaded {len(nulls)} nulls')\n",
    "\n",
    "invalid = set()\n",
    "with open('data/blacklisted_subjects_invalid_sequences.txt') as f:\n",
    "    for line in f:\n",
    "        invalid.add(line.strip())\n",
    "print(f'loaded {len(invalid)} invalids')\n",
    "\n",
    "blacklisted_subject_uuids.update(nulls)\n",
    "blacklisted_subject_uuids.update(invalid)\n",
    "\n",
    "print(f'blacklisted {len(blacklisted_subject_uuids)} subjects')"
   ],
   "id": "36530d4276976a7b",
   "outputs": [
    {
     "name": "stdout",
     "output_type": "stream",
     "text": [
      "loaded 532 nulls\n",
      "loaded 542 invalids\n",
      "blacklisted 542 subjects\n"
     ]
    }
   ],
   "execution_count": 5
  },
  {
   "metadata": {},
   "cell_type": "code",
   "outputs": [],
   "execution_count": null,
   "source": [
    "# get all sequences (excluding blacklisted subjects)\n",
    "\"\"\"query = f'''\n",
    "select s.uuid, e.properties_map_exec, count(*) as count\n",
    "from event e\n",
    "join subject s\n",
    "    on e.subject_uuid = s.uuid\n",
    "where s.uuid not in %s\n",
    "group by s.uuid, e.properties_map_exec\n",
    "'''\n",
    "\n",
    "cur.execute(query, (tuple(blacklisted_subject_uuids),))\"\"\""
   ],
   "id": "f5804daa9da57611"
  },
  {
   "metadata": {
    "ExecuteTime": {
     "end_time": "2024-06-07T10:13:11.239709Z",
     "start_time": "2024-06-07T10:13:11.235282Z"
    }
   },
   "cell_type": "code",
   "source": [
    "# load hsh attack events\n",
    "hsh_attack_events = set()\n",
    "with open('data/blacklisted_events_attack_hsh.txt') as f:\n",
    "    for line in f:\n",
    "        hsh_attack_events.add(line.strip())\n",
    "print(f'loaded {len(hsh_attack_events)} hsh attack events')"
   ],
   "id": "3d82e5703d4ecf81",
   "outputs": [
    {
     "name": "stdout",
     "output_type": "stream",
     "text": [
      "loaded 2209 hsh attack events\n"
     ]
    }
   ],
   "execution_count": 6
  },
  {
   "metadata": {
    "ExecuteTime": {
     "end_time": "2024-05-29T10:53:22.225037Z",
     "start_time": "2024-05-29T10:52:49.282909Z"
    }
   },
   "cell_type": "code",
   "source": [
    "# filter sequences that contain attack events\n",
    "# a sequence is identified by a subject_uuid and a properties_map_exec\n",
    "sequence_attack_blacklist = set()\n",
    "\n",
    "query = f'''\n",
    "select e.uuid, s.uuid, e.properties_map_exec\n",
    "from event e\n",
    "join subject s\n",
    "    on e.subject_uuid = s.uuid\n",
    "where s.uuid not in %s\n",
    "order by e.sequence_long\n",
    "'''\n",
    "\n",
    "cur.execute(query, (tuple(blacklisted_subject_uuids),))\n",
    "\n",
    "for row in cur:\n",
    "    event_uuid, subject_uuid, properties_map_exec = row\n",
    "    if event_uuid in hsh_attack_events:\n",
    "        sequence_attack_blacklist.add((subject_uuid, properties_map_exec))\n",
    "\n",
    "print(f'blacklisted {len(sequence_attack_blacklist)} sequences')"
   ],
   "id": "2050a3bfad30d5b2",
   "outputs": [
    {
     "name": "stdout",
     "output_type": "stream",
     "text": [
      "blacklisted 358 sequences\n"
     ]
    }
   ],
   "execution_count": 5
  },
  {
   "metadata": {
    "ExecuteTime": {
     "end_time": "2024-05-29T10:54:07.679549Z",
     "start_time": "2024-05-29T10:54:07.675733Z"
    }
   },
   "cell_type": "code",
   "source": [
    "# save blacklisted sequences to file\n",
    "with open('data/blacklisted_sequences_attack_hsh.txt', 'w') as f:\n",
    "    for subject_uuid, properties_map_exec in sequence_attack_blacklist:\n",
    "        f.write(f'{subject_uuid} {properties_map_exec}\\n')\n",
    "print(f'saved {len(sequence_attack_blacklist)} blacklisted sequences')"
   ],
   "id": "f92b96b17e2073bc",
   "outputs": [
    {
     "name": "stdout",
     "output_type": "stream",
     "text": [
      "saved 358 blacklisted sequences\n"
     ]
    }
   ],
   "execution_count": 7
  },
  {
   "metadata": {
    "ExecuteTime": {
     "end_time": "2024-06-07T10:13:32.781052Z",
     "start_time": "2024-06-07T10:13:32.777010Z"
    }
   },
   "cell_type": "code",
   "source": [
    "# load blacklisted sequences from file\n",
    "sequence_attack_blacklist = set()\n",
    "with open('data/blacklisted_sequences_attack_hsh.txt') as f:\n",
    "    for line in f:\n",
    "        subject_uuid, properties_map_exec = line.strip().split(' ')\n",
    "        sequence_attack_blacklist.add((subject_uuid, properties_map_exec))\n",
    "print(f'loaded {len(sequence_attack_blacklist)} blacklisted sequences')"
   ],
   "id": "fcd5bac61fe912b0",
   "outputs": [
    {
     "name": "stdout",
     "output_type": "stream",
     "text": [
      "loaded 358 blacklisted sequences\n"
     ]
    }
   ],
   "execution_count": 7
  },
  {
   "metadata": {
    "ExecuteTime": {
     "end_time": "2024-05-29T11:09:10.220678Z",
     "start_time": "2024-05-29T11:08:41.319035Z"
    }
   },
   "cell_type": "code",
   "source": [
    "# for each sequence, check length\n",
    "\n",
    "total_event_count = 0\n",
    "total_event_count_wout_python = 0\n",
    "\n",
    "for subject_uuid, properties_map_exec in sequence_attack_blacklist:\n",
    "    query = f'''\n",
    "    select s.uuid, e.properties_map_exec, count(*) as count\n",
    "    from event e\n",
    "    join subject s\n",
    "        on e.subject_uuid = s.uuid\n",
    "    where s.uuid = \\'{subject_uuid}\\' and e.properties_map_exec = \\'{properties_map_exec}\\'\n",
    "    group by s.uuid, e.properties_map_exec\n",
    "    '''\n",
    "    \n",
    "    cur.execute(query)\n",
    "    subject_uuid, properties_map_exec, count = cur.fetchone()\n",
    "    total_event_count += count\n",
    "    total_event_count_wout_python += count if 'python' not in properties_map_exec else 0\n",
    "    print(f'{subject_uuid} {properties_map_exec} {count}')    \n",
    "    \n",
    "print(f'total blacklisted events: {total_event_count}')\n",
    "print(f'total blacklisted events wout python: {total_event_count_wout_python}')\n"
   ],
   "id": "ce6379b58ca43b83",
   "outputs": [
    {
     "name": "stdout",
     "output_type": "stream",
     "text": [
      "16DA31A5-375E-11E8-BF66-D9AA8AFF4A69 top 133\n",
      "3076FCED-39BE-11E8-B8CE-15D78AC88FB6 inetd 9326\n",
      "3FE140CE-397E-11E8-BF66-D9AA8AFF4A69 smtpd 312\n",
      "7EF2410A-3E4C-11E8-A5CB-3FA3753A265A imapd 373\n",
      "468B953B-3BDA-11E8-B8CE-15D78AC88FB6 vmstat 70\n",
      "C0099B8F-397D-11E8-BF66-D9AA8AFF4A69 imapd 663\n",
      "91D778E4-3980-11E8-BF66-D9AA8AFF4A69 cron 45\n",
      "DE8E3C94-3E4C-11E8-A5CB-3FA3753A265A lsof 632\n",
      "5CF4FE3E-3761-11E8-BF66-D9AA8AFF4A69 inetd 44\n",
      "F27DDB53-3823-11E8-BF66-D9AA8AFF4A69 python2.7 2071\n",
      "72FB0406-3678-11E8-BF66-D9AA8AFF4A69 python2.7 2262676\n",
      "275D368C-3823-11E8-BF66-D9AA8AFF4A69 lsof 629\n",
      "20786A38-397D-11E8-BF66-D9AA8AFF4A69 cleanup 297\n",
      "487A2292-3BDA-11E8-B8CE-15D78AC88FB6 lsof 632\n",
      "85F95431-3D89-11E8-B8CE-15D78AC88FB6 sshd 289\n",
      "44A7CCC7-3981-11E8-BF66-D9AA8AFF4A69 cron 45\n",
      "A7099CEE-3E4D-11E8-A5CB-3FA3753A265A imapd 804\n",
      "4E5F40D2-3E4C-11E8-A5CB-3FA3753A265A lsof 631\n",
      "50F087EF-3761-11E8-BF66-D9AA8AFF4A69 local 368\n",
      "4B760F12-3823-11E8-BF66-D9AA8AFF4A69 lsof 626\n",
      "FB1066ED-3EE8-11E8-A5CB-3FA3753A265A cron 45\n",
      "E640A173-397D-11E8-BF66-D9AA8AFF4A69 smtpd 349\n",
      "37DBEED5-3BD4-11E8-B8CE-15D78AC88FB6 vmstat 70\n",
      "71C8BBFB-3760-11E8-BF66-D9AA8AFF4A69 sh 157\n",
      "0EF8196A-3760-11E8-BF66-D9AA8AFF4A69 sleep 20\n",
      "505DC0D3-3762-11E8-BF66-D9AA8AFF4A69 top 144\n",
      "72FB8F58-3BD8-11E8-B8CE-15D78AC88FB6 top 144\n",
      "660D47A7-3981-11E8-BF66-D9AA8AFF4A69 anvil 251\n",
      "451FECC3-3981-11E8-BF66-D9AA8AFF4A69 imapd 359\n",
      "54A81DBC-3761-11E8-BF66-D9AA8AFF4A69 lsof 669\n",
      "27F00432-3BD9-11E8-B8CE-15D78AC88FB6 lsof 631\n",
      "F2834B2D-3823-11E8-BF66-D9AA8AFF4A69 python2.7 2052\n",
      "C6CCA3F4-3E4D-11E8-A5CB-3FA3753A265A smtpd 358\n",
      "45ECD984-3762-11E8-BF66-D9AA8AFF4A69 sshd 50\n",
      "E9846354-3E49-11E8-A5CB-3FA3753A265A lsof 624\n",
      "3706B342-3761-11E8-BF66-D9AA8AFF4A69 local 670\n",
      "BD8494D9-397E-11E8-BF66-D9AA8AFF4A69 cleanup 291\n",
      "60F3B3A2-397C-11E8-BF66-D9AA8AFF4A69 cron 45\n",
      "DF06E089-397F-11E8-BF66-D9AA8AFF4A69 cron 45\n",
      "84B19EAD-3762-11E8-BF66-D9AA8AFF4A69 imapd 377\n",
      "7C5B533C-3760-11E8-BF66-D9AA8AFF4A69 lsof 638\n",
      "450E7DE4-3981-11E8-BF66-D9AA8AFF4A69 imapd 294\n",
      "BD627C90-397E-11E8-BF66-D9AA8AFF4A69 trivial-rewrite 308\n",
      "F7780BC1-3981-11E8-BF66-D9AA8AFF4A69 cron 45\n",
      "1D5D573E-3D8A-11E8-B8CE-15D78AC88FB6 sshd 290\n",
      "C53D9A5D-3BD5-11E8-B8CE-15D78AC88FB6 sleep 20\n",
      "151C317C-3AAE-11E8-B8CE-15D78AC88FB6 imapd 2\n",
      "5BEE3B1F-375F-11E8-BF66-D9AA8AFF4A69 lsof 638\n",
      "0AFF5B36-3E49-11E8-A5CB-3FA3753A265A imapd 400\n",
      "E3A415FF-3761-11E8-BF66-D9AA8AFF4A69 sleep 20\n",
      "B6EC763E-3E4D-11E8-A5CB-3FA3753A265A lsof 639\n",
      "2C398B49-397F-11E8-BF66-D9AA8AFF4A69 cron 45\n",
      "BD1A4CB7-397E-11E8-BF66-D9AA8AFF4A69 proxymap 244\n",
      "70139F9B-3BD9-11E8-B8CE-15D78AC88FB6 lsof 634\n",
      "38F1367A-397F-11E8-BF66-D9AA8AFF4A69 mlock 37\n",
      "E07A1513-3AAD-11E8-B8CE-15D78AC88FB6 proxymap 1030\n",
      "4BFA4598-3BD9-11E8-B8CE-15D78AC88FB6 lsof 634\n",
      "CBCB5DEC-375E-11E8-BF66-D9AA8AFF4A69 lsof 639\n",
      "3FF20BB0-397E-11E8-BF66-D9AA8AFF4A69 proxymap 244\n",
      "6ED0C3C6-3E4D-11E8-A5CB-3FA3753A265A lsof 631\n",
      "26FAD7FF-39BE-11E8-B8CE-15D78AC88FB6 qmgr 133369\n",
      "4DC122BB-397C-11E8-BF66-D9AA8AFF4A69 mlock 37\n",
      "6F706E08-3762-11E8-BF66-D9AA8AFF4A69 imapd 551\n",
      "177EC5CB-375E-11E8-BF66-D9AA8AFF4A69 date 27\n",
      "E64E5F72-397D-11E8-BF66-D9AA8AFF4A69 proxymap 294\n",
      "EBE5C69E-3981-11E8-BF66-D9AA8AFF4A69 inetd 44\n",
      "F6128C15-3761-11E8-BF66-D9AA8AFF4A69 sshd 59\n",
      "32815334-3E49-11E8-A5CB-3FA3753A265A sendmail 9\n",
      "726580EA-3E4C-11E8-A5CB-3FA3753A265A lsof 630\n",
      "DC5995EF-397F-11E8-BF66-D9AA8AFF4A69 smtpd 349\n",
      "A41C77CA-375F-11E8-BF66-D9AA8AFF4A69 lsof 637\n",
      "9CF8DD73-3BD6-11E8-B8CE-15D78AC88FB6 python2.7 2071\n",
      "45D6ED4D-3762-11E8-BF66-D9AA8AFF4A69 sshd 59\n",
      "9E2FA80C-3BD6-11E8-B8CE-15D78AC88FB6 top 144\n",
      "7E0EF740-3762-11E8-BF66-D9AA8AFF4A69 local 495\n",
      "9A1BF5BE-3E4B-11E8-A5CB-3FA3753A265A lsof 629\n",
      "C483F603-3760-11E8-BF66-D9AA8AFF4A69 lsof 637\n",
      "B27E84C9-3E4D-11E8-A5CB-3FA3753A265A imapd 493\n",
      "FF2A314F-3823-11E8-BF66-D9AA8AFF4A69 sleep 20\n",
      "BDCBBB38-375F-11E8-BF66-D9AA8AFF4A69 pickup 1133\n",
      "79B1AAEF-3E4A-11E8-A5CB-3FA3753A265A lsof 626\n",
      "37E7A19C-375F-11E8-BF66-D9AA8AFF4A69 lsof 638\n",
      "FB2DEC5F-3761-11E8-BF66-D9AA8AFF4A69 sh 157\n",
      "C6E0C2D0-375F-11E8-BF66-D9AA8AFF4A69 vmstat 71\n",
      "0C91FDCB-3761-11E8-BF66-D9AA8AFF4A69 lsof 638\n",
      "3DAAC43E-3761-11E8-BF66-D9AA8AFF4A69 mlock 37\n",
      "22AB23C6-39BE-11E8-B8CE-15D78AC88FB6 syslogd 162319\n",
      "E23C4E28-3E4B-11E8-A5CB-3FA3753A265A lsof 628\n",
      "EFD30D3D-375E-11E8-BF66-D9AA8AFF4A69 lsof 638\n",
      "FFC87719-3823-11E8-BF66-D9AA8AFF4A69 lsof 630\n",
      "4ADADD7F-3761-11E8-BF66-D9AA8AFF4A69 imapd 369\n",
      "7FFDD363-375F-11E8-BF66-D9AA8AFF4A69 lsof 637\n",
      "68190FA8-3E4D-11E8-A5CB-3FA3753A265A sendmail 8\n",
      "B000DE4B-3AAE-11E8-B8CE-15D78AC88FB6 imapd 2\n",
      "73196676-3678-11E8-BF66-D9AA8AFF4A69 sshd 3045\n",
      "2A55BED8-3E4C-11E8-A5CB-3FA3753A265A lsof 631\n",
      "4710003D-3E4E-11E8-A5CB-3FA3753A265A lsof 629\n",
      "1AC05B7A-3DC3-11E8-A5CB-3FA3753A265A sendmail 98\n",
      "708B08C1-3678-11E8-BF66-D9AA8AFF4A69 devd 4300\n",
      "663B5F4E-3981-11E8-BF66-D9AA8AFF4A69 trivial-rewrite 308\n",
      "C6973392-397D-11E8-BF66-D9AA8AFF4A69 cron 45\n",
      "6110315C-3823-11E8-BF66-D9AA8AFF4A69 pickup 1133\n",
      "E4E6599D-3761-11E8-BF66-D9AA8AFF4A69 lsof 635\n",
      "4ABFE94F-3E4D-11E8-A5CB-3FA3753A265A lsof 631\n",
      "BD2D2D64-397E-11E8-BF66-D9AA8AFF4A69 anvil 251\n",
      "2057708F-397D-11E8-BF66-D9AA8AFF4A69 trivial-rewrite 308\n",
      "49F356DE-3D8A-11E8-B8CE-15D78AC88FB6 imapd 605\n",
      "F283EC87-3823-11E8-BF66-D9AA8AFF4A69 python2.7 2071\n",
      "7DB37BA1-3762-11E8-BF66-D9AA8AFF4A69 proxymap 244\n",
      "65E53A89-3981-11E8-BF66-D9AA8AFF4A69 smtpd 376\n",
      "95CC374F-3BD8-11E8-B8CE-15D78AC88FB6 sleep 20\n",
      "FF1EF7B0-3823-11E8-BF66-D9AA8AFF4A69 head 22\n",
      "E0A0E50A-3AAD-11E8-B8CE-15D78AC88FB6 trivial-rewrite 977\n",
      "9749D5A8-3760-11E8-BF66-D9AA8AFF4A69 uptime 79\n",
      "7606626A-3E4B-11E8-A5CB-3FA3753A265A lsof 628\n",
      "2CF79768-3762-11E8-BF66-D9AA8AFF4A69 lsof 637\n",
      "B58BD1A8-3980-11E8-BF66-D9AA8AFF4A69 mlock 37\n",
      "145AD8F6-397D-11E8-BF66-D9AA8AFF4A69 inetd 44\n",
      "627B4038-3AAE-11E8-B8CE-15D78AC88FB6 lsof 678\n",
      "EE27A0EA-3BD4-11E8-B8CE-15D78AC88FB6 lsof 635\n",
      "142F800F-3B76-11E8-B8CE-15D78AC88FB6 imapd 9156\n",
      "15FD3B4A-3DC3-11E8-A5CB-3FA3753A265A sendmail 289\n",
      "A8B99C42-3AAE-11E8-B8CE-15D78AC88FB6 sleep 20\n",
      "751CD5F0-3762-11E8-BF66-D9AA8AFF4A69 lsof 639\n",
      "1AD10217-3DC3-11E8-A5CB-3FA3753A265A inetd 4144\n",
      "4734ED26-3BDA-11E8-B8CE-15D78AC88FB6 vmstat 71\n",
      "FFC6B9F0-3823-11E8-BF66-D9AA8AFF4A69 date 27\n",
      "84FDA82A-3EA6-11E8-A5CB-3FA3753A265A imapd 9264\n",
      "14FB3A04-3AAE-11E8-B8CE-15D78AC88FB6 imapd 523\n",
      "4A083BCA-3D8A-11E8-B8CE-15D78AC88FB6 mlock 37\n",
      "E06D9044-3AAD-11E8-B8CE-15D78AC88FB6 smtpd 2209\n",
      "49CF3155-397C-11E8-BF66-D9AA8AFF4A69 anvil 251\n",
      "ADE6B0EA-3EE9-11E8-A5CB-3FA3753A265A cron 45\n",
      "151C3C5B-3AAE-11E8-B8CE-15D78AC88FB6 imapd 2\n",
      "F5AB39A0-397B-11E8-BF66-D9AA8AFF4A69 cron 47\n",
      "E68F9190-397D-11E8-BF66-D9AA8AFF4A69 trivial-rewrite 277\n",
      "1D9D936D-3D8A-11E8-B8CE-15D78AC88FB6 sshd 18\n",
      "7DE4EE10-3762-11E8-BF66-D9AA8AFF4A69 cleanup 337\n",
      "9DB844B8-3E4A-11E8-A5CB-3FA3753A265A lsof 624\n",
      "E5CC98C6-3E4A-11E8-A5CB-3FA3753A265A lsof 629\n",
      "F5ED0F54-3761-11E8-BF66-D9AA8AFF4A69 sshd 291\n",
      "E66137B1-397D-11E8-BF66-D9AA8AFF4A69 anvil 266\n",
      "A7C03108-375E-11E8-BF66-D9AA8AFF4A69 lsof 637\n",
      "C0099B8F-397D-11E8-BF66-D9AA8AFF4A69 inetd 44\n",
      "CA1BF7E0-3BD4-11E8-B8CE-15D78AC88FB6 bash 2\n",
      "13C3DADB-397D-11E8-BF66-D9AA8AFF4A69 cron 45\n",
      "D1A3F031-3EE9-11E8-A5CB-3FA3753A265A cron 47\n",
      "80F82AAB-3EA6-11E8-A5CB-3FA3753A265A imapd 9683\n",
      "1428CBC4-397D-11E8-BF66-D9AA8AFF4A69 imapd 294\n",
      "6697A318-3981-11E8-BF66-D9AA8AFF4A69 local 311\n",
      "1428CBC4-397D-11E8-BF66-D9AA8AFF4A69 inetd 44\n",
      "861E98AE-3D89-11E8-B8CE-15D78AC88FB6 sshd 10\n",
      "19A7BA5B-3982-11E8-BF66-D9AA8AFF4A69 anvil 251\n",
      "4B1B25BD-3761-11E8-BF66-D9AA8AFF4A69 imapd 480\n",
      "A9575D10-3AAE-11E8-B8CE-15D78AC88FB6 vmstat 71\n",
      "51EC3A05-3E4B-11E8-A5CB-3FA3753A265A lsof 630\n",
      "13DE2E86-375F-11E8-BF66-D9AA8AFF4A69 lsof 639\n",
      "65388263-3761-11E8-BF66-D9AA8AFF4A69 imapd 368\n",
      "C8D45DA2-3BD4-11E8-B8CE-15D78AC88FB6 vmstat 71\n",
      "451FECC3-3981-11E8-BF66-D9AA8AFF4A69 inetd 44\n",
      "26F86F5B-39BE-11E8-B8CE-15D78AC88FB6 master 300020\n",
      "50E1F3EF-3761-11E8-BF66-D9AA8AFF4A69 local 494\n",
      "A9575D10-3AAE-11E8-B8CE-15D78AC88FB6 bash 4\n",
      "450E7DE4-3981-11E8-BF66-D9AA8AFF4A69 inetd 44\n",
      "C2F08655-3BD6-11E8-B8CE-15D78AC88FB6 lsof 635\n",
      "F1D15DAB-3BD3-11E8-B8CE-15D78AC88FB6 sleep 20\n",
      "C8D45DA2-3BD4-11E8-B8CE-15D78AC88FB6 bash 4\n",
      "8739AEAA-3D89-11E8-B8CE-15D78AC88FB6 sshd 50\n",
      "5F4EF58E-3A1A-11E8-B8CE-15D78AC88FB6 python2.7 483\n",
      "42F71250-3761-11E8-BF66-D9AA8AFF4A69 mlock 37\n",
      "112D0AFC-3E49-11E8-A5CB-3FA3753A265A lsof 624\n",
      "31981689-3E4A-11E8-A5CB-3FA3753A265A lsof 626\n",
      "230A6C17-3E4E-11E8-A5CB-3FA3753A265A lsof 631\n",
      "BD0CBB01-397E-11E8-BF66-D9AA8AFF4A69 smtpd 361\n",
      "DC666FDE-397F-11E8-BF66-D9AA8AFF4A69 proxymap 294\n",
      "E88B9450-3760-11E8-BF66-D9AA8AFF4A69 lsof 637\n",
      "54032103-3761-11E8-BF66-D9AA8AFF4A69 top 111\n",
      "92D8FA6F-3E4D-11E8-A5CB-3FA3753A265A lsof 627\n",
      "4DAC749F-397C-11E8-BF66-D9AA8AFF4A69 imapd 396\n",
      "C5DB8EE0-3BD5-11E8-B8CE-15D78AC88FB6 top 144\n",
      "151C3C5B-3AAE-11E8-B8CE-15D78AC88FB6 mlock 37\n",
      "2029D857-397D-11E8-BF66-D9AA8AFF4A69 anvil 251\n",
      "ED80F832-3BD4-11E8-B8CE-15D78AC88FB6 top 144\n",
      "5A50F9CF-3BD5-11E8-B8CE-15D78AC88FB6 lsof 637\n",
      "03DEE8B5-3BD9-11E8-B8CE-15D78AC88FB6 lsof 634\n",
      "A078C81A-3760-11E8-BF66-D9AA8AFF4A69 lsof 637\n",
      "7DA66CE7-3762-11E8-BF66-D9AA8AFF4A69 smtpd 357\n",
      "A3A535D6-3D89-11E8-B8CE-15D78AC88FB6 cron 45\n",
      "42E31214-3761-11E8-BF66-D9AA8AFF4A69 mlock 37\n",
      "72FBC7C1-3BD8-11E8-B8CE-15D78AC88FB6 bash 4\n",
      "354BBF9E-3E49-11E8-A5CB-3FA3753A265A lsof 625\n",
      "3A33B69E-375E-11E8-BF66-D9AA8AFF4A69 sshd 50\n",
      "C49483B1-3D89-11E8-B8CE-15D78AC88FB6 mlock 38\n",
      "86397E1E-3D89-11E8-B8CE-15D78AC88FB6 sshd 59\n",
      "B000E9AF-3AAE-11E8-B8CE-15D78AC88FB6 imapd 2\n",
      "EB89035C-375F-11E8-BF66-D9AA8AFF4A69 top 133\n",
      "0C1063C8-3680-11E8-BF66-D9AA8AFF4A69 qmgr 45848\n",
      "95BFF88A-3BD8-11E8-B8CE-15D78AC88FB6 vmstat 70\n",
      "26AB29C4-3E4D-11E8-A5CB-3FA3753A265A lsof 631\n",
      "44A7A807-3981-11E8-BF66-D9AA8AFF4A69 cron 45\n",
      "7DC51F6F-3762-11E8-BF66-D9AA8AFF4A69 anvil 274\n",
      "C02A1D0F-397D-11E8-BF66-D9AA8AFF4A69 mlock 37\n",
      "657B89AB-3761-11E8-BF66-D9AA8AFF4A69 imapd 469\n",
      "5B62063D-3AAE-11E8-B8CE-15D78AC88FB6 sshd 290\n",
      "4ADADD7F-3761-11E8-BF66-D9AA8AFF4A69 inetd 44\n",
      "868CFDE8-3AAE-11E8-B8CE-15D78AC88FB6 lsof 667\n",
      "CCD04A4B-3AAE-11E8-B8CE-15D78AC88FB6 vmstat 70\n",
      "84A67D60-3EA6-11E8-A5CB-3FA3753A265A imapd 9009\n",
      "4DC7A873-397C-11E8-BF66-D9AA8AFF4A69 mlock 37\n",
      "44A7A807-3981-11E8-BF66-D9AA8AFF4A69 newsyslog 70\n",
      "89C07D7E-3AAE-11E8-B8CE-15D78AC88FB6 wget 1241\n",
      "7B8B4A64-3E4C-11E8-A5CB-3FA3753A265A imapd 698\n",
      "F1AFFF57-3BD3-11E8-B8CE-15D78AC88FB6 lsof 636\n",
      "AFEC93A8-3AAE-11E8-B8CE-15D78AC88FB6 imapd 550\n",
      "76765074-3A1A-11E8-B8CE-15D78AC88FB6 makewhatis 12992\n",
      "4F15A5E7-3762-11E8-BF66-D9AA8AFF4A69 vmstat 70\n",
      "CB234D73-3D89-11E8-B8CE-15D78AC88FB6 mlock 38\n",
      "CA1BF7E0-3BD4-11E8-B8CE-15D78AC88FB6 lsof 636\n",
      "3D46290E-3A1A-11E8-B8CE-15D78AC88FB6 find 81921\n",
      "1A61431F-3AAE-11E8-B8CE-15D78AC88FB6 lsof 684\n",
      "CCD04A4B-3AAE-11E8-B8CE-15D78AC88FB6 bash 4\n",
      "49F356DE-3D8A-11E8-B8CE-15D78AC88FB6 inetd 44\n",
      "54BC3D6F-3BD6-11E8-B8CE-15D78AC88FB6 vmstat 70\n",
      "E43FD865-3761-11E8-BF66-D9AA8AFF4A69 top 133\n",
      "7F08B993-3E4C-11E8-A5CB-3FA3753A265A imapd 368\n",
      "77BA4FAC-3762-11E8-BF66-D9AA8AFF4A69 imapd 486\n",
      "5F5838CA-3A1A-11E8-B8CE-15D78AC88FB6 python2.7 645\n",
      "2DDFB386-3E4B-11E8-A5CB-3FA3753A265A lsof 629\n",
      "368D1E64-3761-11E8-BF66-D9AA8AFF4A69 proxymap 244\n",
      "ED80F832-3BD4-11E8-B8CE-15D78AC88FB6 bash 2\n",
      "5952570B-3E49-11E8-A5CB-3FA3753A265A lsof 624\n",
      "DC78790D-397F-11E8-BF66-D9AA8AFF4A69 anvil 251\n",
      "FFC6B9F0-3823-11E8-BF66-D9AA8AFF4A69 bash 2\n",
      "C973197D-3BD4-11E8-B8CE-15D78AC88FB6 top 144\n",
      "39226B19-3BD4-11E8-B8CE-15D78AC88FB6 top 144\n",
      "9CFDBA66-3BD6-11E8-B8CE-15D78AC88FB6 python2.7 2052\n",
      "26A93615-3BD9-11E8-B8CE-15D78AC88FB6 vmstat 71\n",
      "B000E9AF-3AAE-11E8-B8CE-15D78AC88FB6 mlock 37\n",
      "DAF81244-3E4D-11E8-A5CB-3FA3753A265A lsof 652\n",
      "4A14AE7A-3D8A-11E8-B8CE-15D78AC88FB6 mlock 37\n",
      "BE120A49-3BD7-11E8-B8CE-15D78AC88FB6 vmstat 71\n",
      "029C2DCA-3E4D-11E8-A5CB-3FA3753A265A lsof 633\n",
      "63652023-3E4D-11E8-A5CB-3FA3753A265A sendmail 9\n",
      "3D4BB109-3A1A-11E8-B8CE-15D78AC88FB6 locate.code 9671\n",
      "51050923-3762-11E8-BF66-D9AA8AFF4A69 lsof 644\n",
      "0647CB2E-3E4C-11E8-A5CB-3FA3753A265A lsof 628\n",
      "08717877-397F-11E8-BF66-D9AA8AFF4A69 cron 47\n",
      "71C89837-3760-11E8-BF66-D9AA8AFF4A69 newsyslog 70\n",
      "36B734F9-3761-11E8-BF66-D9AA8AFF4A69 trivial-rewrite 776\n",
      "6F6D5836-3BD9-11E8-B8CE-15D78AC88FB6 head 22\n",
      "9207B2A8-3E4C-11E8-A5CB-3FA3753A265A smtpd 358\n",
      "5CF4FE3E-3761-11E8-BF66-D9AA8AFF4A69 imapd 551\n",
      "C1C5874A-3E4A-11E8-A5CB-3FA3753A265A lsof 628\n",
      "6F6D3607-3BD9-11E8-B8CE-15D78AC88FB6 top 144\n",
      "966C170C-3E4C-11E8-A5CB-3FA3753A265A lsof 658\n",
      "3B654C23-3E4D-11E8-A5CB-3FA3753A265A imapd 294\n",
      "469A76D3-3BDA-11E8-B8CE-15D78AC88FB6 sleep 20\n",
      "1514BC31-397D-11E8-BF66-D9AA8AFF4A69 mlock 37\n",
      "57AD0671-3760-11E8-BF66-D9AA8AFF4A69 top 133\n",
      "45E149AD-3981-11E8-BF66-D9AA8AFF4A69 mlock 37\n",
      "C48E7186-3D89-11E8-B8CE-15D78AC88FB6 mlock 38\n",
      "2016C992-397D-11E8-BF66-D9AA8AFF4A69 proxymap 244\n",
      "08F1463D-3762-11E8-BF66-D9AA8AFF4A69 lsof 638\n",
      "49A9BA10-397C-11E8-BF66-D9AA8AFF4A69 smtpd 312\n",
      "0B8C80A7-3E49-11E8-A5CB-3FA3753A265A imapd 294\n",
      "36C74C83-3761-11E8-BF66-D9AA8AFF4A69 cleanup 519\n",
      "19D5CB9C-3982-11E8-BF66-D9AA8AFF4A69 trivial-rewrite 308\n",
      "C3A67CFA-3D89-11E8-B8CE-15D78AC88FB6 local 305\n",
      "1A35AEF5-3982-11E8-BF66-D9AA8AFF4A69 local 307\n",
      "0C0CC0C3-3680-11E8-BF66-D9AA8AFF4A69 master 111946\n",
      "D59C58B7-373D-11E8-BF66-D9AA8AFF4A69 bash 49231\n",
      "95CC374F-3BD8-11E8-B8CE-15D78AC88FB6 bash 2\n",
      "19FA7068-3982-11E8-BF66-D9AA8AFF4A69 cleanup 293\n",
      "3C203566-3E4D-11E8-A5CB-3FA3753A265A imapd 455\n",
      "411997BB-3EEA-11E8-A5CB-3FA3753A265A mlock 37\n",
      "665BB5BF-3981-11E8-BF66-D9AA8AFF4A69 cleanup 298\n",
      "F8A32E52-3BD9-11E8-B8CE-15D78AC88FB6 sh 36\n",
      "A1693209-3E49-11E8-A5CB-3FA3753A265A lsof 626\n",
      "718516D0-3678-11E8-BF66-D9AA8AFF4A69 ntpd 17928\n",
      "20C23557-397D-11E8-BF66-D9AA8AFF4A69 local 311\n",
      "159D5262-375E-11E8-BF66-D9AA8AFF4A69 sleep 20\n",
      "C02307B5-397D-11E8-BF66-D9AA8AFF4A69 mlock 37\n",
      "4DAC749F-397C-11E8-BF66-D9AA8AFF4A69 inetd 44\n",
      "937E07EF-3BD8-11E8-B8CE-15D78AC88FB6 imapd 394\n",
      "EC02332F-3981-11E8-BF66-D9AA8AFF4A69 mlock 37\n",
      "49BA9B98-397C-11E8-BF66-D9AA8AFF4A69 proxymap 244\n",
      "1D7CD25E-3D8A-11E8-B8CE-15D78AC88FB6 sshd 59\n",
      "C578A296-3E49-11E8-A5CB-3FA3753A265A lsof 625\n",
      "44A7C432-3981-11E8-BF66-D9AA8AFF4A69 cron 47\n",
      "EBFB57C1-3981-11E8-BF66-D9AA8AFF4A69 mlock 37\n",
      "FF1ED400-3823-11E8-BF66-D9AA8AFF4A69 top 133\n",
      "70C1D4CB-3678-11E8-BF66-D9AA8AFF4A69 syslogd 30042\n",
      "EBE5C69E-3981-11E8-BF66-D9AA8AFF4A69 imapd 665\n",
      "198832F6-3982-11E8-BF66-D9AA8AFF4A69 smtpd 363\n",
      "DE6518F1-397E-11E8-BF66-D9AA8AFF4A69 mlock 37\n",
      "540B281B-3761-11E8-BF66-D9AA8AFF4A69 sleep 20\n",
      "65F8BFF3-3981-11E8-BF66-D9AA8AFF4A69 proxymap 244\n",
      "55A22A60-3E4A-11E8-A5CB-3FA3753A265A lsof 625\n",
      "36F7168E-3761-11E8-BF66-D9AA8AFF4A69 local 810\n",
      "5F57C490-3A1A-11E8-B8CE-15D78AC88FB6 python2.7 432\n",
      "26CF82B9-39BE-11E8-B8CE-15D78AC88FB6 sshd 2964\n",
      "3E6C4323-3AAE-11E8-B8CE-15D78AC88FB6 lsof 684\n",
      "A99B7F76-3BD3-11E8-B8CE-15D78AC88FB6 lsof 633\n",
      "FF00E8BD-3E4D-11E8-A5CB-3FA3753A265A lsof 653\n",
      "C3843EC2-3D89-11E8-B8CE-15D78AC88FB6 cleanup 293\n",
      "7D58AA07-3E49-11E8-A5CB-3FA3753A265A lsof 626\n",
      "9892432F-3762-11E8-BF66-D9AA8AFF4A69 top 122\n",
      "BDBEAF9A-397E-11E8-BF66-D9AA8AFF4A69 local 305\n",
      "1D92A573-3D8A-11E8-B8CE-15D78AC88FB6 sshd 50\n",
      "45B70B83-3762-11E8-BF66-D9AA8AFF4A69 sshd 290\n",
      "EA89CFE4-3BD5-11E8-B8CE-15D78AC88FB6 lsof 636\n",
      "65C53022-39C4-11E8-B8CE-15D78AC88FB6 bash 79172\n",
      "EB919DCD-3BD5-11E8-B8CE-15D78AC88FB6 sysctl 22\n",
      "EB871F38-3BD5-11E8-B8CE-15D78AC88FB6 sh 157\n",
      "C76A062E-3D89-11E8-B8CE-15D78AC88FB6 cron 47\n",
      "9B4F66A2-3BD7-11E8-B8CE-15D78AC88FB6 lsof 634\n",
      "657B89AB-3761-11E8-BF66-D9AA8AFF4A69 inetd 44\n",
      "C9EE4ADB-3762-11E8-BF66-D9AA8AFF4A69 sshd 59\n",
      "72FB8F58-3BD8-11E8-B8CE-15D78AC88FB6 bash 2\n",
      "BF2998C9-39C2-11E8-B8CE-15D78AC88FB6 imapd 63812\n",
      "853C8E17-3EA6-11E8-A5CB-3FA3753A265A imapd 9018\n",
      "06D44D06-3AAE-11E8-B8CE-15D78AC88FB6 smtpd 2617\n",
      "16DA5551-375E-11E8-BF66-D9AA8AFF4A69 head 22\n",
      "BB351877-3AAE-11E8-B8CE-15D78AC88FB6 cleanup 346\n",
      "3092983E-3761-11E8-BF66-D9AA8AFF4A69 imapd 487\n",
      "B25DAA62-3E4D-11E8-A5CB-3FA3753A265A imapd 401\n",
      "37353C4A-3E49-11E8-A5CB-3FA3753A265A sendmail 8\n",
      "C5DBC447-3BD5-11E8-B8CE-15D78AC88FB6 head 22\n",
      "C4F098D3-3751-11E8-BF66-D9AA8AFF4A69 pickup 1133\n",
      "9CFE2DF9-3BD6-11E8-B8CE-15D78AC88FB6 python2.7 2071\n",
      "91D75FD9-3980-11E8-BF66-D9AA8AFF4A69 cron 47\n",
      "09D4A928-3E4B-11E8-A5CB-3FA3753A265A lsof 629\n",
      "47D54ECD-3BDA-11E8-B8CE-15D78AC88FB6 top 144\n",
      "E7025513-3BD6-11E8-B8CE-15D78AC88FB6 lsof 633\n",
      "BA7D22A7-3E4C-11E8-A5CB-3FA3753A265A lsof 657\n",
      "274985B8-3BD9-11E8-B8CE-15D78AC88FB6 top 144\n",
      "19955E0D-3982-11E8-BF66-D9AA8AFF4A69 proxymap 244\n",
      "89C03E46-3D89-11E8-B8CE-15D78AC88FB6 mlock 38\n",
      "32FB90F5-3760-11E8-BF66-D9AA8AFF4A69 vmstat 71\n",
      "7E00B87F-3762-11E8-BF66-D9AA8AFF4A69 local 670\n",
      "269A60A2-39BE-11E8-B8CE-15D78AC88FB6 python2.7 3049408\n",
      "36E616FD-3761-11E8-BF66-D9AA8AFF4A69 local 1097\n",
      "89CBE8ED-3D89-11E8-B8CE-15D78AC88FB6 mlock 38\n",
      "52BDFEC2-3761-11E8-BF66-D9AA8AFF4A69 vmstat 70\n",
      "145AD8F6-397D-11E8-BF66-D9AA8AFF4A69 imapd 345\n",
      "DCA6BE4D-397F-11E8-BF66-D9AA8AFF4A69 trivial-rewrite 277\n",
      "0D90D248-3E4A-11E8-A5CB-3FA3753A265A lsof 627\n",
      "A708469F-3AAE-11E8-B8CE-15D78AC88FB6 top 181\n",
      "200976B5-397D-11E8-BF66-D9AA8AFF4A69 smtpd 374\n",
      "87462F56-3D89-11E8-B8CE-15D78AC88FB6 sshd 18\n",
      "4298F204-3761-11E8-BF66-D9AA8AFF4A69 imapd 551\n",
      "7F388984-3E4C-11E8-A5CB-3FA3753A265A imapd 475\n",
      "8984A554-3AAE-11E8-B8CE-15D78AC88FB6 bash 215\n",
      "7F10A7AF-397D-11E8-BF66-D9AA8AFF4A69 cron 47\n",
      "B7151A54-3980-11E8-BF66-D9AA8AFF4A69 pickup 1133\n",
      "7966343E-397E-11E8-BF66-D9AA8AFF4A69 cron 45\n",
      "1D66EC75-3D8A-11E8-B8CE-15D78AC88FB6 sshd 10\n",
      "BE270DD1-3E4B-11E8-A5CB-3FA3753A265A lsof 628\n",
      "total blacklisted events: 6600656\n",
      "total blacklisted events wout python: 1274624\n"
     ]
    }
   ],
   "execution_count": 19
  },
  {
   "metadata": {
    "ExecuteTime": {
     "end_time": "2024-06-07T10:23:27.243964Z",
     "start_time": "2024-06-07T10:23:27.035533Z"
    }
   },
   "cell_type": "code",
   "source": [
    "# get all sequences and write to file\n",
    "\n",
    "# get all sequence identifiers (subject_uuid, properties_map_exec)\n",
    "\n",
    "query = f'''\n",
    "select subject_uuid, exec\n",
    "from sequence\n",
    "where subject_uuid not in %s\n",
    "'''\n",
    "\n",
    "cur.execute(query, (tuple(blacklisted_subject_uuids),))\n",
    "\n",
    "sequences = cur.fetchall()\n",
    "# sequences are of type tuple[str, str]"
   ],
   "id": "fa499651a291d1e3",
   "outputs": [],
   "execution_count": 18
  },
  {
   "metadata": {
    "ExecuteTime": {
     "end_time": "2024-06-07T10:26:00.951304Z",
     "start_time": "2024-06-07T10:26:00.948136Z"
    }
   },
   "cell_type": "code",
   "source": [
    "# print first 10 sequences\n",
    "print(f'found {len(sequences)} sequences')\n",
    "for i in range(10):\n",
    "    print(sequences[i])"
   ],
   "id": "f86e06cd018385d6",
   "outputs": [
    {
     "name": "stdout",
     "output_type": "stream",
     "text": [
      "found 430863 sequences\n",
      "('5CE087B9-3DA4-11E8-B8CE-15D78AC88FB6', 'bash')\n",
      "('EF6E12B2-3821-11E8-BF66-D9AA8AFF4A69', 'bash')\n",
      "('6D960385-3B47-11E8-B8CE-15D78AC88FB6', 'sh')\n",
      "('E12331BD-3BAB-11E8-B8CE-15D78AC88FB6', 'imapd')\n",
      "('B8898C5E-3E41-11E8-A5CB-3FA3753A265A', 'master')\n",
      "('0A3CD402-3726-11E8-BF66-D9AA8AFF4A69', 'vmstat')\n",
      "('239D2754-3E5F-11E8-A5CB-3FA3753A265A', 'master')\n",
      "('52C28E9F-38AE-11E8-BF66-D9AA8AFF4A69', 'bash')\n",
      "('37E26817-3B29-11E8-B8CE-15D78AC88FB6', 'bash')\n",
      "('C9F2FFAB-3B68-11E8-B8CE-15D78AC88FB6', 'master')\n"
     ]
    }
   ],
   "execution_count": 23
  },
  {
   "metadata": {
    "ExecuteTime": {
     "end_time": "2024-06-07T10:25:45.621001Z",
     "start_time": "2024-06-07T10:25:45.595726Z"
    }
   },
   "cell_type": "code",
   "source": [
    "# check how long the longest sequence is\n",
    "query = f'''\n",
    "select avg(length)\n",
    "from sequence\n",
    "where subject_uuid not in %s;\n",
    "'''\n",
    "\n",
    "cur.execute(query, (tuple(blacklisted_subject_uuids),))\n",
    "max_length = cur.fetchone()[0]\n",
    "print(f'max length: {max_length}')"
   ],
   "id": "f2b656f9ce86e520",
   "outputs": [
    {
     "name": "stdout",
     "output_type": "stream",
     "text": [
      "max length: 95.7835924644260473\n"
     ]
    }
   ],
   "execution_count": 22
  },
  {
   "metadata": {
    "ExecuteTime": {
     "end_time": "2024-06-07T10:39:31.519147Z",
     "start_time": "2024-06-07T10:30:32.007923Z"
    }
   },
   "cell_type": "code",
   "source": [
    "def build_query(subject_uuid, executable):\n",
    "    return f'''\n",
    "        select type\n",
    "        from event e\n",
    "        where e.subject_uuid = \\'{subject_uuid}\\'\n",
    "            and e.properties_map_exec = \\'{executable}\\'\n",
    "        order by e.sequence_long;\n",
    "    '''\n",
    "\n",
    "files_written = 0\n",
    "for subject_uuid, executable in sequences:\n",
    "    query = build_query(subject_uuid, executable)\n",
    "    cur.execute(query)\n",
    "    events = cur.fetchall()\n",
    "    \n",
    "    with open(f'data/sequences/{executable}_{subject_uuid}.csv', 'w') as f:\n",
    "        for event in events:\n",
    "            f.write(f'{event[0][6:]}\\n')\n",
    "        files_written += 1\n",
    "        if files_written % 10000 == 0:\n",
    "            print(f'written {files_written} files')"
   ],
   "id": "2fc7036e484759af",
   "outputs": [
    {
     "name": "stdout",
     "output_type": "stream",
     "text": [
      "written 10000 files\n",
      "written 20000 files\n",
      "written 30000 files\n",
      "written 40000 files\n",
      "written 50000 files\n",
      "written 60000 files\n",
      "written 70000 files\n",
      "written 80000 files\n",
      "written 90000 files\n",
      "written 100000 files\n",
      "written 110000 files\n",
      "written 120000 files\n",
      "written 130000 files\n",
      "written 140000 files\n",
      "written 150000 files\n",
      "written 160000 files\n",
      "written 170000 files\n",
      "written 180000 files\n",
      "written 190000 files\n",
      "written 200000 files\n",
      "written 210000 files\n",
      "written 220000 files\n",
      "written 230000 files\n",
      "written 240000 files\n",
      "written 250000 files\n",
      "written 260000 files\n",
      "written 270000 files\n",
      "written 280000 files\n",
      "written 290000 files\n",
      "written 300000 files\n",
      "written 310000 files\n",
      "written 320000 files\n",
      "written 330000 files\n",
      "written 340000 files\n",
      "written 350000 files\n",
      "written 360000 files\n",
      "written 370000 files\n",
      "written 380000 files\n",
      "written 390000 files\n",
      "written 400000 files\n",
      "written 410000 files\n",
      "written 420000 files\n",
      "written 430000 files\n"
     ]
    }
   ],
   "execution_count": 25
  },
  {
   "metadata": {
    "ExecuteTime": {
     "end_time": "2024-06-07T10:29:09.299436Z",
     "start_time": "2024-06-07T10:29:09.294275Z"
    }
   },
   "cell_type": "code",
   "source": [
    "s = 'EVENT_EXIT'\n",
    "s[6:]"
   ],
   "id": "5fc089d905565118",
   "outputs": [
    {
     "data": {
      "text/plain": [
       "'EXIT'"
      ]
     },
     "execution_count": 24,
     "metadata": {},
     "output_type": "execute_result"
    }
   ],
   "execution_count": 24
  },
  {
   "metadata": {
    "ExecuteTime": {
     "end_time": "2024-06-07T10:23:19.754102Z",
     "start_time": "2024-06-07T10:23:19.751322Z"
    }
   },
   "cell_type": "code",
   "source": [
    "# destroy cursor and connection\n",
    "cur.close()\n",
    "conn.close()"
   ],
   "id": "9a45869cef927257",
   "outputs": [],
   "execution_count": 16
  }
 ],
 "metadata": {
  "kernelspec": {
   "display_name": "Python 3",
   "language": "python",
   "name": "python3"
  },
  "language_info": {
   "codemirror_mode": {
    "name": "ipython",
    "version": 2
   },
   "file_extension": ".py",
   "mimetype": "text/x-python",
   "name": "python",
   "nbconvert_exporter": "python",
   "pygments_lexer": "ipython2",
   "version": "2.7.6"
  }
 },
 "nbformat": 4,
 "nbformat_minor": 5
}
