{
 "cells": [
  {
   "metadata": {
    "ExecuteTime": {
     "end_time": "2024-08-13T07:15:59.192697Z",
     "start_time": "2024-08-13T07:15:58.920841Z"
    }
   },
   "cell_type": "code",
   "source": [
    "import os\n",
    "import matplotlib.pyplot as plt"
   ],
   "id": "35f4f6bef0482676",
   "outputs": [],
   "execution_count": 1
  },
  {
   "metadata": {
    "ExecuteTime": {
     "end_time": "2024-08-13T07:15:59.804345Z",
     "start_time": "2024-08-13T07:15:59.801513Z"
    }
   },
   "cell_type": "code",
   "source": [
    "# print hostname, working directory, and user\n",
    "print(os.uname())\n",
    "print(os.getcwd())\n",
    "print(os.getlogin())"
   ],
   "id": "78f026c91c7e5572",
   "outputs": [
    {
     "name": "stdout",
     "output_type": "stream",
     "text": [
      "posix.uname_result(sysname='Linux', nodename='vmrosendahl', release='6.1.0-21-amd64', version='#1 SMP PREEMPT_DYNAMIC Debian 6.1.90-1 (2024-05-03)', machine='x86_64')\n",
      "/home/rosendahl/remote_interpreter/dataset/jupyter\n",
      "rosendahl\n"
     ]
    }
   ],
   "execution_count": 2
  },
  {
   "cell_type": "code",
   "id": "initial_id",
   "metadata": {
    "collapsed": true,
    "ExecuteTime": {
     "end_time": "2024-08-13T07:16:08.337010Z",
     "start_time": "2024-08-13T07:16:08.334318Z"
    }
   },
   "source": "dir = '/home/rosendahl/remote_interpreter/dataset/jupyter/data/sequences_export_benign_filetypes_more/'",
   "outputs": [],
   "execution_count": 3
  },
  {
   "metadata": {
    "ExecuteTime": {
     "end_time": "2024-08-13T07:16:09.204402Z",
     "start_time": "2024-08-13T07:16:09.201632Z"
    }
   },
   "cell_type": "code",
   "source": [
    "event_types = {}\n",
    "user_types = {}\n",
    "fo_types = {}\n",
    "path_types = {}\n",
    "net_addr_types = {}\n",
    "net_port_types = {}"
   ],
   "id": "27937127ce1e3e40",
   "outputs": [],
   "execution_count": 4
  },
  {
   "metadata": {
    "ExecuteTime": {
     "end_time": "2024-08-13T07:23:49.949752Z",
     "start_time": "2024-08-13T07:23:15.301712Z"
    }
   },
   "cell_type": "code",
   "source": [
    "malformed_lines = 0\n",
    "\n",
    "# for file in dir\n",
    "for file in os.listdir(dir):\n",
    "    # open file\n",
    "    with open(dir + file, 'r') as f:\n",
    "        for line in f:\n",
    "            if line.count(',') == 13:\n",
    "                event, user, fo1_type, fo2_type, path1, path2, net1_localaddr, net1_localport, net1_remoteaddr, net1_remoteport, net2_localaddr, net2_localport, net2_remoteaddr, net2_remoteport = line.split(',')\n",
    "            else:\n",
    "                malformed_lines += 1\n",
    "                continue\n",
    "            \n",
    "            event_types[event] = event_types.get(event, 0) + 1\n",
    "            user_types[user] = user_types.get(user, 0) + 1\n",
    "            fo_types[fo1_type] = fo_types.get(fo1_type, 0) + 1\n",
    "            fo_types[fo2_type] = fo_types.get(fo2_type, 0) + 1\n",
    "            path_types[path1] = path_types.get(path1, 0) + 1\n",
    "            path_types[path2] = path_types.get(path2, 0) + 1\n",
    "            net_addr_types[net1_localaddr] = net_addr_types.get(net1_localaddr, 0) + 1\n",
    "            net_addr_types[net1_remoteaddr] = net_addr_types.get(net1_remoteaddr, 0) + 1\n",
    "            net_addr_types[net2_localaddr] = net_addr_types.get(net2_localaddr, 0) + 1\n",
    "            net_addr_types[net2_remoteaddr] = net_addr_types.get(net2_remoteaddr, 0) + 1\n",
    "            net_port_types[net1_localport] = net_port_types.get(net1_localport, 0) + 1\n",
    "            net_port_types[net1_remoteport] = net_port_types.get(net1_remoteport, 0) + 1\n",
    "            net_port_types[net2_localport] = net_port_types.get(net2_localport, 0) + 1\n",
    "            net_port_types[net2_remoteport] = net_port_types.get(net2_remoteport, 0) + 1\n",
    "\n",
    "print(f'{malformed_lines=}')    "
   ],
   "id": "b3772817759fb9c3",
   "outputs": [
    {
     "name": "stdout",
     "output_type": "stream",
     "text": [
      "malformed_lines=583\n"
     ]
    }
   ],
   "execution_count": 36
  },
  {
   "metadata": {
    "ExecuteTime": {
     "end_time": "2024-08-13T07:16:45.360554Z",
     "start_time": "2024-08-13T07:16:45.357705Z"
    }
   },
   "cell_type": "code",
   "source": [
    "print(f'{len(event_types)=}')\n",
    "print(f'{len(user_types)=}')\n",
    "print(f'{len(fo_types)=}')\n",
    "print(f'{len(path_types)=}')\n",
    "print(f'{len(net_addr_types)=}')\n",
    "print(f'{len(net_port_types)=}')"
   ],
   "id": "6a4785aab2ad81f7",
   "outputs": [
    {
     "name": "stdout",
     "output_type": "stream",
     "text": [
      "len(event_types)=29\n",
      "len(user_types)=17\n",
      "len(fo_types)=7\n",
      "len(path_types)=242704\n",
      "len(net_addr_types)=547\n",
      "len(net_port_types)=15623\n"
     ]
    }
   ],
   "execution_count": 6
  },
  {
   "metadata": {
    "ExecuteTime": {
     "end_time": "2024-08-13T07:16:49.966584Z",
     "start_time": "2024-08-13T07:16:49.901316Z"
    }
   },
   "cell_type": "code",
   "source": [
    "# find only absolute paths in path_types\n",
    "abs_path_types = {}\n",
    "for path in path_types:\n",
    "    if path.startswith('/'):\n",
    "        abs_path_types[path] = path_types[path]\n",
    "\n",
    "print(f'{len(abs_path_types)=}')\n",
    "print(f'abs path percentage: {len(abs_path_types) / len(path_types) * 100:.2f}%')"
   ],
   "id": "3916c9133a15f5ff",
   "outputs": [
    {
     "name": "stdout",
     "output_type": "stream",
     "text": [
      "len(abs_path_types)=239868\n",
      "abs path percentage: 98.83%\n"
     ]
    }
   ],
   "execution_count": 7
  },
  {
   "metadata": {
    "ExecuteTime": {
     "end_time": "2024-08-13T07:16:57.520463Z",
     "start_time": "2024-08-13T07:16:57.451733Z"
    }
   },
   "cell_type": "code",
   "source": [
    "top_directories = {}\n",
    "for path in abs_path_types:\n",
    "    top_dir = path.split('/')[1]\n",
    "    top_directories[top_dir] = top_directories.get(top_dir, 0) + 1\n",
    "    \n",
    "print(f'{len(top_directories)=}')"
   ],
   "id": "72433fc1512dd45",
   "outputs": [
    {
     "name": "stdout",
     "output_type": "stream",
     "text": [
      "len(top_directories)=21\n"
     ]
    }
   ],
   "execution_count": 8
  },
  {
   "metadata": {
    "ExecuteTime": {
     "end_time": "2024-08-13T07:16:59.926313Z",
     "start_time": "2024-08-13T07:16:59.838409Z"
    }
   },
   "cell_type": "code",
   "source": [
    "# pie plot top directories\n",
    "fig, ax = plt.subplots()\n",
    "ax.pie(top_directories.values(), labels=top_directories.keys(), autopct='%1.1f%%')\n",
    "plt.show()"
   ],
   "id": "4d41b8a984e4d6db",
   "outputs": [
    {
     "data": {
      "text/plain": [
       "<Figure size 640x480 with 1 Axes>"
      ],
      "image/png": "[encoded data removed]"
     },
     "metadata": {},
     "output_type": "display_data"
    }
   ],
   "execution_count": 9
  },
  {
   "metadata": {
    "ExecuteTime": {
     "end_time": "2024-08-13T07:20:49.190231Z",
     "start_time": "2024-08-13T07:20:49.070553Z"
    }
   },
   "cell_type": "code",
   "source": [
    "# top lvl 2 directories\n",
    "lvl2_directories = {}\n",
    "for path in abs_path_types:\n",
    "    path = path.strip('\\n')\n",
    "    if (len(path.split('/')) <= 3):\n",
    "        continue\n",
    "    lvl2_dir = path.split('/')[2]\n",
    "\n",
    "    lvl2_directories[lvl2_dir] = lvl2_directories.get(lvl2_dir, 0) + 1\n",
    "    \n",
    "print(f'{len(lvl2_directories)=}')"
   ],
   "id": "885745d9819033b1",
   "outputs": [
    {
     "name": "stdout",
     "output_type": "stream",
     "text": [
      "len(lvl2_directories)=97\n"
     ]
    }
   ],
   "execution_count": 29
  },
  {
   "metadata": {
    "ExecuteTime": {
     "end_time": "2024-08-13T07:20:51.829252Z",
     "start_time": "2024-08-13T07:20:51.826720Z"
    }
   },
   "cell_type": "code",
   "source": "print(lvl2_directories)",
   "id": "3ef0ba8c47ab8b4e",
   "outputs": [
    {
     "name": "stdout",
     "output_type": "stream",
     "text": [
      "{'run': 41, 'lib': 97, 'share': 1133, 'local': 67034, 'darpa': 6, 'home': 3042, 'bin': 50, 'db': 61, 'user': 712, 'pam.d': 6, 'pts': 7, 'mail': 3409, 'spool': 2580, 'libexec': 78, 'defaults': 4, 'at': 7, 'george': 603, 'msgs': 2, 'frank': 652, 'periodic': 51, 'backups': 14, 'cache': 162, 'bob': 482, 'empty': 2, 'sbin': 13, 'ssl': 3, 'ssh': 9, 'gss': 2, 'security': 5, 'log': 48, 'autofs': 1, 'bluetooth': 1, 'cron.d': 1, 'deploy-keys': 1, 'geom': 1, 'resolvconf': 1, '.ICE-unix': 1, '.X11-unix': 1, '.XIM-unix': 1, '.font-unix': 1, 'hsperfdata_darpa': 1, 'hsperfdata_root': 1, 'hsperfdata_ta3': 1, 'screens': 4, 'tmux-1003': 1, 'vUGefai': 1, 'include': 365, 'lib32': 5, 'libdata': 7, 'obj': 7277, 'ports': 78366, 'games': 5, 'heimdal': 1, 'preserve': 2, 'private': 3, 'rwho': 2, 'tmp': 26, 'unbound': 3, 'yp': 1, '.snap': 1, 'error': 1, 'sav': 1, 'ufs': 23780, 'update': 34641, 'newsyslog.conf.d': 8, 'henry': 171, 'casper': 2, 'charles': 219, 'admin': 29, 'pkg': 3, 'dtb': 1, 'firmware': 1, 'kernel': 1, 'kernel.old': 1, 'modules': 1, 'zfs': 2, 'X11': 1, 'devd': 1, 'dma': 1, 'mtree': 1, 'ntp': 2, 'ppp': 1, 'rc.conf.d': 1, 'rc.d': 2, 'skel': 1, 'syslog.d': 1, '.cache': 315, '.subversion': 11, '.vim': 1, 'src': 12748, 'ssh-eatE02ke1c': 1, 'tests': 761, 'account': 1, 'audit': 5, 'authpf': 1, 'crash': 1, 'cron': 3}\n"
     ]
    }
   ],
   "execution_count": 30
  },
  {
   "metadata": {
    "ExecuteTime": {
     "end_time": "2024-08-13T07:21:09.578244Z",
     "start_time": "2024-08-13T07:21:09.509784Z"
    }
   },
   "cell_type": "code",
   "source": [
    "# get all file endings\n",
    "file_endings = {}\n",
    "is_dir_count = 0\n",
    "for path in abs_path_types:\n",
    "    file_ending = path.split('.')[-1]\n",
    "    if file_ending in [ '..', '.', '']:\n",
    "        is_dir_count += 1\n",
    "        file_ending = 'dir'\n",
    "    if file_ending == path:\n",
    "        file_ending = 'no_extension'\n",
    "    if file_ending == '':\n",
    "        file_ending = 'no_extension'\n",
    "    file_endings[file_ending] = file_endings.get(file_ending, 0) + 1\n",
    "\n",
    "print(f'{len(file_endings)=}')\n",
    "print(f'{is_dir_count=}')"
   ],
   "id": "a6eaa3596723f024",
   "outputs": [
    {
     "name": "stdout",
     "output_type": "stream",
     "text": [
      "len(file_endings)=14231\n",
      "is_dir_count=88091\n"
     ]
    }
   ],
   "execution_count": 31
  },
  {
   "metadata": {
    "ExecuteTime": {
     "end_time": "2024-08-13T07:21:11.840597Z",
     "start_time": "2024-08-13T07:21:11.833165Z"
    }
   },
   "cell_type": "code",
   "source": [
    "# print top 25 file endings and their percentage of total\n",
    "sorted_file_endings = sorted(file_endings.items(), key=lambda x: x[1], reverse=True)\n",
    "for i in range(25):\n",
    "    print(f'{sorted_file_endings[i][0]}: {sorted_file_endings[i][1]} ({sorted_file_endings[i][1] / sum(file_endings.values()) * 100:.2f}%)')\n"
   ],
   "id": "9e82cc632c4f3757",
   "outputs": [
    {
     "name": "stdout",
     "output_type": "stream",
     "text": [
      "dir: 88350 (36.83%)\n",
      "no_extension: 59151 (24.66%)\n",
      "hpp: 6834 (2.85%)\n",
      "ta1-cadets: 5516 (2.30%)\n",
      "gz: 4921 (2.05%)\n",
      "ri: 4419 (1.84%)\n",
      "pyc: 3754 (1.57%)\n",
      "html: 3493 (1.46%)\n",
      "py: 3361 (1.40%)\n",
      "h: 3036 (1.27%)\n",
      "png: 2404 (1.00%)\n",
      "pyo: 2307 (0.96%)\n",
      "UTF-8: 2208 (0.92%)\n",
      "mo: 1279 (0.53%)\n",
      "ISO8859-1: 1176 (0.49%)\n",
      "ISO8859-15: 1036 (0.43%)\n",
      "elc: 910 (0.38%)\n",
      "rb: 826 (0.34%)\n",
      "tmp: 599 (0.25%)\n",
      "pm: 577 (0.24%)\n",
      "cmake: 576 (0.24%)\n",
      "svg: 549 (0.23%)\n",
      "so: 448 (0.19%)\n",
      "gif: 442 (0.18%)\n",
      "xml: 424 (0.18%)\n"
     ]
    }
   ],
   "execution_count": 32
  },
  {
   "metadata": {
    "ExecuteTime": {
     "end_time": "2024-08-13T07:21:16.940373Z",
     "start_time": "2024-08-13T07:21:16.934415Z"
    }
   },
   "cell_type": "code",
   "source": [
    "# get all privileged ports\n",
    "priv_ports = set()\n",
    "for port in net_port_types:\n",
    "    port = port.strip('\\n')\n",
    "    if not port.isdigit():\n",
    "        continue\n",
    "    if 0 <= int(port) < 1024:\n",
    "        priv_ports.add(int(port))\n",
    "        \n",
    "priv_ports = sorted(list(priv_ports))\n",
    "\n",
    "print(f'{len(priv_ports)=}')\n",
    "print(priv_ports)"
   ],
   "id": "32a01b35572a6c04",
   "outputs": [
    {
     "name": "stdout",
     "output_type": "stream",
     "text": [
      "len(priv_ports)=8\n",
      "[1, 22, 25, 53, 67, 80, 143, 512]\n"
     ]
    }
   ],
   "execution_count": 33
  },
  {
   "metadata": {},
   "cell_type": "markdown",
   "source": [
    "1: TCP Port Service Multiplexer  \n",
    "22: ssh  \n",
    "25: smtp  \n",
    "53: dns  \n",
    "67: bootps  \n",
    "80: http  \n",
    "143: imap  \n",
    "512: remote process execution  "
   ],
   "id": "b799d778321e071d"
  },
  {
   "metadata": {
    "ExecuteTime": {
     "end_time": "2024-08-13T07:21:19.536003Z",
     "start_time": "2024-08-13T07:21:19.529741Z"
    }
   },
   "cell_type": "code",
   "source": [
    "# get percentage of privileged ports\n",
    "priv_port_count = 0\n",
    "for port in net_port_types:\n",
    "    port = port.strip('\\n')\n",
    "    if not port.isdigit():\n",
    "        continue\n",
    "    if 0 <= int(port) < 1024:\n",
    "        priv_port_count += net_port_types[port]\n",
    "\n",
    "print(f'{priv_port_count=}')\n",
    "print(f'priv port percentage: {priv_port_count / sum(net_port_types.values()) * 100:.2f}%')"
   ],
   "id": "57ae31204f5c6c77",
   "outputs": [
    {
     "name": "stdout",
     "output_type": "stream",
     "text": [
      "priv_port_count=335895\n",
      "priv port percentage: 0.47%\n"
     ]
    }
   ],
   "execution_count": 34
  },
  {
   "metadata": {
    "ExecuteTime": {
     "end_time": "2024-08-13T07:21:38.330712Z",
     "start_time": "2024-08-13T07:21:23.989055Z"
    }
   },
   "cell_type": "code",
   "source": [
    "# check if there are any lines where both net1 and net2 are present\n",
    "both_net_count = 0\n",
    "\n",
    "for file in os.listdir(dir):\n",
    "    with open(dir + file, 'r') as f:\n",
    "        for line in f:\n",
    "            if line.count(',') == 13:\n",
    "                event, user, fo1_type, fo2_type, path1, path2, net1_localaddr, net1_localport, net1_remoteaddr, net1_remoteport, net2_localaddr, net2_localport, net2_remoteaddr, net2_remoteport = line.split(',')\n",
    "            else:\n",
    "                continue\n",
    "            \n",
    "            if net1_localaddr != 'None' and net2_localaddr != 'None':\n",
    "                both_net_count += 1\n",
    "\n",
    "print(f'{both_net_count=}')"
   ],
   "id": "e1b768ce49d77b77",
   "outputs": [
    {
     "name": "stdout",
     "output_type": "stream",
     "text": [
      "both_net_count=7309\n"
     ]
    }
   ],
   "execution_count": 35
  },
  {
   "metadata": {},
   "cell_type": "markdown",
   "source": "PATHS\n",
   "id": "6e85acb5946b0a7e"
  },
  {
   "metadata": {
    "ExecuteTime": {
     "end_time": "2024-08-20T14:24:36.196333Z",
     "start_time": "2024-08-20T14:24:35.902622Z"
    }
   },
   "cell_type": "code",
   "source": [
    "import psycopg2\n",
    "import numpy as np\n",
    "import matplotlib.pyplot as plt\n",
    "import os\n",
    "\n",
    "# setup connection\n",
    "conn = psycopg2.connect(\n",
    "    host='localhost',\n",
    "    database='cadets_e3',\n",
    "    user='rosendahl',\n",
    ")\n",
    "conn.set_session(readonly=True)\n",
    "# get cursor\n",
    "cur = conn.cursor()\n",
    "cur2 = conn.cursor()"
   ],
   "id": "6957387e1f65dc2f",
   "outputs": [],
   "execution_count": 1
  },
  {
   "metadata": {
    "ExecuteTime": {
     "end_time": "2024-08-20T14:32:14.779318Z",
     "start_time": "2024-08-20T14:31:19.452886Z"
    }
   },
   "cell_type": "code",
   "source": [
    "# get all paths, extract most used files and most used directories\n",
    "\n",
    "directory_counts = {}\n",
    "file_counts = {}\n",
    "\n",
    "query = '''\n",
    "select e.predicateobjectpath_string, e.predicateobject2path_string\n",
    "from event e;\n",
    "'''\n",
    "\n",
    "cur.execute(query)\n",
    "\n",
    "for row in cur:\n",
    "    path1, path2 = row\n",
    "    \n",
    "    for path in path1, path2:\n",
    "        if path is None:\n",
    "            continue\n",
    "        # discard relative paths\n",
    "        if not path.startswith('/'):\n",
    "            continue\n",
    "        if os.path.isdir(path):\n",
    "            directory_counts[path] = directory_counts.get(path, 0) + 1\n",
    "        else:\n",
    "            # extract directory\n",
    "            file_counts[path] = file_counts.get(path, 0) + 1\n",
    "            path = os.path.dirname(path)\n",
    "            directory_counts[path] = directory_counts.get(path, 0) + 1\n",
    "\n",
    "print(f'{len(directory_counts)=}')\n",
    "print(f'{len(file_counts)=}')"
   ],
   "id": "2dfd203b176d3c85",
   "outputs": [
    {
     "name": "stdout",
     "output_type": "stream",
     "text": [
      "len(directory_counts)=102950\n",
      "len(file_counts)=318381\n"
     ]
    }
   ],
   "execution_count": 5
  },
  {
   "metadata": {
    "ExecuteTime": {
     "end_time": "2024-08-20T14:49:51.488591Z",
     "start_time": "2024-08-20T14:49:51.457921Z"
    }
   },
   "cell_type": "code",
   "source": [
    "# get top 25 directories\n",
    "sorted_directories = sorted(directory_counts.items(), key=lambda x: x[1], reverse=True)\n",
    "print(sum(directory_counts.values()))\n",
    "print('top directories:')\n",
    "partial_sum = 0\n",
    "for i in range(25):\n",
    "    print(f'{sorted_directories[i][0]}: {sorted_directories[i][1]}')\n",
    "    partial_sum += sorted_directories[i][1]\n",
    "print(f'share of first: {partial_sum / sum(directory_counts.values()) * 100:.2f}%')\n",
    "\n"
   ],
   "id": "bdef5abb9e990332",
   "outputs": [
    {
     "name": "stdout",
     "output_type": "stream",
     "text": [
      "16487842\n",
      "top directories:\n",
      "/dev: 6518016\n",
      "/etc: 4107069\n",
      "/var/run: 637533\n",
      "/lib: 562369\n",
      "/var/mail: 345507\n",
      "/libexec: 210990\n",
      "/usr/share/zoneinfo: 207847\n",
      "/usr/local/lib: 153755\n",
      "/usr/local/bin: 134227\n",
      "/var/log: 121315\n",
      "/usr/lib: 119359\n",
      "/home/bob: 104520\n",
      "/usr/local/etc/postfix: 98865\n",
      "/bin: 98256\n",
      "/home/user/mail: 71963\n",
      "/usr/share/misc: 71097\n",
      "/etc/defaults: 68195\n",
      "/usr/bin: 65941\n",
      "/home/frank: 57087\n",
      "/usr/local/libexec/git-core: 51934\n",
      "/usr/local/x86_64-portbld-freebsd12.0/lib/ldscripts: 50343\n",
      "/home/darpa: 46531\n",
      "/usr/home/darpa: 46478\n",
      "/usr/local/libexec/postfix: 45952\n",
      "/home/george: 44189\n",
      "share of first: 85.15%\n"
     ]
    }
   ],
   "execution_count": 22
  },
  {
   "metadata": {
    "ExecuteTime": {
     "end_time": "2024-08-20T14:42:07.819770Z",
     "start_time": "2024-08-20T14:42:07.753464Z"
    }
   },
   "cell_type": "code",
   "source": [
    "# get top 25 files\n",
    "sorted_files = sorted(file_counts.items(), key=lambda x: x[1], reverse=True)\n",
    "print('top files:')\n",
    "for i in range(25):\n",
    "    print(f'{sorted_files[i][0]}: {sorted_files[i][1]}')"
   ],
   "id": "1018f17128da6b58",
   "outputs": [
    {
     "name": "stdout",
     "output_type": "stream",
     "text": [
      "top files:\n",
      "/dev/kmem: 4169304\n",
      "/dev/random: 1613965\n",
      "/etc/pwd.db: 1475878\n",
      "/etc/spwd.db: 635034\n",
      "/var/run/ld-elf.so.hints: 631639\n",
      "/etc/services: 630918\n",
      "/etc/libmap.conf: 420705\n",
      "/dev/tty: 412366\n",
      "/etc/hosts: 376730\n",
      "/libexec/ld-elf.so.1: 210952\n",
      "/dev/hpet0: 210910\n",
      "/lib/libc.so.7: 209597\n",
      "/etc/login.conf: 164924\n",
      "/etc/nsswitch.conf: 163564\n",
      "/etc/group: 114629\n",
      "/usr/share/zoneinfo/posixrules: 103924\n",
      "/usr/share/zoneinfo/UTC: 103915\n",
      "/var/log/maillog: 97740\n",
      "/home/bob/Sent: 94974\n",
      "/var/mail/bob: 85275\n",
      "/usr/local/etc/postfix/main.cf: 80065\n",
      "/etc/resolv.conf: 74304\n",
      "/usr/share/misc/termcap.db: 71083\n",
      "/var/mail/frank: 67857\n",
      "/home/user/mail/sent-mail: 67695\n"
     ]
    }
   ],
   "execution_count": 15
  },
  {
   "metadata": {
    "ExecuteTime": {
     "end_time": "2024-08-20T14:51:51.447896Z",
     "start_time": "2024-08-20T14:51:51.444896Z"
    }
   },
   "cell_type": "code",
   "source": [
    "for i in range(100):\n",
    "    if sorted_files[i][0].count(',') > 0:\n",
    "        assert False\n",
    "    print(f'{sorted_files[i][0]}')"
   ],
   "id": "1373c74dfbe41eb1",
   "outputs": [
    {
     "name": "stdout",
     "output_type": "stream",
     "text": [
      "/dev/kmem\n",
      "/dev/random\n",
      "/etc/pwd.db\n",
      "/etc/spwd.db\n",
      "/var/run/ld-elf.so.hints\n",
      "/etc/services\n",
      "/etc/libmap.conf\n",
      "/dev/tty\n",
      "/etc/hosts\n",
      "/libexec/ld-elf.so.1\n",
      "/dev/hpet0\n",
      "/lib/libc.so.7\n",
      "/etc/login.conf\n",
      "/etc/nsswitch.conf\n",
      "/etc/group\n",
      "/usr/share/zoneinfo/posixrules\n",
      "/usr/share/zoneinfo/UTC\n",
      "/var/log/maillog\n",
      "/home/bob/Sent\n",
      "/var/mail/bob\n",
      "/usr/local/etc/postfix/main.cf\n",
      "/etc/resolv.conf\n",
      "/usr/share/misc/termcap.db\n",
      "/var/mail/frank\n",
      "/home/user/mail/sent-mail\n",
      "/lib/libelf.so.2\n",
      "/lib/libkvm.so.7\n",
      "/bin/sleep\n",
      "/etc/defaults/rc.conf\n",
      "/dev/null\n",
      "/home/darpa/.lsof_ta1-cadets\n",
      "/lib/libutil.so.9\n",
      "/var/mail/user\n",
      "/dev/urandom\n",
      "/lib/libxo.so.0\n",
      "/usr/lib/libmemstat.so.3\n",
      "/usr/bin/vmstat\n",
      "/data/gather_stats_uma.txt\n",
      "/lib/libdevstat.so.7\n",
      "/usr/local/libexec/postfix/dynamicmaps.cf\n",
      "/usr/local/libexec/postfix/dynamicmaps.cf.d/pcre.cf\n",
      "/var/mail/george\n",
      "/usr/local/etc/c-client.cf\n",
      "/etc/pam.d/other\n",
      "/lib/libm.so.5\n",
      "/home/frank/Archives\n",
      "/lib/libncursesw.so.8\n",
      "/usr/local/etc/postfix/virtual.db\n",
      "/home/george/Sent\n",
      "/var/mail/charles\n",
      "/etc/aliases.db\n",
      "/usr/local/openjdk8/jre/lib/rt.jar\n",
      "/var/mail/henry\n",
      "/lib/libjail.so.1\n",
      "/usr/bin/top\n",
      "/var/spool/postfix/maildrop\n",
      "/bin/date\n",
      "/usr/local/sbin/lsof\n",
      "/usr/home/darpa/kernel_mem.txt\n",
      "/usr/bin/head\n",
      "/dev/mem\n",
      "/usr/home/darpa/top_procs.txt\n",
      "/usr/home/darpa/kernel_zones.txt\n",
      "/lib/libcrypto.so.8\n",
      "/tmp/injectLog.txt\n",
      "/usr/lib/libssl.so.8\n",
      "/home/user/.bash_history\n",
      "/etc/pam.d/imap\n",
      "/usr/lib/pam_unix.so.6\n",
      "/home/frank/Sent\n",
      "/usr/local/openjdk8/src.zip\n",
      "/usr/local/lib/libgs.so.9.16\n",
      "/bin/mv\n",
      "/lib/libthr.so.3\n",
      "/home/george/.mailboxlist\n",
      "/etc/hosts.allow\n",
      "/tmp/.31.29ada\n",
      "/usr/lib/pam_permit.so.6\n",
      "/usr/libexec/save-entropy\n",
      "/var/mail/bob.lock\n",
      "/usr/local/lib/postfix/libpostfix-global.so\n",
      "/usr/local/lib/postfix/libpostfix-util.so\n",
      "/usr/local/lib/postfix/libpostfix-master.so\n",
      "/usr/local/bin/ld\n",
      "/usr/local/libexec/postfix/dynamicmaps.cf.d\n",
      "/var/spool/postfix\n",
      "/usr/lib/libc++.so.1\n",
      "/lib/libcxxrt.so.1\n",
      "/lib/libgcc_s.so.1\n",
      "/usr/local/lib/libicuuc.so.60\n",
      "/usr/local/lib/libicui18n.so.60\n",
      "/usr/local/lib/libicudata.so.60\n",
      "/usr/lib/libpam.so.6\n",
      "/usr/local/libexec/gcc6/gcc/x86_64-portbld-freebsd12.0/6.4.0/cc1plus\n",
      "/home/frank/.mailboxlist\n",
      "/usr/local/libexec/mlock\n",
      "/home/henry/.mailboxlist\n",
      "/usr/local/lib/libopcodes.a\n",
      "/home/henry/Sent\n",
      "/usr/local/lib/libbfd.a\n"
     ]
    }
   ],
   "execution_count": 29
  },
  {
   "metadata": {},
   "cell_type": "code",
   "outputs": [],
   "execution_count": null,
   "source": "",
   "id": "cffdea5092204ff4"
  }
 ],
 "metadata": {
  "kernelspec": {
   "display_name": "Python 3",
   "language": "python",
   "name": "python3"
  },
  "language_info": {
   "codemirror_mode": {
    "name": "ipython",
    "version": 2
   },
   "file_extension": ".py",
   "mimetype": "text/x-python",
   "name": "python",
   "nbconvert_exporter": "python",
   "pygments_lexer": "ipython2",
   "version": "2.7.6"
  }
 },
 "nbformat": 4,
 "nbformat_minor": 5
}
