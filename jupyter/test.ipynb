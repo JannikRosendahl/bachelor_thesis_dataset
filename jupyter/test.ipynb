{
 "cells": [
  {
   "metadata": {
    "ExecuteTime": {
     "end_time": "2024-08-12T20:35:34.084658Z",
     "start_time": "2024-08-12T20:35:33.816710Z"
    }
   },
   "cell_type": "code",
   "source": [
    "import os\n",
    "import matplotlib.pyplot as plt"
   ],
   "id": "35f4f6bef0482676",
   "outputs": [],
   "execution_count": 18
  },
  {
   "metadata": {
    "ExecuteTime": {
     "end_time": "2024-08-12T20:30:32.262996Z",
     "start_time": "2024-08-12T20:30:32.259721Z"
    }
   },
   "cell_type": "code",
   "source": [
    "# print hostname, working directory, and user\n",
    "print(os.uname())\n",
    "print(os.getcwd())\n",
    "print(os.getlogin())"
   ],
   "id": "78f026c91c7e5572",
   "outputs": [
    {
     "name": "stdout",
     "output_type": "stream",
     "text": [
      "posix.uname_result(sysname='Linux', nodename='vmrosendahl', release='6.1.0-21-amd64', version='#1 SMP PREEMPT_DYNAMIC Debian 6.1.90-1 (2024-05-03)', machine='x86_64')\n",
      "/home/rosendahl/sync/dataset/jupyter\n",
      "rosendahl\n"
     ]
    }
   ],
   "execution_count": 5
  },
  {
   "cell_type": "code",
   "id": "initial_id",
   "metadata": {
    "collapsed": true,
    "ExecuteTime": {
     "end_time": "2024-08-12T20:31:33.991201Z",
     "start_time": "2024-08-12T20:31:33.988576Z"
    }
   },
   "source": "dir = '/home/rosendahl/remote_interpreter/dataset/jupyter/data/sequences_export_benign_filetypes_more/'",
   "outputs": [],
   "execution_count": 8
  },
  {
   "metadata": {
    "ExecuteTime": {
     "end_time": "2024-08-12T20:37:17.191246Z",
     "start_time": "2024-08-12T20:37:17.188519Z"
    }
   },
   "cell_type": "code",
   "source": [
    "event_types = {}\n",
    "user_types = {}\n",
    "fo_types = {}\n",
    "path_types = {}\n",
    "net_addr_types = {}\n",
    "net_port_types = {}"
   ],
   "id": "27937127ce1e3e40",
   "outputs": [],
   "execution_count": 22
  },
  {
   "metadata": {
    "ExecuteTime": {
     "end_time": "2024-08-12T20:38:00.830405Z",
     "start_time": "2024-08-12T20:37:26.776914Z"
    }
   },
   "cell_type": "code",
   "source": [
    "# for file in dir\n",
    "for file in os.listdir(dir):\n",
    "    # open file\n",
    "    with open(dir + file, 'r') as f:\n",
    "        for line in f:\n",
    "            if line.count(',') == 13:\n",
    "                event, user, fo1_type, fo2_type, path1, path2, net1_localaddr, net1_localport, net1_remoteaddr, net1_remoteport, net2_localaddr, net2_localport, net2_remoteaddr, net2_remoteport = line.split(',')\n",
    "            else:\n",
    "                continue\n",
    "            \n",
    "            event_types[event] = event_types.get(event, 0) + 1\n",
    "            user_types[user] = user_types.get(user, 0) + 1\n",
    "            fo_types[fo1_type] = fo_types.get(fo1_type, 0) + 1\n",
    "            fo_types[fo2_type] = fo_types.get(fo2_type, 0) + 1\n",
    "            path_types[path1] = path_types.get(path1, 0) + 1\n",
    "            path_types[path2] = path_types.get(path2, 0) + 1\n",
    "            net_addr_types[net1_localaddr] = net_addr_types.get(net1_localaddr, 0) + 1\n",
    "            net_addr_types[net1_remoteaddr] = net_addr_types.get(net1_remoteaddr, 0) + 1\n",
    "            net_addr_types[net2_localaddr] = net_addr_types.get(net2_localaddr, 0) + 1\n",
    "            net_addr_types[net2_remoteaddr] = net_addr_types.get(net2_remoteaddr, 0) + 1\n",
    "            net_port_types[net1_localport] = net_port_types.get(net1_localport, 0) + 1\n",
    "            net_port_types[net1_remoteport] = net_port_types.get(net1_remoteport, 0) + 1\n",
    "            net_port_types[net2_localport] = net_port_types.get(net2_localport, 0) + 1\n",
    "            net_port_types[net2_remoteport] = net_port_types.get(net2_remoteport, 0) + 1\n"
   ],
   "id": "b3772817759fb9c3",
   "outputs": [],
   "execution_count": 23
  },
  {
   "metadata": {
    "ExecuteTime": {
     "end_time": "2024-08-12T20:38:00.834199Z",
     "start_time": "2024-08-12T20:38:00.831493Z"
    }
   },
   "cell_type": "code",
   "source": [
    "print(f'{len(event_types)=}')\n",
    "print(f'{len(user_types)=}')\n",
    "print(f'{len(fo_types)=}')\n",
    "print(f'{len(path_types)=}')\n",
    "print(f'{len(net_addr_types)=}')\n",
    "print(f'{len(net_port_types)=}')"
   ],
   "id": "6a4785aab2ad81f7",
   "outputs": [
    {
     "name": "stdout",
     "output_type": "stream",
     "text": [
      "len(event_types)=29\n",
      "len(user_types)=17\n",
      "len(fo_types)=7\n",
      "len(path_types)=242704\n",
      "len(net_addr_types)=547\n",
      "len(net_port_types)=15623\n"
     ]
    }
   ],
   "execution_count": 24
  },
  {
   "metadata": {
    "ExecuteTime": {
     "end_time": "2024-08-12T20:38:38.852648Z",
     "start_time": "2024-08-12T20:38:38.780218Z"
    }
   },
   "cell_type": "code",
   "source": [
    "# find only absolute paths in path_types\n",
    "abs_path_types = {}\n",
    "for path in path_types:\n",
    "    if path.startswith('/'):\n",
    "        abs_path_types[path] = path_types[path]\n",
    "\n",
    "print(f'{len(abs_path_types)=}')\n",
    "print(f'abs path percentage: {len(abs_path_types) / len(path_types) * 100:.2f}%')"
   ],
   "id": "3916c9133a15f5ff",
   "outputs": [
    {
     "name": "stdout",
     "output_type": "stream",
     "text": [
      "len(abs_path_types)=239868\n",
      "abs path percentage: 98.83%\n"
     ]
    }
   ],
   "execution_count": 26
  },
  {
   "metadata": {
    "ExecuteTime": {
     "end_time": "2024-08-12T20:40:49.029754Z",
     "start_time": "2024-08-12T20:40:48.963671Z"
    }
   },
   "cell_type": "code",
   "source": [
    "top_directories = {}\n",
    "for path in abs_path_types:\n",
    "    top_dir = path.split('/')[1]\n",
    "    top_directories[top_dir] = top_directories.get(top_dir, 0) + 1\n",
    "    \n",
    "print(f'{len(top_directories)=}')"
   ],
   "id": "72433fc1512dd45",
   "outputs": [
    {
     "name": "stdout",
     "output_type": "stream",
     "text": [
      "len(top_directories)=21\n"
     ]
    }
   ],
   "execution_count": 30
  },
  {
   "metadata": {
    "ExecuteTime": {
     "end_time": "2024-08-12T20:40:51.193532Z",
     "start_time": "2024-08-12T20:40:51.112491Z"
    }
   },
   "cell_type": "code",
   "source": [
    "# pie plot top directories\n",
    "fig, ax = plt.subplots()\n",
    "ax.pie(top_directories.values(), labels=top_directories.keys(), autopct='%1.1f%%')\n",
    "plt.show()"
   ],
   "id": "4d41b8a984e4d6db",
   "outputs": [
    {
     "data": {
      "text/plain": [
       "<Figure size 640x480 with 1 Axes>"
      ],
      "image/png": "[encoded data removed]"
     },
     "metadata": {},
     "output_type": "display_data"
    }
   ],
   "execution_count": 31
  },
  {
   "metadata": {
    "ExecuteTime": {
     "end_time": "2024-08-12T20:43:38.008796Z",
     "start_time": "2024-08-12T20:43:37.895345Z"
    }
   },
   "cell_type": "code",
   "source": [
    "# top lvl 2 directories\n",
    "lvl2_directories = {}\n",
    "for path in abs_path_types:\n",
    "    lvl2_dir = path.split('/')[2] if len(path.split('/')) > 2 else None\n",
    "    lvl2_directories[lvl2_dir] = lvl2_directories.get(lvl2_dir, 0) + 1\n",
    "    \n",
    "print(f'{len(lvl2_directories)=}')"
   ],
   "id": "885745d9819033b1",
   "outputs": [
    {
     "name": "stdout",
     "output_type": "stream",
     "text": [
      "len(lvl2_directories)=702\n"
     ]
    }
   ],
   "execution_count": 33
  },
  {
   "metadata": {
    "ExecuteTime": {
     "end_time": "2024-08-12T20:43:49.039669Z",
     "start_time": "2024-08-12T20:43:49.036604Z"
    }
   },
   "cell_type": "code",
   "source": "print(lvl2_directories)",
   "id": "3ef0ba8c47ab8b4e",
   "outputs": [
    {
     "name": "stdout",
     "output_type": "stream",
     "text": [
      "{'libmap.conf': 1, 'run': 42, 'libdevstat.so.7': 1, 'libkvm.so.7': 1, 'lib': 99, 'libxo.so.0': 1, 'libutil.so.9': 1, 'libc.so.7': 1, 'libelf.so.2': 1, 'hpet0': 1, 'share': 1134, 'gather_stats_uma.txt': 1, 'dmesg': 1, 'ld-elf.so.1': 1, 'local': 67035, 'null': 1, 'mem': 1, 'kmem': 1, 'nsswitch.conf': 1, 'pwd.db': 1, 'darpa': 7, 'resolv.conf': 1, 'hosts': 1, 'services': 1, 'sleep': 1, 'date': 1, 'home': 3043, 'bin': 51, 'db': 62, 'mv': 1, 'libncursesw.so.8': 1, 'libm.so.5': 1, 'libjail.so.1': 1, 'libncurses.so.8': 1, 'tty': 1, 'profile': 1, 'user': 713, 'unlink': 1, 'libcrypto.so.8': 1, 'libcrypt.so.5': 1, 'spwd.db': 1, 'pam.d': 7, 'login.conf': 1, 'group': 1, 'bob': 483, 'random': 1, 'pts': 8, 'motd': 1, 'dd': 1, 'mail': 3411, 'hosts.allow': 1, 'libthr.so.3': 1, 'libcxxrt.so.1': 1, 'libgcc_s.so.1': 1, 'spool': 2581, 'aliases.db': 1, 'libedit.so.7': 1, 'dhclient-script': 1, 'resolvconf': 3, 'libexec': 79, 'defaults': 6, 'rc.conf': 1, 'rc.conf.local': 1, 'cp': 1, None: 20, 'sh': 1, 'irene': 1, '.31.29cba': 1, 'opiekeys': 1, 'login.access': 1, 'at': 8, 'cat': 1, 'adjkerntz': 1, 'periodic.SLkqnPxgKs': 1, 'libsbuf.so.6': 1, 'sysctl': 1, 'george': 604, '.31.29d08': 1, 'msgs': 3, 'expr': 1, '.31.29ada': 1, 'frank': 653, '.31.29ade': 1, 'mkdir': 1, 'rm': 1, 'periodic.rX7jZdHj07': 1, 'periodic.w3GjijLfd8': 1, 'periodic': 52, 'backups': 15, 'cache': 163, 'tmp.RQ416d': 1, '.31.29791': 1, 'tmp.PwS04v': 1, 'empty': 3, 'sbin': 14, 'libz.so.6': 1, 'ssl': 4, 'ssh': 10, 'gss': 3, 'libmd.so.6': 1, 'security': 6, 'log': 49, 'periodic.iSUHvHA1G2': 1, 'periodic.pNaS6E4xL6': 1, 'hostname': 1, '.': 3, '..': 16, 'dtb': 2, 'autofs': 2, 'bluetooth': 2, 'cron.d': 2, 'deploy-keys': 2, 'devd': 2, 'geom': 2, '.ICE-unix': 2, '.X11-unix': 2, '.XIM-unix': 2, '.font-unix': 2, 'hsperfdata_darpa': 2, 'hsperfdata_root': 2, 'hsperfdata_ta3': 2, 'screens': 5, 'tmux-1003': 2, 'vUGefai': 2, 'include': 366, 'lib32': 6, 'libdata': 8, 'obj': 7278, 'ports': 78367, 'games': 6, 'heimdal': 2, 'preserve': 3, 'private': 4, 'rwho': 3, 'tmp': 27, 'unbound': 4, 'yp': 2, '.snap': 2, 'error': 2, 'sav': 2, 'ufs': 23781, 'update': 34642, 'kldstat': 1, 'lib80211.so.1': 1, 'libbsdxml.so.4': 1, 'mac.conf': 1, 'newsyslog.conf': 1, 'newsyslog.conf.d': 9, 'henry': 172, '.31.3022e': 1, 'ipfw': 1, 'kill': 1, 'stderr': 1, 'periodic.L7oz7KTJ1r': 1, 'tmp.C0pQ3Y': 1, '.31.29ad6': 1, '.31.29adf': 1, 'libcasper.so.0': 1, 'casper': 3, 'libipsec.so.4': 1, 'libnv.so.0': 1, 'mail.rc': 1, 'mail.Rs21ayB9vpqh': 1, 'periodic.YmcbBEdVzh': 1, 'ps': 1, 'security.BpzAvNDs': 1, 'tmp.mzRAr3': 1, '.31.29182': 1, 'route': 1, 'security.NN4mPWN2': 1, 'ls': 1, 'periodic.a6m3W1fAyO': 1, 'charles': 220, '.31.2979c': 1, 'periodic.96nfPHRrmQ': 1, 'security.ooxmTtEN': 1, '.31.3023c': 1, 'tmp.eEJpA5': 1, 'ttys': 1, 'tmp.iRypD8': 1, 'admin': 30, 'tmp.uWtL9J': 1, 'tmp.lMuGes': 1, 'security.q5itQorA': 1, '.31.29d0a': 1, 'tmp.88V3fG': 1, 'tmp.upSdrQ': 1, 'tmp.SU3ZhP': 1, 'periodic.Pa6jSGpSK1': 1, 'tmp.OE6MX7': 1, 'tmp.2Ubcvt': 1, 'security.SXaQqnAO': 1, 'periodic.HC2Z3771oA': 1, 'pkg': 4, 'periodic.anticongestion.29HHMImIaO': 1, '': 6, 'periodic.anticongestion.X8Wy5HsywF': 1, 'tmp.YXV2ha': 1, 'periodic.RY12zFKNKS': 1, '.31.29b51': 1, 'tmp.3F22ml': 1, 'tmp.5KBQ8L': 1, 'tmp.LKXf0O': 1, 'tmp.T8Cvjk': 1, 'rc.subr': 1, 'tmp.PHBJYs': 1, 'tmp.Si9zhw': 1, 'urandom': 1, 'periodic.GlW9DzIYuc': 1, 'tmp.laKDK0': 1, 'security.7YItLXOMHR': 1, '.31.29adb': 1, 'tmp.zgaxII': 1, 'tmp.NkLi6Z': 1, 'tmp.7FHSAY': 1, 'tmp.kar342': 1, 'tmp.iYIoV0': 1, 'tmp.CrmRmu': 1, 'tmp.M44yxs': 1, 'tmp.mMeUKF': 1, 'tmp.CaouBJ': 1, 'df': 1, 'tmp.tIks8G': 1, 'tmp.QJrUeC': 1, 'kenv': 1, 'tmp.go5GQI': 1, 'vuln.xml.bz2.dDkhs8Vz': 1, 'periodic.Gu2SGveu5C': 1, 'tmp.AQT27J': 1, '.31.29b50': 1, 'tmp.JpMMfk': 1, 'tmp.Wa03Gn': 1, 'tmp.zw90Ll': 1, 'tmp.9GuZ03': 1, 'security.2bc9nB5H': 1, 'periodic.NGmpaYSBHt': 1, 'tmp.6T0kxF': 1, 'tmp.KeTizL': 1, 'periodic.iBv1NTNPyb': 1, 'periodic.anticongestion.nYioqDba5F': 1, 'tmp.PSBWm6': 1, 'periodic.HbozQLofBO': 1, 'mail.Rspg3D8fDbZw': 1, 'fstab': 1, 'tmp.1LXPtF': 1, 'security.rksCz8bA': 1, 'tmp.MlVc1P': 1, 'tmp.sEE0M4': 1, 'master.passwd': 1, 'tmp.YyiWjp': 1, 'tmp.1Ky72Z': 1, 'mount': 1, 'networks': 1, 'vi.5ULruV86er': 1, 'bt.5XYNFMXVam': 1, 'vi.6Z6LWD5cv6': 1, 'bt.jP7FwDNS7K': 1, '.31.29b4b': 1, 'mail.RsQ5DT5sxGq4': 1, 'periodic.MhPLYQ23Gd': 1, 'periodic.TuH1BY2ZT9': 1, 'tmp.dkOZCj': 1, 'periodic.Skx0zPTRQc': 1, 'periodic.anticongestion.pIx5VMwdUm': 1, 'tmp.gqX4AB': 1, 'tmp.YY4u61': 1, 'tmp.7xjIod': 1, 'tmp.1Fmh3k': 1, 'tmp.Jc8HTn': 1, 'tmp.fXDxwh': 1, 'tmp.NTFh2l': 1, 'security.NF8hs583': 1, 'tmp.khKaMO': 1, 'periodic.xgfnFfTNd0': 1, 'security.1X1ptcpW': 1, 'tmp.oS3jZW': 1, 'vuln.xml.bz2.o7a3STbz': 1, 'security.Zvc8DpRsyj': 1, 'tmp.q23RWl': 1, 'tmp.mswKiT': 1, 'tmp.obgaUZ': 1, 'tmp.vMSWgj': 1, 'tmp.tnfeWF': 1, 'csh': 1, 'security.j07caGyi': 1, 'tmp.1A70mK': 1, 'libpcap.so.8': 1, 'tmp.UYxslr': 1, 'firmware': 2, 'kernel': 2, 'kernel.old': 2, 'modules': 2, 'zfs': 4, 'X11': 2, 'dma': 2, 'mtree': 2, 'ntp': 3, 'ppp': 2, 'rc.conf.d': 2, 'rc.d': 3, 'skel': 2, 'syslog.d': 2, '.cache': 316, '.subversion': 12, '.vim': 2, 'src': 12749, 'tmp.8n5G04': 1, 'periodic.dBBHXr76Tn': 1, 'tmp.vdMyoi': 1, 'tmp.fm2aV6': 1, 'tmp.nNQXEC': 1, '.31.29cda': 1, 'tmp.srOueM': 1, 'tmp.lGv3gW': 1, 'tmp.HMUDHW': 1, 'tmp.4YQYW7': 1, 'tmp.XlH37f': 1, '.31.29b43': 1, '.lsof_ta1-cadets': 1, 'periodic.anticongestion.AlNnVzKKj0': 1, 'tmp.S7XClB': 1, 'tmp.w4hvQa': 1, 'tmp.0r3pIP': 1, 'tmp.4Az8rG': 1, 'tmp.tOMKgb': 1, 'pfctl': 1, 'tmp.QLdnnF': 1, 'tmp.0j6Mbh': 1, 'tmp.6j71MX': 1, 'tmp.LzR3R5': 1, 'tmp.1HVWEY': 1, 'tmp.ldi9FB': 1, 'tmp.Oqal4I': 1, 'tmp.G7ATll': 1, 'tmp.XxobDh': 1, 'tmp.SOBcIL': 1, 'tmp.mjTayq': 1, 'shells': 1, 'security.WLtGqkQ3': 1, 'minions': 1, 'tmp.COENF0': 1, '.31.29d10': 1, 'tmp.L78VJP': 1, 'tmp.lslmr6': 1, 'locate.rc': 1, 'tmp.aSLDY3': 1, 'tmp.hHi4NE': 1, 'csh.cshrc': 1, 'csh.login': 1, '.cshrc': 1, '.history': 1, '.login': 1, 'tmp.gj8a4l': 1, 'tmp.MdA2jD': 1, 'security.UWcWyZWz': 1, 'tmp.7iQntE': 1, 'mail.RsowE3lf3sIa': 1, 'tmp.Mvt3m7': 1, 'tmp.wIv0g8': 1, 'tmp.bExPem': 1, 'tmp.Umioj3': 1, 'security.fuMPNMHj0W': 1, 'tmp.hchXIb': 1, 'tmp.rQkpMm': 1, 'tmp.sH7pxu': 1, 'tmp.isqG5F': 1, 'tmp.e9pXLJ': 1, 'security.rLNvx11J': 1, 'tmp.0M6TRM': 1, 'tmp.6P5i65': 1, 'tmp.sdPtur': 1, 'tmp.lqOh0s': 1, 'tmp.8cogj7': 1, 'security.MCZGvFTp': 1, 'ipfstat': 1, 'tmp.5nubgI': 1, 'tmp.cbj1Fz': 1, 'security.wGi8dH13': 1, 'tmp.wyB9Uj': 1, 'security.n79WK7RO': 1, 'tmp.fqGIJl': 1, 'tmp.DOxMe2': 1, 'tmp.tiatNI': 1, 'tmp.Mub4gv': 1, 'tmp.3zVcSU': 1, 'tmp.xsGrYk': 1, 'tmp.kgncJ8': 1, 'tmp.AN4ir6': 1, 'tmp.gNZco1': 1, 'tmp.yFU8sb': 1, 'tmp.SJj0JH': 1, 'mail.RsJZRhNCXNeY': 1, 'bpf0': 1, 'tmp.y2piOc': 1, 'devctl': 1, 'ping': 1, 'ssh-eatE02ke1c': 2, 'tmp.vSDUYQ': 1, 'tmp.8hiBKb': 1, 'security.WEIIVMas': 1, 'security.Xaecq9kib7': 1, 'tmp.2xe6lY': 1, 'libulog.so.0': 1, 'security.0Qy3MCL5': 1, 'tmp.dCFO68': 1, 'tmp.RNsFDW': 1, 'security.06G3esG2': 1, 'tmp.K6meJ9': 1, 'tmp.3JqLrU': 1, 'tmp.1GEYI4': 1, 'tmp.cu98hQ': 1, 'tmp.ZLIsmn': 1, 'tmp.nZO8HD': 1, 'security.JORrXLG5': 1, 'tmp.leSi2s': 1, 'security.kr7Ni1CQ': 1, '.lesshst': 1, 'bt.lS4XNA8fjt': 1, 'vi.Y8A8pDFS0E': 1, 'bt.C9Qj4aJhwY': 1, 'tmp.2qiwmY': 1, 'tmp.KWjuJE': 1, 'mail.RsFkNQcb59XY': 1, 'mail.RsooRvSLcXyz': 1, 'security.YOeM17Ry': 1, 'tmp.NxebRU': 1, 'passwd': 1, 'minion': 1, 'XIM': 1, 'main': 1, 'test': 1, 'tmp.NpwUgr': 1, 'vUgefal': 1, 'tmp.E2tBFI': 1, 'tmp.MjO3th': 1, 'tmp.sdZdLs': 1, 'tmp.vRtwOR': 1, 'security.FLp6JrKvku': 1, 'tmp.nij3Xp': 1, 'tests': 762, 'account': 2, 'audit': 6, 'authpf': 2, 'crash': 2, 'cron': 4, 'tmp.GPS54u': 1, 'tmp.aCWweE': 1, 'tmp.Gmnejd': 1, 'tmp.KMDb5u': 1, 'tmp.cGEGiv': 1, 'tmp.TIPJVw': 1, 'tmp.KLkXmY': 1, 'tmp.Cnyvu6': 1, 'security.pqcSKcT5': 1, 'tmp.W82Y15': 1, 'tmp.WtHbNy': 1, 'tmp.CKvlSu': 1, 'tmp.BRou9R': 1, 'tmp.GkKqIB': 1, 'tmp.wnRAAN': 1, 'tmp.gHOzF7': 1, 'tmp.NqzHkd': 1, 'tmp.IIqrXQ': 1, 'tmp.lvGJh5': 1, 'tmp.oRjuJ0': 1, 'tmp.QQjFbi': 1, 'tmp.iWXW54': 1, 'tmp.rwxoyD': 1, 'tmp.JQfCoW': 1, 'tmp.HOoquK': 1, 'tmp.paG54f': 1, 'tmp.06wacl': 1, 'tmp.ymmNBM': 1, 'tmp.s55SQM': 1, 'tmp.MoocY9': 1, 'tmp.ruZiMC': 1, 'tmp.yEnKbL': 1, 'tmp.mumulO': 1, 'tmp.OIos70': 1, 'tmp.IJsXr4': 1, 'tmp.G55AA5': 1, 'tmp.kDMTFl': 1, 'tmp.OHScmA': 1, 'tmp.TTxJid': 1, 'tmp.4WiPus': 1, 'tmp.j0cX9H': 1, 'tmp.lOv7UD': 1, 'tmp.KrBn0f': 1, 'tmp.Z8Zdgy': 1, 'tmp.d36BKq': 1, 'tmp.dWWJQw': 1, 'tmp.VCjNyP': 1, 'tmp.4IY32T': 1, 'tmp.PWhcTn': 1, 'tmp.Iy8KeE': 1, 'tmp.y1uDkj': 1, 'tmp.Fu8R0E': 1, 'periodic.anticongestion.EWaToes74F': 1, 'tmp.79UW2a': 1, 'tmp.4tjbrN': 1, 'tmp.maOhrm': 1, 'tmp.T96gaC': 1, 'tmp.r1Zbdd': 1, 'tmp.1blkf8': 1, 'vuln.xml.bz2.r4mj963L': 1, 'tmp.QGkd3o': 1, 'tmp.oWad1w': 1, 'tmp.PsixtX': 1, 'group.x7fbr6': 1, 'pw.vT9LD5': 1, 'tmp.C05oEB': 1, 'tmp.JeJBpr': 1, 'tmp.JIOdE1': 1, 'pwd.db.tmp': 1, 'spwd.db.tmp': 1, 'pw.vT9LD5.orig': 1, 'tmp.yIkkQa': 1, 'tmp.Z0AniC': 1, 'tmp.8Obq3y': 1, 'mail.Rsov0cytznYH': 1, 'tmp.roPdRn': 1, 'tmp.hBut3k': 1, 'security.lCNAqmnG': 1, 'tmp.o7tClP': 1, 'tmp.o8K7xe': 1, 'tmp.BRRsDz': 1, 'tmp.PCMxHB': 1, 'tmp.t7nTDC': 1, 'tmp.FnqfOB': 1, 'mail.Rs1CJFRiPfSg': 1, 'tmp.6sWhYB': 1, 'tmp.841WBu': 1, 'vuln.xml.bz2.RZItz9R1': 1, 'tmp.1IQraC': 1, 'tmp.CgqTyM': 1, 'tmp.i9PJYI': 1, 'tmp.ZD9qu2': 1, 'tmp.dAbhrE': 1, 'mail.RsA80SgOoLrb': 1, 'tmp.ASNR1s': 1, 'tmp.xejhBD': 1, 'tmp.omqX01': 1, 'tmp.xxjEV0': 1, 'security.3YoDJUcP': 1, 'tmp.2wAd5l': 1, 'security.hV7PbAro': 1, 'tmp.CLfG8g': 1, 'tmp.A7UeiT': 1, 'tmp.22eO1N': 1, 'tmp.rAwr9e': 1, 'tmp.C16gK3': 1, 'tmp.oY68Yy': 1, 'tmp.OX9SOV': 1, 'security.0wMC1s3f': 1, 'tmp.u6RlnJ': 1, 'tmp.qmCtGV': 1, 'tmp.8cAgBR': 1, 'dtrace': 1, 'gptid': 1, 'gpt': 1, 'usb': 1, 'fd': 1, 'reroot': 1, 'tmp.ui2EBA': 1, 'tmp.E6Rn12': 1, 'tmp.9w3vFp': 1, 'tmp.CUyfcI': 1, 'tmp.opyKKC': 1, 'tmp.Mse9mn': 1, 'tmp.71RNkb': 1, 'tmp.vgSeBr': 1, 'tmp.6y7DyV': 1, 'tmp.tUDOWu': 1, 'mail.RsV70V4PGVCm': 1, 'tmp.XS0FSn': 1, 'tmp.Fla5Kh': 1, 'tmp.kW3u7c': 1, 'tmp.yFSsL5': 1, 'tmp.imMmPu': 1, 'tmp.NbZbTw': 1, 'tmp.ETH4WI': 1, 'tmp.NMSVGW': 1, 'tmp.ubLig2': 1, 'tmp.kFLvEF': 1, 'security.NiR9vost': 1, 'stty': 1, 'tmp.aRhYlb': 1, 'tmp.brlKO3': 1, 'tmp.EdrMJu': 1, 'tmp.4SOUaM': 1, 'tmp.TdZDan': 1, 'tmp.8g3W4l': 1, 'tmp.Wc9ZfH': 1, 'tmp.aIErdf': 1, 'tmp.G2MHby': 1, 'tmp.JpIB3k': 1, '.31.29ad5': 1, '.31.29167': 1, 'security.a7ZH079V': 1, 'gettytab': 1, 'ttyv0': 1, 'periodic.TWkmZ7gwrS': 1, 'security.TnpEitFx': 1, 'tmp.uuynDS': 1, 'tmp.baLtm0': 1, 'tmp.YiSUUl': 1, 'tmp.nfu1xw': 1, 'security.a3MaHFhC': 1, 'tmp.Mye4El': 1, 'tmp.08oVkO': 1, 'periodic.anticongestion.bvM9VRCLl2': 1, 'tmp.7d57zs': 1, 'tmp.ZDhA2T': 1, 'tmp.AxSpXR': 1, 'tmp.L4Kn3K': 1, 'tmp.g3BpX8': 1, 'tmp.E4wmbs': 1, 'security.j0lqAdng': 1, 'tmp.MTpia6': 1, 'tmp.GcytWN': 1, 'security.5iprgHZ4': 1, 'tmp.h0dmCi': 1, 'tmp.Qbpu0F': 1, 'tmp.BQ7Zrm': 1, 'tmp.F7TRV1': 1, 'mail.RsJn5exiHjCA': 1, 'ifconfig': 1, 'tmp.Ucy4CW': 1, 'tmp.3AyNvc': 1, 'tmp.YoJub3': 1, 'tmp.871PHh': 1, 'tmp.ieQgdS': 1, 'periodic.anticongestion.dyvAVRhF0a': 1, 'tmp.XTUrZN': 1, 'tmp.Ynk4nq': 1, 'tmp.zWbh3b': 1, 'tmp.hLtrvO': 1, 'tmp.QsJNoP': 1, 'tmp.YbdTO8': 1, 'tmp.ch0kU2': 1, '.31.2979a': 1, 'tmp.ZVk9wm': 1, 'tmp.81uJO8': 1, 'security.32D9Hbk6': 1, 'tmp.pWJrS5': 1, 'tmp.RKx4yS': 1, 'tmp.hyVvdW': 1, 'tmp.HzascF': 1, 'tmp.HHlink': 1, 'tmp.xYOtgM': 1, 'tmp.oVgqtj': 1, 'tmp.8lAO2B': 1, 'bt.2njtxRuzYq': 1, 'vi.tc1iw4AyaU': 1, 'bt.62p4AM3dGi': 1, 'tmp.wz7Mmg': 1, 'tmp.uEQzA5': 1, 'tmp.DYfrBO': 1, 'tmp.DcKbpZ': 1, 'tmp.cAIR0x': 1, 'tmp.NiEJOo': 1, 'tmp.d7EcpQ': 1, 'tmp.eMulf3': 1, 'tmp.xFe4uG': 1, 'tmp.RP9ao3': 1, 'tmp.90kbiz': 1, 'tmp.qrPdtk': 1, 'tmp.8SxF9v': 1, 'tmp.zIg1p9': 1, 'tmp.TFq3AA': 1, 'tmp.zON82A': 1, 'tmp.SrpINO': 1, 'tmp.YuWJ4w': 1, 'tmp.J3dPSw': 1, 'tmp.qLedel': 1, 'tmp.GLM7Sr': 1, 'tmp.rHl6jB': 1, 'tmp.Mx0HwF': 1, 'security.qTnmczqx': 1, 'tmp.BVMhKq': 1, 'tmp.bLgnmo': 1, 'tmp.790at9': 1, 'tmp.Ekg0X6': 1, 'tmp.KByvAf': 1, 'tmp.s3GFu7': 1, 'tmp.DrmnMq': 1, 'tmp.mX6zBj': 1, 'bt.s28jGUt6gZ': 1, 'vi.pQKrd7vCAq': 1, 'bt.rOvAXEmSc6': 1, 'tmp.wTnCqe': 1, 'tmp.4fTior': 1, 'tmp.nEEC6u': 1, 'tmp.R7Ygda': 1, 'mail.RsOjqk24CzJo': 1, 'tmp.bQpIlE': 1, 'vuln.xml.bz2.lefQChqJ': 1, 'tmp.OJ3Aun': 1, 'tmp.uVBuox': 1, 'tmp.Eqj8vl': 1, 'tmp.YCLy5Z': 1, 'tmp.gom5mk': 1}\n"
     ]
    }
   ],
   "execution_count": 34
  },
  {
   "metadata": {
    "ExecuteTime": {
     "end_time": "2024-08-12T21:00:29.056848Z",
     "start_time": "2024-08-12T21:00:28.985356Z"
    }
   },
   "cell_type": "code",
   "source": [
    "# get all file endings\n",
    "file_endings = {}\n",
    "is_dir_count = 0\n",
    "for path in abs_path_types:\n",
    "    file_ending = path.split('.')[-1]\n",
    "    if file_ending in [ '..', '.', '']:\n",
    "        is_dir_count += 1\n",
    "        file_ending = 'dir'\n",
    "    if file_ending == path:\n",
    "        file_ending = 'no_extension'\n",
    "    if file_ending == '':\n",
    "        file_ending = 'no_extension'\n",
    "    file_endings[file_ending] = file_endings.get(file_ending, 0) + 1\n",
    "\n",
    "print(f'{len(file_endings)=}')\n",
    "print(f'{is_dir_count=}')"
   ],
   "id": "a6eaa3596723f024",
   "outputs": [
    {
     "name": "stdout",
     "output_type": "stream",
     "text": [
      "len(file_endings)=14231\n",
      "is_dir_count=88091\n"
     ]
    }
   ],
   "execution_count": 56
  },
  {
   "metadata": {
    "ExecuteTime": {
     "end_time": "2024-08-12T21:00:32.984382Z",
     "start_time": "2024-08-12T21:00:32.976651Z"
    }
   },
   "cell_type": "code",
   "source": [
    "# print top 25 file endings and their percentage of total\n",
    "sorted_file_endings = sorted(file_endings.items(), key=lambda x: x[1], reverse=True)\n",
    "for i in range(25):\n",
    "    print(f'{sorted_file_endings[i][0]}: {sorted_file_endings[i][1]} ({sorted_file_endings[i][1] / sum(file_endings.values()) * 100:.2f}%)')\n"
   ],
   "id": "9e82cc632c4f3757",
   "outputs": [
    {
     "name": "stdout",
     "output_type": "stream",
     "text": [
      "dir: 88350 (36.83%)\n",
      "no_extension: 59151 (24.66%)\n",
      "hpp: 6834 (2.85%)\n",
      "ta1-cadets: 5516 (2.30%)\n",
      "gz: 4921 (2.05%)\n",
      "ri: 4419 (1.84%)\n",
      "pyc: 3754 (1.57%)\n",
      "html: 3493 (1.46%)\n",
      "py: 3361 (1.40%)\n",
      "h: 3036 (1.27%)\n",
      "png: 2404 (1.00%)\n",
      "pyo: 2307 (0.96%)\n",
      "UTF-8: 2208 (0.92%)\n",
      "mo: 1279 (0.53%)\n",
      "ISO8859-1: 1176 (0.49%)\n",
      "ISO8859-15: 1036 (0.43%)\n",
      "elc: 910 (0.38%)\n",
      "rb: 826 (0.34%)\n",
      "tmp: 599 (0.25%)\n",
      "pm: 577 (0.24%)\n",
      "cmake: 576 (0.24%)\n",
      "svg: 549 (0.23%)\n",
      "so: 448 (0.19%)\n",
      "gif: 442 (0.18%)\n",
      "xml: 424 (0.18%)\n"
     ]
    }
   ],
   "execution_count": 57
  },
  {
   "metadata": {
    "ExecuteTime": {
     "end_time": "2024-08-12T20:48:57.426942Z",
     "start_time": "2024-08-12T20:48:57.420707Z"
    }
   },
   "cell_type": "code",
   "source": [
    "# get all privileged ports\n",
    "priv_ports = set()\n",
    "for port in net_port_types:\n",
    "    port = port.strip('\\n')\n",
    "    if not port.isdigit():\n",
    "        continue\n",
    "    if 0 <= int(port) < 1024:\n",
    "        priv_ports.add(int(port))\n",
    "        \n",
    "priv_ports = sorted(list(priv_ports))\n",
    "\n",
    "print(f'{len(priv_ports)=}')\n",
    "print(priv_ports)"
   ],
   "id": "32a01b35572a6c04",
   "outputs": [
    {
     "name": "stdout",
     "output_type": "stream",
     "text": [
      "len(priv_ports)=8\n",
      "[1, 22, 25, 53, 67, 80, 143, 512]\n"
     ]
    }
   ],
   "execution_count": 42
  },
  {
   "metadata": {},
   "cell_type": "markdown",
   "source": [
    "1: TCP Port Service Multiplexer  \n",
    "22: ssh  \n",
    "25: smtp  \n",
    "53: dns  \n",
    "67: bootps  \n",
    "80: http  \n",
    "143: imap  \n",
    "512: remote process execution  "
   ],
   "id": "b799d778321e071d"
  },
  {
   "metadata": {
    "ExecuteTime": {
     "end_time": "2024-08-12T20:52:56.831868Z",
     "start_time": "2024-08-12T20:52:56.824988Z"
    }
   },
   "cell_type": "code",
   "source": [
    "# get percentage of privileged ports\n",
    "priv_port_count = 0\n",
    "for port in net_port_types:\n",
    "    port = port.strip('\\n')\n",
    "    if not port.isdigit():\n",
    "        continue\n",
    "    if 0 <= int(port) < 1024:\n",
    "        priv_port_count += net_port_types[port]\n",
    "\n",
    "print(f'{priv_port_count=}')\n",
    "print(f'priv port percentage: {priv_port_count / sum(net_port_types.values()) * 100:.2f}%')"
   ],
   "id": "57ae31204f5c6c77",
   "outputs": [
    {
     "name": "stdout",
     "output_type": "stream",
     "text": [
      "priv_port_count=335895\n",
      "priv port percentage: 0.47%\n"
     ]
    }
   ],
   "execution_count": 43
  },
  {
   "metadata": {
    "ExecuteTime": {
     "end_time": "2024-08-12T21:06:32.006008Z",
     "start_time": "2024-08-12T21:06:18.026033Z"
    }
   },
   "cell_type": "code",
   "source": [
    "# check if there are any lines where both net1 and net2 are present\n",
    "both_net_count = 0\n",
    "\n",
    "for file in os.listdir(dir):\n",
    "    with open(dir + file, 'r') as f:\n",
    "        for line in f:\n",
    "            if line.count(',') == 13:\n",
    "                event, user, fo1_type, fo2_type, path1, path2, net1_localaddr, net1_localport, net1_remoteaddr, net1_remoteport, net2_localaddr, net2_localport, net2_remoteaddr, net2_remoteport = line.split(',')\n",
    "            else:\n",
    "                continue\n",
    "            \n",
    "            if net1_localaddr != 'None' and net2_localaddr != 'None':\n",
    "                both_net_count += 1\n",
    "\n",
    "print(f'{both_net_count=}')"
   ],
   "id": "e1b768ce49d77b77",
   "outputs": [
    {
     "name": "stdout",
     "output_type": "stream",
     "text": [
      "both_net_count=7309\n"
     ]
    }
   ],
   "execution_count": 58
  }
 ],
 "metadata": {
  "kernelspec": {
   "display_name": "Python 3",
   "language": "python",
   "name": "python3"
  },
  "language_info": {
   "codemirror_mode": {
    "name": "ipython",
    "version": 2
   },
   "file_extension": ".py",
   "mimetype": "text/x-python",
   "name": "python",
   "nbconvert_exporter": "python",
   "pygments_lexer": "ipython2",
   "version": "2.7.6"
  }
 },
 "nbformat": 4,
 "nbformat_minor": 5
}
