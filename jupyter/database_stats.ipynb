{
 "cells": [
  {
   "cell_type": "code",
   "execution_count": null,
   "id": "initial_id",
   "metadata": {
    "collapsed": true
   },
   "outputs": [],
   "source": "# get general info about the database"
  },
  {
   "metadata": {},
   "cell_type": "markdown",
   "source": "# setup",
   "id": "93882c13440db35"
  },
  {
   "metadata": {
    "ExecuteTime": {
     "end_time": "2024-05-11T10:13:44.862576Z",
     "start_time": "2024-05-11T10:13:44.845792Z"
    }
   },
   "cell_type": "code",
   "source": "import psycopg2",
   "id": "bd44b96021d1aa97",
   "outputs": [],
   "execution_count": 1
  },
  {
   "metadata": {
    "ExecuteTime": {
     "end_time": "2024-05-11T10:21:42.003202Z",
     "start_time": "2024-05-11T10:21:41.832326Z"
    }
   },
   "cell_type": "code",
   "source": [
    "# get connection\n",
    "conn = psycopg2.connect(\n",
    "    host='localhost',\n",
    "    database='cadets_e3_original',\n",
    "    user='rosendahl',\n",
    ")\n",
    "\n",
    "cur = conn.cursor()"
   ],
   "id": "7444ab3909c4c380",
   "outputs": [],
   "execution_count": 28
  },
  {
   "metadata": {
    "ExecuteTime": {
     "end_time": "2024-05-11T10:17:46.287314Z",
     "start_time": "2024-05-11T10:17:46.267133Z"
    }
   },
   "cell_type": "code",
   "source": [
    "# get tables\n",
    "query = '''\n",
    "select table_name\n",
    "from information_schema.tables\n",
    "where table_schema = 'public'\n",
    "'''\n",
    "\n",
    "cur.execute(query)\n",
    "tables_result = cur.fetchall()"
   ],
   "id": "36819ea2b48254b0",
   "outputs": [],
   "execution_count": 11
  },
  {
   "metadata": {
    "ExecuteTime": {
     "end_time": "2024-05-11T10:18:28.097661Z",
     "start_time": "2024-05-11T10:18:28.094939Z"
    }
   },
   "cell_type": "code",
   "source": [
    "# transform into list\n",
    "tables = [table[0] for table in tables_result]\n",
    "# discard event partition tables\n",
    "tables = [table for table in tables if not table.startswith('event_p')]\n",
    "\n",
    "display(tables)"
   ],
   "id": "a43a16971917f2c",
   "outputs": [
    {
     "data": {
      "text/plain": [
       "['event_import',\n",
       " 'event',\n",
       " 'fileobject',\n",
       " 'host',\n",
       " 'netflowobject',\n",
       " 'node_uuids',\n",
       " 'principal',\n",
       " 'srcsinkobject',\n",
       " 'subject',\n",
       " 'unnamedpipeobject']"
      ]
     },
     "metadata": {},
     "output_type": "display_data"
    }
   ],
   "execution_count": 15
  },
  {
   "metadata": {
    "ExecuteTime": {
     "end_time": "2024-05-11T10:24:56.617247Z",
     "start_time": "2024-05-11T10:24:50.807447Z"
    }
   },
   "cell_type": "code",
   "source": [
    "# get number of rows in each table\n",
    "table_row_count = {}\n",
    "\n",
    "for table in tables:\n",
    "    query = f'''\n",
    "    select count(*)\n",
    "    from {table}\n",
    "    '''\n",
    "    \n",
    "    cur.execute(query)\n",
    "    table_row_count[table] = cur.fetchone()[0]"
   ],
   "id": "c07cab1b7f517be8",
   "outputs": [],
   "execution_count": 32
  },
  {
   "metadata": {
    "ExecuteTime": {
     "end_time": "2024-05-11T10:27:41.053124Z",
     "start_time": "2024-05-11T10:27:41.049828Z"
    }
   },
   "cell_type": "code",
   "source": [
    "# transform to list of tuples\n",
    "table_row_count_list = [(table, count) for table, count in table_row_count.items()]\n",
    "table_row_count_list.sort(key=lambda x: x[1], reverse=True)\n",
    "display(table_row_count_list)"
   ],
   "id": "c27369ee311316f0",
   "outputs": [
    {
     "data": {
      "text/plain": [
       "[('event', 41350895),\n",
       " ('node_uuids', 3053444),\n",
       " ('fileobject', 2503402),\n",
       " ('event_import', 443746),\n",
       " ('subject', 224629),\n",
       " ('netflowobject', 155322),\n",
       " ('srcsinkobject', 113350),\n",
       " ('unnamedpipeobject', 56675),\n",
       " ('principal', 63),\n",
       " ('host', 3)]"
      ]
     },
     "metadata": {},
     "output_type": "display_data"
    }
   ],
   "execution_count": 38
  },
  {
   "metadata": {},
   "cell_type": "markdown",
   "source": "# clean up",
   "id": "c3ec847893c684e3"
  },
  {
   "metadata": {
    "ExecuteTime": {
     "end_time": "2024-05-11T12:00:12.276424Z",
     "start_time": "2024-05-11T12:00:12.274585Z"
    }
   },
   "cell_type": "code",
   "source": [
    "cur.close()\n",
    "conn.close()"
   ],
   "id": "911c2acd9eafbaa3",
   "outputs": [],
   "execution_count": 39
  }
 ],
 "metadata": {
  "kernelspec": {
   "display_name": "Python 3",
   "language": "python",
   "name": "python3"
  },
  "language_info": {
   "codemirror_mode": {
    "name": "ipython",
    "version": 2
   },
   "file_extension": ".py",
   "mimetype": "text/x-python",
   "name": "python",
   "nbconvert_exporter": "python",
   "pygments_lexer": "ipython2",
   "version": "2.7.6"
  }
 },
 "nbformat": 4,
 "nbformat_minor": 5
}
