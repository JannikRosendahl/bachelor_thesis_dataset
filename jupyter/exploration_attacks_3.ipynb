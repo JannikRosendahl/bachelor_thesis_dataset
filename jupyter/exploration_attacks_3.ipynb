{
 "cells": [
  {
   "cell_type": "code",
   "id": "initial_id",
   "metadata": {
    "collapsed": true,
    "ExecuteTime": {
     "end_time": "2024-05-21T12:48:20.714270Z",
     "start_time": "2024-05-21T12:48:20.452884Z"
    }
   },
   "source": [
    "import psycopg2\n",
    "import numpy as np\n",
    "import matplotlib.pyplot as plt\n",
    "import os"
   ],
   "outputs": [],
   "execution_count": 1
  },
  {
   "metadata": {
    "ExecuteTime": {
     "end_time": "2024-05-21T12:48:21.737235Z",
     "start_time": "2024-05-21T12:48:21.728466Z"
    }
   },
   "cell_type": "code",
   "source": [
    "# setup connection\n",
    "conn = psycopg2.connect(\n",
    "    host='localhost',\n",
    "    database='cadets_e3',\n",
    "    user='rosendahl',\n",
    ")\n",
    "conn.set_session(readonly=True)\n",
    "# get cursor\n",
    "cur = conn.cursor()"
   ],
   "id": "78bfecf6f0283f20",
   "outputs": [],
   "execution_count": 2
  },
  {
   "metadata": {
    "ExecuteTime": {
     "end_time": "2024-05-21T12:48:23.884277Z",
     "start_time": "2024-05-21T12:48:23.831051Z"
    }
   },
   "cell_type": "code",
   "source": [
    "# debug\n",
    "os.system(\"hostnamectl hostname\")\n",
    "print(f'current working directory: {os.getcwd()}')"
   ],
   "id": "2e9254931fc8f991",
   "outputs": [
    {
     "name": "stdout",
     "output_type": "stream",
     "text": [
      "vmrosendahl\n",
      "current working directory: /home/rosendahl/remote_interpreter/dataset/jupyter\n"
     ]
    }
   ],
   "execution_count": 3
  },
  {
   "metadata": {
    "ExecuteTime": {
     "end_time": "2024-05-21T12:48:26.530360Z",
     "start_time": "2024-05-21T12:48:26.527456Z"
    }
   },
   "cell_type": "code",
   "source": [
    "# load subject_blacklist\n",
    "subject_blacklist = set()\n",
    "with open('data/blacklisted_subjects.txt', 'r') as file:\n",
    "    for line in file:\n",
    "        subject_blacklist.add(line.strip())"
   ],
   "id": "9de6654070dc9dcd",
   "outputs": [],
   "execution_count": 4
  },
  {
   "metadata": {
    "ExecuteTime": {
     "end_time": "2024-05-21T13:11:52.321971Z",
     "start_time": "2024-05-21T13:11:45.930135Z"
    }
   },
   "cell_type": "code",
   "source": [
    "# get column names\n",
    "query = '''\n",
    "select distinct *\n",
    "from event e\n",
    "join subject s\n",
    "    on e.subject_uuid = s.uuid\n",
    "join principal p\n",
    "    on s.localprincipal = p.uuid\n",
    "left join fileobject fo1\n",
    "    on e.predicateobject_uuid = fo1.uuid\n",
    "left join fileobject fo2\n",
    "    on e.predicateobject2_uuid = fo2.uuid\n",
    "left join netflowobject nfo1\n",
    "    on e.predicateobject_uuid = nfo1.uuid\n",
    "left join netflowobject nfo2\n",
    "    on e.predicateobject_uuid = nfo2.uuid\n",
    "limit 0;\n",
    "'''\n",
    "\n",
    "cur.execute(query)\n",
    "column_names = [desc[0] for desc in cur.description]\n",
    "print(column_names)\n",
    "\n",
    "index_event_uuid = column_names.index('uuid')\n",
    "index_subject_uuid = column_names.index('subject_uuid')\n",
    "print(f'index_event_uuid: {index_event_uuid}')\n",
    "print(f'index_subject_uuid: {index_subject_uuid}')"
   ],
   "id": "22ab6096ba73c437",
   "outputs": [
    {
     "name": "stdout",
     "output_type": "stream",
     "text": [
      "['ts', 'uuid', 'type', 'timestampnanos', 'sequence_long', 'threadid_int', 'subject_uuid', 'predicateobject_uuid', 'name_string', 'parameters_array', 'properties_map_return_value', 'properties_map_fd', 'properties_map_exec', 'properties_map_ppid', 'predicateobject2_uuid', 'properties_map_ret_fd2', 'properties_map_ret_fd1', 'predicateobjectpath_string', 'size_long', 'properties_map_partial_path', 'predicateobject2path_string', 'properties_map_arg_pid', 'properties_map_cmdline', 'properties_map_arg_mem_flags', 'properties_map_arg_euid', 'properties_map_arg_suid', 'properties_map_arg_ruid', 'properties_map_arg_rgid', 'properties_map_arg_egid', 'properties_map_arg_sgid', 'properties_map_address', 'properties_map_ret_msgid', 'properties_map_arg_uid', 'properties_map_arg_gid', 'properties_map_arg_miouuid', 'properties_map_port', 'properties_map_login', 'properties_map_ret_miouuid', 'ts', 'uuid', 'cid', 'localprincipal', 'starttimestampnanos', 'parentsubject_uuid', 'uuid', 'userid', 'username_string', 'uuid', 'type', 'uuid', 'type', 'uuid', 'localaddress', 'localport', 'remoteaddress', 'remoteport', 'uuid', 'localaddress', 'localport', 'remoteaddress', 'remoteport']\n",
      "index_event_uuid: 1\n",
      "index_subject_uuid: 6\n"
     ]
    }
   ],
   "execution_count": 6
  },
  {
   "metadata": {
    "ExecuteTime": {
     "end_time": "2024-05-21T13:19:58.524690Z",
     "start_time": "2024-05-21T13:19:58.522310Z"
    }
   },
   "cell_type": "code",
   "source": [
    "event_blacklist = set()\n",
    "subject_blacklist = set()"
   ],
   "id": "e19c2af10b085dad",
   "outputs": [],
   "execution_count": 7
  },
  {
   "metadata": {
    "ExecuteTime": {
     "end_time": "2024-05-21T13:28:25.909715Z",
     "start_time": "2024-05-21T13:28:20.242875Z"
    }
   },
   "cell_type": "code",
   "source": [
    "# tape 1, 20180406\n",
    "keywords = [\n",
    "    'elevate',\n",
    "    'drakon',\n",
    "    'nrinfo',\n",
    "    'nrtcp',\n",
    "    '154.145.113.18',\n",
    "    '61.167.39.128',\n",
    "    './deploy/archive/libdrakon.freebsd.x64.so_152.111.159.139',\n",
    "    '/var/log/devc',\n",
    "    'foo',\n",
    "    '/var/log/devc',\n",
    "    'xxx',\n",
    "    '81.49.200.166',\n",
    "    '78.205.235.65',\n",
    "    '200.36.109.21',\n",
    "    '139.123.0.113',\n",
    "    '152.111.159.139',\n",
    "    '200.36.109.214',\n",
    "    'shellcode_server',\n",
    "    'loaderDrakon.freebsd.x64',\n",
    "    'drakon.freebsd.x64',\n",
    "    'netrecon',\n",
    "    '(nrtcp fail)',\n",
    "    '(nrtcp success)',\n",
    "    '/tmp/vUgefal',\n",
    "    '/var/log/devc',\n",
    "    '/dev/gtx_dsa_675',\n",
    "    '91.49.200.18',\n",
    "    'nginx',\n",
    "    '/etc/passwd',\n",
    "    '/etc/group',\n",
    "    'stage 1',\n",
    "    'oc2',\n",
    "    '200.16.109.214',\n",
    "    'cmd_exec',\n",
    "    'vUgefal',\n",
    "    '139.123.0.133',\n",
    "    'sshd',\n",
    "]\n",
    "\n",
    "_event_blacklist = set()\n",
    "_subject_blacklist = set()\n",
    "\n",
    "query = '''\n",
    "select distinct *\n",
    "from event e\n",
    "join subject s\n",
    "    on e.subject_uuid = s.uuid\n",
    "join principal p\n",
    "    on s.localprincipal = p.uuid\n",
    "left join fileobject fo1\n",
    "    on e.predicateobject_uuid = fo1.uuid\n",
    "left join fileobject fo2\n",
    "    on e.predicateobject2_uuid = fo2.uuid\n",
    "left join netflowobject nfo1\n",
    "    on e.predicateobject_uuid = nfo1.uuid\n",
    "left join netflowobject nfo2\n",
    "    on e.predicateobject_uuid = nfo2.uuid\n",
    "where e.ts >= '2018-04-06 11:21'\n",
    "and e.ts <= '2018-04-06 12:08'\n",
    "'''\n",
    "\n",
    "cur.execute(query)\n",
    "\n",
    "for row in cur:\n",
    "    event_uuid = row[index_event_uuid]\n",
    "    subject_uuid = row[index_subject_uuid]\n",
    "    for keyword in keywords:\n",
    "        if keyword in row:\n",
    "            _event_blacklist.add(event_uuid)\n",
    "            _subject_blacklist.add(subject_uuid)\n",
    "\n",
    "print(f'blacklisted events: {len(_event_blacklist)}')\n",
    "print(f'blacklisted subjects: {len(_subject_blacklist)}')\n",
    "\n",
    "event_blacklist = event_blacklist.union(_event_blacklist)\n",
    "subject_blacklist = subject_blacklist.union(_subject_blacklist)"
   ],
   "id": "af79d5a38c3c9e7a",
   "outputs": [
    {
     "name": "stdout",
     "output_type": "stream",
     "text": [
      "blacklisted events: 365\n",
      "blacklisted subjects: 71\n"
     ]
    }
   ],
   "execution_count": 11
  },
  {
   "metadata": {
    "ExecuteTime": {
     "end_time": "2024-05-21T13:28:29.409454Z",
     "start_time": "2024-05-21T13:28:28.288248Z"
    }
   },
   "cell_type": "code",
   "source": [
    "# tape 2, 20180411\n",
    "keywords = [\n",
    "    '/tmp/grain',\n",
    "    '/etc/group',\n",
    "    'sshd',\n",
    "    'nignx'\n",
    "    '25.159.96.207',\n",
    "    '76.56.184.25',\n",
    "    '155.162.39.48',\n",
    "    '198.115.236.119',\n",
    "    '128.55.12.167',\n",
    "    'loaderDrakon',\n",
    "    'shellcode_server',\n",
    "    'libdrakon',\n",
    "    './deploy/archive/libdrakon.freebsd.x64.so_198.115.236.119',\n",
    "    'vUGefai'\n",
    "]\n",
    "\n",
    "_event_blacklist = set()\n",
    "_subject_blacklist = set()\n",
    "\n",
    "query = '''\n",
    "select distinct *\n",
    "from event e\n",
    "join subject s\n",
    "    on e.subject_uuid = s.uuid\n",
    "join principal p\n",
    "    on s.localprincipal = p.uuid\n",
    "left join fileobject fo1\n",
    "    on e.predicateobject_uuid = fo1.uuid\n",
    "left join fileobject fo2\n",
    "    on e.predicateobject2_uuid = fo2.uuid\n",
    "left join netflowobject nfo1\n",
    "    on e.predicateobject_uuid = nfo1.uuid\n",
    "left join netflowobject nfo2\n",
    "    on e.predicateobject_uuid = nfo2.uuid\n",
    "where e.ts >= '2018-04-11 15:08'\n",
    "and e.ts <= '2018-04-11 15:15'\n",
    "'''\n",
    "\n",
    "cur.execute(query)\n",
    "\n",
    "for row in cur:\n",
    "    event_uuid = row[index_event_uuid]\n",
    "    subject_uuid = row[index_subject_uuid]\n",
    "    for keyword in keywords:\n",
    "        if keyword in row:\n",
    "            _event_blacklist.add(event_uuid)\n",
    "            _subject_blacklist.add(subject_uuid)\n",
    "\n",
    "print(f'blacklisted events: {len(_event_blacklist)}')\n",
    "print(f'blacklisted subjects: {len(_subject_blacklist)}')\n",
    "\n",
    "event_blacklist = event_blacklist.union(_event_blacklist)\n",
    "subject_blacklist = subject_blacklist.union(_subject_blacklist)"
   ],
   "id": "5d4355ceab82473",
   "outputs": [
    {
     "name": "stdout",
     "output_type": "stream",
     "text": [
      "blacklisted events: 915\n",
      "blacklisted subjects: 24\n"
     ]
    }
   ],
   "execution_count": 12
  },
  {
   "metadata": {
    "ExecuteTime": {
     "end_time": "2024-05-21T13:31:37.523975Z",
     "start_time": "2024-05-21T13:31:32.300493Z"
    }
   },
   "cell_type": "code",
   "source": [
    "# tape 3, 20180412\n",
    "keywords = [\n",
    "    'shell',\n",
    "    'tmux-1002',\n",
    "    '/tmp/test',\n",
    "    'micro',\n",
    "    'scans',\n",
    "    '25.159.96.207',\n",
    "    '128.55.12.167',\n",
    "    '76.56.184.25',\n",
    "    '155.162.39.48',\n",
    "    '198.115.236.119',\n",
    "    '53.158.101.118',\n",
    "    '98.15.44.232',\n",
    "    '192.113.144.28',\n",
    "    'webserver',\n",
    "    'shellcode_server',\n",
    "    'loaderDrakon',\n",
    "    'libdrakon',\n",
    "    'drakon',\n",
    "    'sendmail',\n",
    "    'vUGefai',\n",
    "    './deploy/archive/microapt.freebsd.x64_98.15.44.232',\n",
    "    './deploy/archive/libdrakon.freebsd.x64.so_198.115.236.119',\n",
    "    '/tmp/font',\n",
    "    'font',\n",
    "    './deploy/archive/drakon.freebsd.x64_53.158.101.118',\n",
    "    'XIM',\n",
    "    'netlog',\n",
    "    'main',\n",
    "    'test',\n",
    "    '/tmp/tmux-1002',\n",
    "    '/tmp/minions',\n",
    "    '/tmp/font',\n",
    "    '/tmo/XIM',\n",
    "    '/var/log/netlog',\n",
    "    '/var/log/sendmail',\n",
    "    '/tmp/main',\n",
    "    '/tmp/test',\n",
    "    '128.55.12.67',\n",
    "    '128.55.12.141',\n",
    "    '128.55.12.110',\n",
    "    '128.55.12.118',\n",
    "    '128.55.12.10',\n",
    "    '128.55.12.1',\n",
    "    '128.55.12.55',\n",
    "]\n",
    "\n",
    "_event_blacklist = set()\n",
    "_subject_blacklist = set()\n",
    "\n",
    "query = '''\n",
    "select distinct *\n",
    "from event e\n",
    "join subject s\n",
    "    on e.subject_uuid = s.uuid\n",
    "join principal p\n",
    "    on s.localprincipal = p.uuid\n",
    "left join fileobject fo1\n",
    "    on e.predicateobject_uuid = fo1.uuid\n",
    "left join fileobject fo2\n",
    "    on e.predicateobject2_uuid = fo2.uuid\n",
    "left join netflowobject nfo1\n",
    "    on e.predicateobject_uuid = nfo1.uuid\n",
    "left join netflowobject nfo2\n",
    "    on e.predicateobject_uuid = nfo2.uuid\n",
    "where e.ts >= '2018-04-12 14:00'\n",
    "and e.ts <= '2018-04-12 14:38'\n",
    "'''\n",
    "\n",
    "cur.execute(query)\n",
    "\n",
    "for row in cur:\n",
    "    event_uuid = row[index_event_uuid]\n",
    "    subject_uuid = row[index_subject_uuid]\n",
    "    for keyword in keywords:\n",
    "        if keyword in row:\n",
    "            _event_blacklist.add(event_uuid)\n",
    "            _subject_blacklist.add(subject_uuid)\n",
    "\n",
    "print(f'blacklisted events: {len(_event_blacklist)}')\n",
    "print(f'blacklisted subjects: {len(_subject_blacklist)}')\n",
    "\n",
    "event_blacklist = event_blacklist.union(_event_blacklist)\n",
    "subject_blacklist = subject_blacklist.union(_subject_blacklist)"
   ],
   "id": "3c86902d88120be",
   "outputs": [
    {
     "name": "stdout",
     "output_type": "stream",
     "text": [
      "blacklisted events: 523\n",
      "blacklisted subjects: 58\n"
     ]
    }
   ],
   "execution_count": 14
  },
  {
   "metadata": {
    "ExecuteTime": {
     "end_time": "2024-05-21T13:33:36.810626Z",
     "start_time": "2024-05-21T13:33:35.557067Z"
    }
   },
   "cell_type": "code",
   "source": [
    "# tape 3, 20180413\n",
    "keywords = [\n",
    "    'reconnect',\n",
    "    'whoami',\n",
    "    'nc -s',\n",
    "    'shell',\n",
    "    './deploy/archive/drakon.freebsd.x64_53.158.101.118',\n",
    "    'pEja72mA',\n",
    "    './deploy/archive/libdrakon.freebsd.x64.so_198.115.236.119',\n",
    "    'eWq10bVcx',\n",
    "    'elevate',\n",
    "    '20691',\n",
    "    '/usr/sbin/sshd',\n",
    "    'inject',\n",
    "    'crash',\n",
    "    '25.159.96.207',\n",
    "    '128.55.12.73',\n",
    "    '128.55.12.167',\n",
    "    '76.56.184.25',\n",
    "    '155.162.39.48',\n",
    "    '98.115.236.119',\n",
    "    '53.158.101.118',\n",
    "    'memhelp.so',\n",
    "    'eraseme',\n",
    "    'done.so',\n",
    "    '78.205.235.65',\n",
    "    'nginx',\n",
    "    'sshd',\n",
    "    '/etc/group',\n",
    "    '/etc/passwd',\n",
    "    '/dec/gtx_dsa_675'\n",
    "]\n",
    "\n",
    "_event_blacklist = set()\n",
    "_subject_blacklist = set()\n",
    "\n",
    "query = '''\n",
    "select distinct *\n",
    "from event e\n",
    "join subject s\n",
    "    on e.subject_uuid = s.uuid\n",
    "join principal p\n",
    "    on s.localprincipal = p.uuid\n",
    "left join fileobject fo1\n",
    "    on e.predicateobject_uuid = fo1.uuid\n",
    "left join fileobject fo2\n",
    "    on e.predicateobject2_uuid = fo2.uuid\n",
    "left join netflowobject nfo1\n",
    "    on e.predicateobject_uuid = nfo1.uuid\n",
    "left join netflowobject nfo2\n",
    "    on e.predicateobject_uuid = nfo2.uuid\n",
    "where e.ts >= '2018-04-13 09:04'\n",
    "and e.ts <= '2018-04-13 09:15'\n",
    "'''\n",
    "\n",
    "cur.execute(query)\n",
    "\n",
    "for row in cur:\n",
    "    event_uuid = row[index_event_uuid]\n",
    "    subject_uuid = row[index_subject_uuid]\n",
    "    for keyword in keywords:\n",
    "        if keyword in row:\n",
    "            _event_blacklist.add(event_uuid)\n",
    "            _subject_blacklist.add(subject_uuid)\n",
    "\n",
    "print(f'blacklisted events: {len(_event_blacklist)}')\n",
    "print(f'blacklisted subjects: {len(_subject_blacklist)}')\n",
    "\n",
    "event_blacklist = event_blacklist.union(_event_blacklist)\n",
    "subject_blacklist = subject_blacklist.union(_subject_blacklist)"
   ],
   "id": "59787edfe5480bcc",
   "outputs": [
    {
     "name": "stdout",
     "output_type": "stream",
     "text": [
      "blacklisted events: 406\n",
      "blacklisted subjects: 8\n"
     ]
    }
   ],
   "execution_count": 15
  },
  {
   "metadata": {
    "ExecuteTime": {
     "end_time": "2024-05-21T13:36:34.578699Z",
     "start_time": "2024-05-21T13:34:50.924953Z"
    }
   },
   "cell_type": "code",
   "source": [
    "# print result\n",
    "print('total blacklist:')\n",
    "print(f'blacklisted events: {len(event_blacklist)}')\n",
    "print(f'blacklisted subjects: {len(subject_blacklist)}')\n",
    "\n",
    "query = f'''\n",
    "select count(distinct e.uuid)\n",
    "from event e\n",
    "where e.subject_uuid not in %s\n",
    "'''\n",
    "\n",
    "cur.execute(query, (tuple(subject_blacklist),))\n",
    "print(f'events after subject blacklist: {cur.fetchone()[0]}')"
   ],
   "id": "3b1fde7eef2d230",
   "outputs": [
    {
     "name": "stdout",
     "output_type": "stream",
     "text": [
      "total blacklist:\n",
      "blacklisted events: 2253\n",
      "blacklisted subjects: 169\n",
      "events after subject blacklist: 20586823\n"
     ]
    }
   ],
   "execution_count": 17
  }
 ],
 "metadata": {
  "kernelspec": {
   "display_name": "Python 3",
   "language": "python",
   "name": "python3"
  },
  "language_info": {
   "codemirror_mode": {
    "name": "ipython",
    "version": 2
   },
   "file_extension": ".py",
   "mimetype": "text/x-python",
   "name": "python",
   "nbconvert_exporter": "python",
   "pygments_lexer": "ipython2",
   "version": "2.7.6"
  }
 },
 "nbformat": 4,
 "nbformat_minor": 5
}
